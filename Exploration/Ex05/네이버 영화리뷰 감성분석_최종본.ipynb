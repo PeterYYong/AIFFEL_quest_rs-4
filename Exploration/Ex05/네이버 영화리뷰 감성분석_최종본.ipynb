{
 "cells": [
  {
   "cell_type": "code",
   "execution_count": 1,
   "id": "4ef2e452",
   "metadata": {},
   "outputs": [
    {
     "name": "stdout",
     "output_type": "stream",
     "text": [
      "1.3.3\n",
      "0.5.2\n",
      "4.1.2\n"
     ]
    }
   ],
   "source": [
    "import pandas\n",
    "import konlpy\n",
    "import gensim\n",
    "import matplotlib.pyplot as plt\n",
    "\n",
    "print(pandas.__version__)\n",
    "print(konlpy.__version__)\n",
    "print(gensim.__version__)"
   ]
  },
  {
   "cell_type": "code",
   "execution_count": 2,
   "id": "6f73a399",
   "metadata": {},
   "outputs": [
    {
     "data": {
      "text/html": [
       "<div>\n",
       "<style scoped>\n",
       "    .dataframe tbody tr th:only-of-type {\n",
       "        vertical-align: middle;\n",
       "    }\n",
       "\n",
       "    .dataframe tbody tr th {\n",
       "        vertical-align: top;\n",
       "    }\n",
       "\n",
       "    .dataframe thead th {\n",
       "        text-align: right;\n",
       "    }\n",
       "</style>\n",
       "<table border=\"1\" class=\"dataframe\">\n",
       "  <thead>\n",
       "    <tr style=\"text-align: right;\">\n",
       "      <th></th>\n",
       "      <th>id</th>\n",
       "      <th>document</th>\n",
       "      <th>label</th>\n",
       "    </tr>\n",
       "  </thead>\n",
       "  <tbody>\n",
       "    <tr>\n",
       "      <th>0</th>\n",
       "      <td>9976970</td>\n",
       "      <td>아 더빙.. 진짜 짜증나네요 목소리</td>\n",
       "      <td>0</td>\n",
       "    </tr>\n",
       "    <tr>\n",
       "      <th>1</th>\n",
       "      <td>3819312</td>\n",
       "      <td>흠...포스터보고 초딩영화줄....오버연기조차 가볍지 않구나</td>\n",
       "      <td>1</td>\n",
       "    </tr>\n",
       "    <tr>\n",
       "      <th>2</th>\n",
       "      <td>10265843</td>\n",
       "      <td>너무재밓었다그래서보는것을추천한다</td>\n",
       "      <td>0</td>\n",
       "    </tr>\n",
       "    <tr>\n",
       "      <th>3</th>\n",
       "      <td>9045019</td>\n",
       "      <td>교도소 이야기구먼 ..솔직히 재미는 없다..평점 조정</td>\n",
       "      <td>0</td>\n",
       "    </tr>\n",
       "    <tr>\n",
       "      <th>4</th>\n",
       "      <td>6483659</td>\n",
       "      <td>사이몬페그의 익살스런 연기가 돋보였던 영화!스파이더맨에서 늙어보이기만 했던 커스틴 ...</td>\n",
       "      <td>1</td>\n",
       "    </tr>\n",
       "  </tbody>\n",
       "</table>\n",
       "</div>"
      ],
      "text/plain": [
       "         id                                           document  label\n",
       "0   9976970                                아 더빙.. 진짜 짜증나네요 목소리      0\n",
       "1   3819312                  흠...포스터보고 초딩영화줄....오버연기조차 가볍지 않구나      1\n",
       "2  10265843                                  너무재밓었다그래서보는것을추천한다      0\n",
       "3   9045019                      교도소 이야기구먼 ..솔직히 재미는 없다..평점 조정      0\n",
       "4   6483659  사이몬페그의 익살스런 연기가 돋보였던 영화!스파이더맨에서 늙어보이기만 했던 커스틴 ...      1"
      ]
     },
     "execution_count": 2,
     "metadata": {},
     "output_type": "execute_result"
    }
   ],
   "source": [
    "import pandas as pd\n",
    "\n",
    "# 데이터를 읽어봅시다. \n",
    "train_data = pd.read_table('./sentiment_classification/data/ratings_train.txt')\n",
    "test_data = pd.read_table('./sentiment_classification/data/ratings_test.txt')\n",
    "\n",
    "train_data.head()"
   ]
  },
  {
   "cell_type": "code",
   "execution_count": 3,
   "id": "a821e7d6",
   "metadata": {},
   "outputs": [],
   "source": [
    "from konlpy.tag import Mecab\n",
    "import numpy as np\n",
    "from collections import Counter\n",
    "import tensorflow as tf\n",
    "import os\n",
    "\n",
    "tokenizer = Mecab()\n",
    "stopwords = ['의','가','이','은','들','는','좀','잘','걍','과','도','를','으로','자','에','와','한','하다']\n",
    "\n",
    "def load_data(train_data, test_data, num_words=10000):\n",
    "    train_data.drop_duplicates(subset=['document'], inplace=True)\n",
    "    train_data = train_data.dropna(how = 'any') \n",
    "    test_data.drop_duplicates(subset=['document'], inplace=True)\n",
    "    test_data = test_data.dropna(how = 'any') \n",
    "    \n",
    "    X_train = []\n",
    "    for sentence in train_data['document']:\n",
    "        temp_X = tokenizer.morphs(sentence) # 토큰화\n",
    "        temp_X = [word for word in temp_X if not word in stopwords] # 불용어 제거\n",
    "        X_train.append(temp_X)\n",
    "\n",
    "    X_test = []\n",
    "    for sentence in test_data['document']:\n",
    "        temp_X = tokenizer.morphs(sentence) # 토큰화\n",
    "        temp_X = [word for word in temp_X if not word in stopwords] # 불용어 제거\n",
    "        X_test.append(temp_X)\n",
    "    \n",
    "    words = np.concatenate(X_train).tolist()\n",
    "    counter = Counter(words)\n",
    "    counter = counter.most_common(10000-4)\n",
    "    vocab = ['', '', '', ''] + [key for key, _ in counter]\n",
    "    word_to_index = {word:index for index, word in enumerate(vocab)}\n",
    "        \n",
    "    def wordlist_to_indexlist(wordlist):\n",
    "        return [word_to_index[word] if word in word_to_index else word_to_index[''] for word in wordlist]\n",
    "        \n",
    "    X_train = list(map(wordlist_to_indexlist, X_train))\n",
    "    X_test = list(map(wordlist_to_indexlist, X_test))\n",
    "        \n",
    "    return X_train, np.array(list(train_data['label'])), X_test, np.array(list(test_data['label'])), word_to_index\n",
    "    \n",
    "X_train, y_train, X_test, y_test, word_to_index = load_data(train_data, test_data)"
   ]
  },
  {
   "cell_type": "code",
   "execution_count": 4,
   "id": "7af37f5c",
   "metadata": {},
   "outputs": [],
   "source": [
    "word_to_index[\"<PAD>\"] = 0\n",
    "word_to_index[\"<BOS>\"] = 1\n",
    "word_to_index[\"<UNK>\"] = 2  # unknown\n",
    "word_to_index[\"<UNUSED>\"] = 3\n",
    "index_to_word = {index: word for word, index in word_to_index.items()}"
   ]
  },
  {
   "cell_type": "code",
   "execution_count": 5,
   "id": "ec5c3dae",
   "metadata": {},
   "outputs": [],
   "source": [
    "# 문장 1개를 활용할 딕셔너리와 함께 주면, 단어 인덱스 리스트 벡터로 변환해 주는 함수입니다. \n",
    "# 단, 모든 문장은 <BOS>로 시작하는 것으로 합니다. \n",
    "def get_encoded_sentence(sentence, word_to_index):\n",
    "    return [word_to_index['<BOS>']]+[word_to_index[word] if word in word_to_index else word_to_index['<UNK>'] for word in sentence.split()]\n",
    "\n",
    "# 여러 개의 문장 리스트를 한꺼번에 단어 인덱스 리스트 벡터로 encode해 주는 함수입니다. \n",
    "def get_encoded_sentences(sentences, word_to_index):\n",
    "    return [get_encoded_sentence(sentence, word_to_index) for sentence in sentences]\n",
    "\n",
    "# 숫자 벡터로 encode된 문장을 원래대로 decode하는 함수입니다. \n",
    "def get_decoded_sentence(encoded_sentence, index_to_word):\n",
    "    return ' '.join(index_to_word[index] if index in index_to_word else '<UNK>' for index in encoded_sentence[1:])  #[1:]를 통해 <BOS>를 제외\n",
    "\n",
    "# 여러 개의 숫자 벡터로 encode된 문장을 한꺼번에 원래대로 decode하는 함수입니다. \n",
    "def get_decoded_sentences(encoded_sentences, index_to_word):\n",
    "    return [get_decoded_sentence(encoded_sentence, index_to_word) for encoded_sentence in encoded_sentences]"
   ]
  },
  {
   "cell_type": "markdown",
   "id": "08553336",
   "metadata": {},
   "source": [
    "### 3) 모델 구성을 위한 데이터 분석 및 가공"
   ]
  },
  {
   "cell_type": "code",
   "execution_count": 6,
   "id": "90b2d20c",
   "metadata": {},
   "outputs": [
    {
     "name": "stdout",
     "output_type": "stream",
     "text": [
      "문장길이 평균 :  15.96940191154864\n",
      "문장길이 최대 :  116\n",
      "문장길이 표준편차 :  12.843571191092\n",
      "pad_sequences maxlen :  41\n",
      "전체 문장의 0.9342988343341575%가 maxlen 설정값 이내에 포함됩니다. \n"
     ]
    }
   ],
   "source": [
    "# 3)-1 데이터셋 내 문장 길이 분포\n",
    "total_data_text = list(X_train) + list(X_test)\n",
    "# 텍스트데이터 문장길이의 리스트를 생성한 후\n",
    "num_tokens = [len(tokens) for tokens in total_data_text]\n",
    "num_tokens = np.array(num_tokens)\n",
    "\n",
    "# 문장길이의 평균값, 최대값, 표준편차를 계산해 본다.\n",
    "print('문장길이 평균 : ', np.mean(num_tokens))\n",
    "print('문장길이 최대 : ', np.max(num_tokens))\n",
    "print('문장길이 표준편차 : ', np.std(num_tokens))\n",
    "\n",
    "\n",
    "# 3)-2 적절한 최대 문장 길이 지정\n",
    "# 최대 문장길이를 (평균 + 2*표준편차)로 한다면,\n",
    "max_tokens = np.mean(num_tokens) + 2 * np.std(num_tokens)\n",
    "maxlen = int(max_tokens)\n",
    "print('pad_sequences maxlen : ', maxlen)\n",
    "print(f'전체 문장의 {np.sum(num_tokens < max_tokens) / len(num_tokens)}%가 maxlen 설정값 이내에 포함됩니다. ')\n",
    "\n",
    "\n"
   ]
  },
  {
   "cell_type": "code",
   "execution_count": 7,
   "id": "51981c2c",
   "metadata": {},
   "outputs": [
    {
     "name": "stdout",
     "output_type": "stream",
     "text": [
      "X_train shape: (146182, 41)\n",
      "X_test shape: (49157, 41)\n",
      "Example X_train: [ 32  74 919   4   4  39 228  20  33 748   0   0   0   0   0   0   0   0\n",
      "   0   0   0   0   0   0   0   0   0   0   0   0   0   0   0   0   0   0\n",
      "   0   0   0   0   0]\n"
     ]
    }
   ],
   "source": [
    "# keras.preprocessing.sequence.pad_sequences 을 활용한 패딩 추가\n",
    "from tensorflow.keras.preprocessing.sequence import pad_sequences\n",
    "\n",
    "# pad_sequences를 활용한 패딩 추가\n",
    "def pad_text_data(X_train, X_test, maxlen):\n",
    "    # 패딩 추가 (뒤쪽을 0으로 패딩)\n",
    "    X_train_padded = pad_sequences(X_train, value=word_to_index[\"<PAD>\"], maxlen=maxlen, padding='post')\n",
    "    X_test_padded = pad_sequences(X_test, value=word_to_index[\"<PAD>\"], maxlen=maxlen, padding='post')\n",
    "    return X_train_padded, X_test_padded\n",
    "\n",
    "# 패딩 적용\n",
    "X_train, X_test = pad_text_data(X_train, X_test, maxlen)\n",
    "\n",
    "# 결과 확인\n",
    "print(\"X_train shape:\", X_train.shape)\n",
    "print(\"X_test shape:\", X_test.shape)\n",
    "print(\"Example X_train:\", X_train[0])"
   ]
  },
  {
   "cell_type": "markdown",
   "id": "ef52adcc",
   "metadata": {},
   "source": [
    "### 4) 모델 구성 및 validation set 구성"
   ]
  },
  {
   "cell_type": "code",
   "execution_count": 8,
   "id": "be48723c",
   "metadata": {},
   "outputs": [
    {
     "name": "stdout",
     "output_type": "stream",
     "text": [
      "(136182, 41)\n",
      "(136182,)\n"
     ]
    }
   ],
   "source": [
    "# validation set 구성\n",
    "import numpy as np\n",
    "\n",
    "# validation set 10,000건 분리\n",
    "X_val = np.array(X_train[:10000])\n",
    "y_val = np.array(y_train[:10000])\n",
    "\n",
    "# validation set을 제외한 나머지 15,000건\n",
    "partial_X_train = np.array(X_train[10000:])\n",
    "partial_y_train = np.array(y_train[10000:])\n",
    "\n",
    "# 데이터의 shape 출력\n",
    "print(partial_X_train.shape)  # (15000, sequence_length)\n",
    "print(partial_y_train.shape)  # (15000,)"
   ]
  },
  {
   "cell_type": "markdown",
   "id": "8d71bcae",
   "metadata": {},
   "source": [
    "### 4)-1 1D-CNN"
   ]
  },
  {
   "cell_type": "code",
   "execution_count": 9,
   "id": "b73a8cfe",
   "metadata": {},
   "outputs": [
    {
     "name": "stdout",
     "output_type": "stream",
     "text": [
      "Model: \"sequential\"\n",
      "_________________________________________________________________\n",
      "Layer (type)                 Output Shape              Param #   \n",
      "=================================================================\n",
      "embedding (Embedding)        (None, None, 100)         1000000   \n",
      "_________________________________________________________________\n",
      "conv1d (Conv1D)              (None, None, 16)          8016      \n",
      "_________________________________________________________________\n",
      "max_pooling1d (MaxPooling1D) (None, None, 16)          0         \n",
      "_________________________________________________________________\n",
      "conv1d_1 (Conv1D)            (None, None, 16)          1296      \n",
      "_________________________________________________________________\n",
      "global_max_pooling1d (Global (None, 16)                0         \n",
      "_________________________________________________________________\n",
      "dense (Dense)                (None, 8)                 136       \n",
      "_________________________________________________________________\n",
      "dense_1 (Dense)              (None, 1)                 9         \n",
      "=================================================================\n",
      "Total params: 1,009,457\n",
      "Trainable params: 1,009,457\n",
      "Non-trainable params: 0\n",
      "_________________________________________________________________\n"
     ]
    }
   ],
   "source": [
    "import tensorflow as tf\n",
    "\n",
    "vocab_size = 10000    # 어휘 사전의 크기입니다(10,000개의 단어)\n",
    "word_vector_dim = 100  # 워드 벡터의 차원 수 (변경 가능한 하이퍼파라미터)\n",
    "\n",
    "# model 설계\n",
    "model1 = tf.keras.Sequential([\n",
    "    # Embedding 레이어\n",
    "    tf.keras.layers.Embedding(input_dim=vocab_size, output_dim=word_vector_dim, input_shape=(None,)),\n",
    "\n",
    "    # Conv1D 레이어와 MaxPooling1D\n",
    "    tf.keras.layers.Conv1D(16, 5, activation='relu'),\n",
    "    tf.keras.layers.MaxPooling1D(pool_size=2),\n",
    "\n",
    "    # 추가 Conv1D 레이어\n",
    "    tf.keras.layers.Conv1D(16, 5, activation='relu'),\n",
    "    tf.keras.layers.GlobalMaxPooling1D(),  # 전체 시퀀스에서 가장 큰 값을 선택\n",
    "\n",
    "    # Dense layer\n",
    "    tf.keras.layers.Dense(8, activation='relu'), #은닉층\n",
    "    tf.keras.layers.Dense(1, activation='sigmoid') #출력층: 긍정1, 부정0\n",
    "])\n",
    "#모델 요약\n",
    "model1.summary()"
   ]
  },
  {
   "cell_type": "code",
   "execution_count": 10,
   "id": "12521c4a",
   "metadata": {},
   "outputs": [
    {
     "name": "stdout",
     "output_type": "stream",
     "text": [
      "Epoch 1/10\n",
      "266/266 [==============================] - 35s 7ms/step - loss: 0.4381 - accuracy: 0.7981 - val_loss: 0.3390 - val_accuracy: 0.8498\n",
      "Epoch 2/10\n",
      "266/266 [==============================] - 1s 5ms/step - loss: 0.3115 - accuracy: 0.8677 - val_loss: 0.3322 - val_accuracy: 0.8572\n",
      "Epoch 3/10\n",
      "266/266 [==============================] - 1s 5ms/step - loss: 0.2730 - accuracy: 0.8880 - val_loss: 0.3386 - val_accuracy: 0.8529\n",
      "Epoch 4/10\n",
      "266/266 [==============================] - 1s 5ms/step - loss: 0.2346 - accuracy: 0.9074 - val_loss: 0.3531 - val_accuracy: 0.8524\n",
      "Epoch 5/10\n",
      "266/266 [==============================] - 1s 5ms/step - loss: 0.1939 - accuracy: 0.9268 - val_loss: 0.3822 - val_accuracy: 0.8476\n",
      "Epoch 6/10\n",
      "266/266 [==============================] - 1s 5ms/step - loss: 0.1541 - accuracy: 0.9449 - val_loss: 0.4305 - val_accuracy: 0.8450\n",
      "Epoch 7/10\n",
      "266/266 [==============================] - 1s 5ms/step - loss: 0.1191 - accuracy: 0.9593 - val_loss: 0.4790 - val_accuracy: 0.8410\n",
      "Epoch 8/10\n",
      "266/266 [==============================] - 1s 5ms/step - loss: 0.0915 - accuracy: 0.9704 - val_loss: 0.5376 - val_accuracy: 0.8368\n",
      "Epoch 9/10\n",
      "266/266 [==============================] - 1s 5ms/step - loss: 0.0707 - accuracy: 0.9780 - val_loss: 0.5926 - val_accuracy: 0.8315\n",
      "Epoch 10/10\n",
      "266/266 [==============================] - 1s 5ms/step - loss: 0.0553 - accuracy: 0.9831 - val_loss: 0.6493 - val_accuracy: 0.8348\n"
     ]
    }
   ],
   "source": [
    "# 모델 컴파일\n",
    "model1.compile(optimizer='adam',\n",
    "              loss='binary_crossentropy',\n",
    "              metrics=['accuracy'])\n",
    "\n",
    "epochs=10 # epochs=100\n",
    "\n",
    "history1 = model1.fit(partial_X_train,\n",
    "                    partial_y_train,\n",
    "                    epochs=epochs,\n",
    "                    batch_size=512,\n",
    "                    validation_data=(X_val, y_val),\n",
    "                    verbose=1)"
   ]
  },
  {
   "cell_type": "code",
   "execution_count": 11,
   "id": "e379964f",
   "metadata": {},
   "outputs": [
    {
     "name": "stdout",
     "output_type": "stream",
     "text": [
      "1537/1537 - 3s - loss: 0.6631 - accuracy: 0.8318\n",
      "[0.6631224751472473, 0.831763505935669]\n",
      "dict_keys(['loss', 'accuracy', 'val_loss', 'val_accuracy'])\n"
     ]
    }
   ],
   "source": [
    "results1 = model1.evaluate(X_test,  y_test, verbose=2)\n",
    "print(results1)\n",
    "print(history1.history.keys())  # epoch에 따른 그래프를 그려볼 수 있는 항목들"
   ]
  },
  {
   "cell_type": "code",
   "execution_count": 12,
   "id": "2a83b059",
   "metadata": {},
   "outputs": [
    {
     "data": {
      "image/png": "[encoded data removed]",
      "text/plain": [
       "<Figure size 864x360 with 2 Axes>"
      ]
     },
     "metadata": {
      "needs_background": "light"
     },
     "output_type": "display_data"
    }
   ],
   "source": [
    "### 그래프\n",
    "import matplotlib.pyplot as plt\n",
    "\n",
    "acc1 = history1.history['accuracy']\n",
    "val_acc1 = history1.history['val_accuracy']\n",
    "loss1 = history1.history['loss']\n",
    "val_loss1 = history1.history['val_loss']\n",
    "\n",
    "epochs1 = range(1, len(acc1) + 1)\n",
    "\n",
    "# 서브플롯 생성\n",
    "fig, axs = plt.subplots(1, 2, figsize=(12, 5))  # 1행 2열의 서브플롯 생성, 크기 조정\n",
    "\n",
    "# 첫 번째 서브플롯: Training and validation loss\n",
    "axs[0].plot(epochs1, loss1, label='Training loss')\n",
    "axs[0].plot(epochs1, val_loss1, 'r', label='Validation loss')\n",
    "axs[0].set_title('1D CNN:Training and validation loss')\n",
    "axs[0].set_xlabel('Epochs')\n",
    "axs[0].set_ylabel('Loss')\n",
    "axs[0].legend()\n",
    "\n",
    "# 두 번째 서브플롯: Training and validation accuracy\n",
    "axs[1].plot(epochs1, acc1, label='Training acc')\n",
    "axs[1].plot(epochs1, val_acc1,'r', label='Validation acc')\n",
    "axs[1].set_title('1D CNN:Training and validation accuracy')\n",
    "axs[1].set_xlabel('Epochs')\n",
    "axs[1].set_ylabel('Accuracy')\n",
    "axs[1].legend()\n",
    "\n",
    "# 레이아웃 조정 및 표시\n",
    "plt.tight_layout()\n",
    "plt.show()"
   ]
  },
  {
   "cell_type": "markdown",
   "id": "195c8db5",
   "metadata": {},
   "source": [
    "### LSTM사용"
   ]
  },
  {
   "cell_type": "code",
   "execution_count": 13,
   "id": "01146031",
   "metadata": {},
   "outputs": [
    {
     "name": "stdout",
     "output_type": "stream",
     "text": [
      "Model: \"sequential_1\"\n",
      "_________________________________________________________________\n",
      "Layer (type)                 Output Shape              Param #   \n",
      "=================================================================\n",
      "embedding_1 (Embedding)      (None, None, 100)         1000000   \n",
      "_________________________________________________________________\n",
      "lstm (LSTM)                  (None, 16)                7488      \n",
      "_________________________________________________________________\n",
      "dense_2 (Dense)              (None, 8)                 136       \n",
      "_________________________________________________________________\n",
      "dense_3 (Dense)              (None, 1)                 9         \n",
      "=================================================================\n",
      "Total params: 1,007,633\n",
      "Trainable params: 1,007,633\n",
      "Non-trainable params: 0\n",
      "_________________________________________________________________\n",
      "Epoch 1/10\n",
      "266/266 [==============================] - 8s 7ms/step - loss: 0.5094 - accuracy: 0.7379 - val_loss: 0.3597 - val_accuracy: 0.8445\n",
      "Epoch 2/10\n",
      "266/266 [==============================] - 1s 5ms/step - loss: 0.3367 - accuracy: 0.8566 - val_loss: 0.3400 - val_accuracy: 0.8525\n",
      "Epoch 3/10\n",
      "266/266 [==============================] - 1s 5ms/step - loss: 0.3074 - accuracy: 0.8690 - val_loss: 0.3386 - val_accuracy: 0.8526\n",
      "Epoch 4/10\n",
      "266/266 [==============================] - 1s 5ms/step - loss: 0.2890 - accuracy: 0.8757 - val_loss: 0.3458 - val_accuracy: 0.8500\n",
      "Epoch 5/10\n",
      "266/266 [==============================] - 1s 5ms/step - loss: 0.2706 - accuracy: 0.8829 - val_loss: 0.3637 - val_accuracy: 0.8530\n",
      "Epoch 6/10\n",
      "266/266 [==============================] - 1s 5ms/step - loss: 0.2542 - accuracy: 0.8897 - val_loss: 0.3655 - val_accuracy: 0.8500\n",
      "Epoch 7/10\n",
      "266/266 [==============================] - 1s 5ms/step - loss: 0.2382 - accuracy: 0.8967 - val_loss: 0.3792 - val_accuracy: 0.8516\n",
      "Epoch 8/10\n",
      "266/266 [==============================] - 1s 5ms/step - loss: 0.2248 - accuracy: 0.9030 - val_loss: 0.3965 - val_accuracy: 0.8526\n",
      "Epoch 9/10\n",
      "266/266 [==============================] - 1s 5ms/step - loss: 0.2096 - accuracy: 0.9096 - val_loss: 0.4123 - val_accuracy: 0.8523\n",
      "Epoch 10/10\n",
      "266/266 [==============================] - 1s 5ms/step - loss: 0.1980 - accuracy: 0.9156 - val_loss: 0.4216 - val_accuracy: 0.8499\n"
     ]
    }
   ],
   "source": [
    "vocab_size = 10000    # 어휘 사전의 크기입니다(10,000개의 단어)\n",
    "word_vector_dim = 100  # 워드 벡터의 차원 수 (변경 가능한 하이퍼파라미터)\n",
    "\n",
    "# 모델 설계 - LSTM 기반 모델\n",
    "model2 = tf.keras.Sequential([\n",
    "    # Embedding 레이어\n",
    "    tf.keras.layers.Embedding(input_dim=vocab_size, output_dim=word_vector_dim, input_shape=(None,)),\n",
    "    \n",
    "    # LSTM 레이어\n",
    "    tf.keras.layers.LSTM(16, activation='tanh', return_sequences=False),  # LSTM 레이어\n",
    "    \n",
    "    # Dense layer\n",
    "    tf.keras.layers.Dense(8, activation='relu'),  # 은닉층\n",
    "    tf.keras.layers.Dense(1, activation='sigmoid')  # 출력층: 긍정1, 부정0\n",
    "])\n",
    "\n",
    "\n",
    "#모델 요약\n",
    "model2.summary()\n",
    "\n",
    "\n",
    "model2.compile(optimizer='adam',\n",
    "              loss='binary_crossentropy',\n",
    "              metrics=['accuracy'])\n",
    "              \n",
    "epochs=10  # 몇 epoch를 훈련하면 좋을지 결과를 보면서 바꾸어 봅시다. \n",
    "\n",
    "history2 = model2.fit(partial_X_train,\n",
    "                    partial_y_train,\n",
    "                    epochs=epochs,\n",
    "                    batch_size=512,\n",
    "                    validation_data=(X_val, y_val),\n",
    "                    verbose=1)"
   ]
  },
  {
   "cell_type": "code",
   "execution_count": 14,
   "id": "be1a7b2c",
   "metadata": {},
   "outputs": [
    {
     "name": "stdout",
     "output_type": "stream",
     "text": [
      "1537/1537 - 3s - loss: 0.4275 - accuracy: 0.8453\n",
      "[0.42749497294425964, 0.8452712893486023]\n"
     ]
    }
   ],
   "source": [
    "# 평가 지표\n",
    "results2 = model2.evaluate(X_test,  y_test, verbose=2)\n",
    "print(results2)"
   ]
  },
  {
   "cell_type": "code",
   "execution_count": 15,
   "id": "82ca0a3b",
   "metadata": {},
   "outputs": [
    {
     "data": {
      "text/plain": [
       "<Figure size 432x288 with 0 Axes>"
      ]
     },
     "metadata": {},
     "output_type": "display_data"
    },
    {
     "data": {
      "image/png": "[encoded data removed]",
      "text/plain": [
       "<Figure size 864x360 with 2 Axes>"
      ]
     },
     "metadata": {
      "needs_background": "light"
     },
     "output_type": "display_data"
    }
   ],
   "source": [
    "### 그래프 그리기\n",
    "plt.clf() # 앞서 그린 그래프 지우기\n",
    "# 데이터 준비\n",
    "acc2 = history2.history['accuracy']\n",
    "val_acc2 = history2.history['val_accuracy']\n",
    "loss2 = history2.history['loss']\n",
    "val_loss2 = history2.history['val_loss']\n",
    "\n",
    "epochs2 = range(1, len(acc2) + 1)\n",
    "\n",
    "# 서브플롯 생성\n",
    "fig, axs = plt.subplots(1, 2, figsize=(12, 5))  # 1행 2열의 서브플롯 생성, 크기 조정\n",
    "\n",
    "# 첫 번째 서브플롯: Training and validation loss\n",
    "axs[0].plot(epochs2, loss2, label='Training loss')\n",
    "axs[0].plot(epochs2, val_loss2, 'r', label='Validation loss')\n",
    "axs[0].set_title('LSTM: Training and validation loss')\n",
    "axs[0].set_xlabel('Epochs')\n",
    "axs[0].set_ylabel('Loss')\n",
    "axs[0].legend()\n",
    "\n",
    "# 두 번째 서브플롯: Training and validation accuracy\n",
    "axs[1].plot(epochs2, acc2, label='Training acc')\n",
    "axs[1].plot(epochs2, val_acc2, 'r', label='Validation acc')\n",
    "axs[1].set_title('LSTM: Training and validation accuracy')\n",
    "axs[1].set_xlabel('Epochs')\n",
    "axs[1].set_ylabel('Accuracy')\n",
    "axs[1].legend()\n",
    "\n",
    "# 레이아웃 조정 및 표시\n",
    "plt.tight_layout()\n",
    "plt.show()"
   ]
  },
  {
   "cell_type": "markdown",
   "id": "d3eb7ec9",
   "metadata": {},
   "source": [
    "### Transformer 방식"
   ]
  },
  {
   "cell_type": "code",
   "execution_count": 16,
   "id": "f83ad02e",
   "metadata": {},
   "outputs": [
    {
     "name": "stdout",
     "output_type": "stream",
     "text": [
      "Model: \"model\"\n",
      "__________________________________________________________________________________________________\n",
      "Layer (type)                    Output Shape         Param #     Connected to                     \n",
      "==================================================================================================\n",
      "input_1 (InputLayer)            [(None, None)]       0                                            \n",
      "__________________________________________________________________________________________________\n",
      "embedding_2 (Embedding)         (None, None, 100)    1000000     input_1[0][0]                    \n",
      "__________________________________________________________________________________________________\n",
      "positional_encoding (Positional (None, None, 100)    0           embedding_2[0][0]                \n",
      "__________________________________________________________________________________________________\n",
      "multi_head_attention (MultiHead (None, None, 100)    161300      positional_encoding[0][0]        \n",
      "                                                                 positional_encoding[0][0]        \n",
      "__________________________________________________________________________________________________\n",
      "dropout (Dropout)               (None, None, 100)    0           multi_head_attention[0][0]       \n",
      "__________________________________________________________________________________________________\n",
      "tf.__operators__.add (TFOpLambd (None, None, 100)    0           positional_encoding[0][0]        \n",
      "                                                                 dropout[0][0]                    \n",
      "__________________________________________________________________________________________________\n",
      "layer_normalization (LayerNorma (None, None, 100)    200         tf.__operators__.add[0][0]       \n",
      "__________________________________________________________________________________________________\n",
      "dense_4 (Dense)                 (None, None, 32)     3232        layer_normalization[0][0]        \n",
      "__________________________________________________________________________________________________\n",
      "dense_5 (Dense)                 (None, None, 100)    3300        dense_4[0][0]                    \n",
      "__________________________________________________________________________________________________\n",
      "dropout_1 (Dropout)             (None, None, 100)    0           dense_5[0][0]                    \n",
      "__________________________________________________________________________________________________\n",
      "tf.__operators__.add_1 (TFOpLam (None, None, 100)    0           layer_normalization[0][0]        \n",
      "                                                                 dropout_1[0][0]                  \n",
      "__________________________________________________________________________________________________\n",
      "layer_normalization_1 (LayerNor (None, None, 100)    200         tf.__operators__.add_1[0][0]     \n",
      "__________________________________________________________________________________________________\n",
      "multi_head_attention_1 (MultiHe (None, None, 100)    161300      layer_normalization_1[0][0]      \n",
      "                                                                 layer_normalization_1[0][0]      \n",
      "__________________________________________________________________________________________________\n",
      "dropout_2 (Dropout)             (None, None, 100)    0           multi_head_attention_1[0][0]     \n",
      "__________________________________________________________________________________________________\n",
      "tf.__operators__.add_2 (TFOpLam (None, None, 100)    0           layer_normalization_1[0][0]      \n",
      "                                                                 dropout_2[0][0]                  \n",
      "__________________________________________________________________________________________________\n",
      "layer_normalization_2 (LayerNor (None, None, 100)    200         tf.__operators__.add_2[0][0]     \n",
      "__________________________________________________________________________________________________\n",
      "dense_6 (Dense)                 (None, None, 32)     3232        layer_normalization_2[0][0]      \n",
      "__________________________________________________________________________________________________\n",
      "dense_7 (Dense)                 (None, None, 100)    3300        dense_6[0][0]                    \n",
      "__________________________________________________________________________________________________\n",
      "dropout_3 (Dropout)             (None, None, 100)    0           dense_7[0][0]                    \n",
      "__________________________________________________________________________________________________\n",
      "tf.__operators__.add_3 (TFOpLam (None, None, 100)    0           layer_normalization_2[0][0]      \n",
      "                                                                 dropout_3[0][0]                  \n",
      "__________________________________________________________________________________________________\n",
      "layer_normalization_3 (LayerNor (None, None, 100)    200         tf.__operators__.add_3[0][0]     \n",
      "__________________________________________________________________________________________________\n",
      "global_average_pooling1d (Globa (None, 100)          0           layer_normalization_3[0][0]      \n",
      "__________________________________________________________________________________________________\n",
      "dense_8 (Dense)                 (None, 16)           1616        global_average_pooling1d[0][0]   \n",
      "__________________________________________________________________________________________________\n",
      "dense_9 (Dense)                 (None, 1)            17          dense_8[0][0]                    \n",
      "==================================================================================================\n",
      "Total params: 1,338,097\n",
      "Trainable params: 1,338,097\n",
      "Non-trainable params: 0\n",
      "__________________________________________________________________________________________________\n",
      "Epoch 1/10\n",
      "266/266 [==============================] - 16s 54ms/step - loss: 0.4804 - accuracy: 0.7458 - val_loss: 0.3498 - val_accuracy: 0.8488\n",
      "Epoch 2/10\n",
      "266/266 [==============================] - 14s 53ms/step - loss: 0.3333 - accuracy: 0.8558 - val_loss: 0.3381 - val_accuracy: 0.8537\n",
      "Epoch 3/10\n",
      "266/266 [==============================] - 14s 54ms/step - loss: 0.3062 - accuracy: 0.8689 - val_loss: 0.3375 - val_accuracy: 0.8526\n",
      "Epoch 4/10\n",
      "266/266 [==============================] - 15s 55ms/step - loss: 0.2806 - accuracy: 0.8825 - val_loss: 0.3556 - val_accuracy: 0.8491\n",
      "Epoch 5/10\n",
      "266/266 [==============================] - 15s 55ms/step - loss: 0.2608 - accuracy: 0.8914 - val_loss: 0.3783 - val_accuracy: 0.8483\n",
      "Epoch 6/10\n",
      "266/266 [==============================] - 15s 56ms/step - loss: 0.2408 - accuracy: 0.9008 - val_loss: 0.4037 - val_accuracy: 0.8437\n",
      "Epoch 7/10\n",
      "266/266 [==============================] - 15s 57ms/step - loss: 0.2229 - accuracy: 0.9092 - val_loss: 0.4167 - val_accuracy: 0.8427\n",
      "Epoch 8/10\n",
      "266/266 [==============================] - 15s 57ms/step - loss: 0.2084 - accuracy: 0.9153 - val_loss: 0.4117 - val_accuracy: 0.8399\n",
      "Epoch 9/10\n",
      "266/266 [==============================] - 15s 56ms/step - loss: 0.1951 - accuracy: 0.9219 - val_loss: 0.4367 - val_accuracy: 0.8350\n",
      "Epoch 10/10\n",
      "266/266 [==============================] - 15s 56ms/step - loss: 0.1844 - accuracy: 0.9264 - val_loss: 0.4778 - val_accuracy: 0.8394\n"
     ]
    }
   ],
   "source": [
    "import tensorflow as tf\n",
    "\n",
    "# 하이퍼파라미터 설정\n",
    "vocab_size = 10000    # 어휘 사전의 크기입니다 (10,000개의 단어)\n",
    "word_vector_dim = 100  # 워드 벡터의 차원 수\n",
    "num_heads = 4         # Multi-Head Attention의 헤드 수\n",
    "ffn_dim = 32          # Feed-Forward Network의 은닉층 차원\n",
    "num_layers = 2        # Transformer 블록의 수\n",
    "\n",
    "# Positional Encoding\n",
    "class PositionalEncoding(tf.keras.layers.Layer):\n",
    "    def __init__(self, maxlen, d_model):\n",
    "        super().__init__()\n",
    "        self.pos_encoding = self._positional_encoding(maxlen, d_model)\n",
    "    \n",
    "    def _positional_encoding(self, maxlen, d_model):\n",
    "        positions = tf.range(maxlen, dtype=tf.float32)[:, tf.newaxis]  # (maxlen, 1)\n",
    "        dimensions = tf.range(d_model, dtype=tf.float32)[tf.newaxis, :]  # (1, d_model)\n",
    "\n",
    "        # angle_rates 계산\n",
    "        angle_rates = 1 / tf.pow(10000, (2 * (dimensions // 2)) / tf.cast(d_model, tf.float32))\n",
    "        angle_rads = positions * angle_rates  # (maxlen, d_model)\n",
    "\n",
    "        # sin과 cos 함수를 적용하여 positional encoding 생성\n",
    "        pos_encoding = tf.concat([tf.sin(angle_rads), tf.cos(angle_rads)], axis=-1)  # (maxlen, d_model*2)\n",
    "\n",
    "        # 만약 d_model이 16이 아니라면, pos_encoding의 차원을 d_model에 맞게 조정\n",
    "        pos_encoding = pos_encoding[:, :d_model]  # (maxlen, d_model)\n",
    "\n",
    "        return pos_encoding\n",
    "\n",
    "    def call(self, x):\n",
    "        # x에 pos_encoding을 더할 때 배치 차원을 고려한 브로드캐스팅\n",
    "        return x + self.pos_encoding[:tf.shape(x)[1], :]\n",
    "\n",
    "# Transformer 블록 정의\n",
    "def transformer_block(inputs, num_heads, ffn_dim, dropout_rate=0.1):\n",
    "    # Multi-Head Attention\n",
    "    attention_output = tf.keras.layers.MultiHeadAttention(num_heads=num_heads, key_dim=inputs.shape[-1])(inputs, inputs)\n",
    "    attention_output = tf.keras.layers.Dropout(dropout_rate)(attention_output)\n",
    "    attention_output = tf.keras.layers.LayerNormalization(epsilon=1e-6)(inputs + attention_output)\n",
    "\n",
    "    # Feed-Forward Network\n",
    "    ffn_output = tf.keras.layers.Dense(ffn_dim, activation='relu')(attention_output)\n",
    "    ffn_output = tf.keras.layers.Dense(inputs.shape[-1])(ffn_output)\n",
    "    ffn_output = tf.keras.layers.Dropout(dropout_rate)(ffn_output)\n",
    "    output = tf.keras.layers.LayerNormalization(epsilon=1e-6)(attention_output + ffn_output)\n",
    "    \n",
    "    return output\n",
    "\n",
    "# 모델 설계 - Transformer 기반 모델\n",
    "inputs = tf.keras.Input(shape=(None,))  # 입력 시퀀스\n",
    "embedding = tf.keras.layers.Embedding(input_dim=vocab_size, output_dim=word_vector_dim)(inputs)\n",
    "\n",
    "\n",
    "# Positional Encoding 추가\n",
    "maxlen = 41  # 최대 시퀀스 길이\n",
    "pos_encoding = PositionalEncoding(maxlen, word_vector_dim)(embedding)\n",
    "\n",
    "x = pos_encoding\n",
    "for _ in range(num_layers):\n",
    "    x = transformer_block(x, num_heads=num_heads, ffn_dim=ffn_dim)\n",
    "\n",
    "# 출력층\n",
    "x = tf.keras.layers.GlobalAveragePooling1D()(x)\n",
    "x = tf.keras.layers.Dense(16, activation='relu')(x)\n",
    "outputs = tf.keras.layers.Dense(1, activation='sigmoid')(x)\n",
    "\n",
    "model3 = tf.keras.Model(inputs=inputs, outputs=outputs)\n",
    "\n",
    "# 모델 요약\n",
    "model3.summary()\n",
    "\n",
    "\n",
    "# 모델 컴파일 및 학습\n",
    "model3.compile(optimizer='adam',\n",
    "              loss='binary_crossentropy',\n",
    "              metrics=['accuracy'])\n",
    "\n",
    "# 학습\n",
    "history3 = model3.fit(partial_X_train,\n",
    "                    partial_y_train,\n",
    "                    epochs=10,\n",
    "                    batch_size=512,\n",
    "                    validation_data=(X_val, y_val),\n",
    "                    verbose=1)\n",
    "\n"
   ]
  },
  {
   "cell_type": "code",
   "execution_count": 17,
   "id": "216c4044",
   "metadata": {},
   "outputs": [
    {
     "name": "stdout",
     "output_type": "stream",
     "text": [
      "1537/1537 - 6s - loss: 0.4943 - accuracy: 0.8314\n",
      "[0.49432405829429626, 0.8313973546028137]\n"
     ]
    }
   ],
   "source": [
    "# 평가 지표\n",
    "results3 = model3.evaluate(X_test, y_test, verbose=2)\n",
    "print(results3)"
   ]
  },
  {
   "cell_type": "code",
   "execution_count": 18,
   "id": "3693a3d9",
   "metadata": {},
   "outputs": [
    {
     "data": {
      "image/png": "[encoded data removed]",
      "text/plain": [
       "<Figure size 864x360 with 2 Axes>"
      ]
     },
     "metadata": {
      "needs_background": "light"
     },
     "output_type": "display_data"
    }
   ],
   "source": [
    "# 그래프 비교 \n",
    "# 데이터 준비\n",
    "acc3 = history3.history['accuracy']\n",
    "val_acc3 = history3.history['val_accuracy']\n",
    "loss3 = history3.history['loss']\n",
    "val_loss3 = history3.history['val_loss']\n",
    "\n",
    "epochs3 = range(1, len(acc3) + 1)\n",
    "\n",
    "# 서브플롯 생성\n",
    "\n",
    "fig, axs = plt.subplots(1, 2, figsize=(12, 5))  # 1행 2열의 서브플롯 생성, 크기 조정\n",
    "\n",
    "# 첫 번째 서브플롯: Training and validation loss\n",
    "axs[0].plot(epochs3, loss3, label='Training loss')\n",
    "axs[0].plot(epochs3, val_loss3, 'r', label='Validation loss')\n",
    "axs[0].set_title('Training and validation loss')\n",
    "axs[0].set_xlabel('Epochs')\n",
    "axs[0].set_ylabel('Loss')\n",
    "axs[0].legend()\n",
    "\n",
    "# 두 번째 서브플롯: Training and validation accuracy\n",
    "axs[1].plot(epochs3, acc3, label='Training acc')\n",
    "axs[1].plot(epochs3, val_acc3, 'r', label='Validation acc')\n",
    "axs[1].set_title('Training and validation accuracy')\n",
    "axs[1].set_xlabel('Epochs')\n",
    "axs[1].set_ylabel('Accuracy')\n",
    "axs[1].legend()\n",
    "\n",
    "# 레이아웃 조정 및 표시\n",
    "plt.tight_layout()\n",
    "plt.show()"
   ]
  },
  {
   "cell_type": "markdown",
   "id": "52bc1161",
   "metadata": {},
   "source": [
    "### 5) 학습된 임베딩 레이어 분석"
   ]
  },
  {
   "cell_type": "code",
   "execution_count": 41,
   "id": "2c7b60d6",
   "metadata": {},
   "outputs": [
    {
     "name": "stdout",
     "output_type": "stream",
     "text": [
      "gensim                        4.1.2\r\n"
     ]
    }
   ],
   "source": [
    "!mkdir -p ~/aiffel/sentiment_classification/data\n",
    "!pip list | grep gensim"
   ]
  },
  {
   "cell_type": "code",
   "execution_count": 42,
   "id": "d2e81c37",
   "metadata": {},
   "outputs": [
    {
     "name": "stdout",
     "output_type": "stream",
     "text": [
      "(10000, 100)\n"
     ]
    }
   ],
   "source": [
    "embedding_layer = model1.layers[0]\n",
    "weights = embedding_layer.get_weights()[0]\n",
    "print(weights.shape)    # shape: (vocab_size, embedding_dim)"
   ]
  },
  {
   "cell_type": "code",
   "execution_count": 43,
   "id": "ff5348b1",
   "metadata": {},
   "outputs": [],
   "source": [
    "# 학습한 Embedding 파라미터를 파일에 써서 저장합니다.\n",
    "word2vec_file_path = './sentiment_classification/data/word2vec.txt'\n",
    "f = open(word2vec_file_path, 'w')\n",
    "# 몇개의 벡터를 얼마 사이즈로 기재할지 타이틀을 씁니다.\n",
    "f.write('{} {}\\n'.format(vocab_size-4, word_vector_dim))\n",
    "\n",
    "# 단어 개수(에서 특수문자 4개는 제외하고)만큼의 워드 벡터를 파일에 기록합니다.\n",
    "vectors = model1.get_weights()[0]\n",
    "for i in range(4, vocab_size):\n",
    "    f.write('{} {}\\n'.format(index_to_word[i], ' '.join(\n",
    "        map(str, list(vectors[i, :])))))\n",
    "f.close()"
   ]
  },
  {
   "cell_type": "markdown",
   "id": "cf9580e6",
   "metadata": {},
   "source": [
    "### gensim에서 제공하는 패키지를 이용해, 임베딩 파라미터를 word vector로 활용"
   ]
  },
  {
   "cell_type": "code",
   "execution_count": 46,
   "id": "25fbe331",
   "metadata": {},
   "outputs": [
    {
     "name": "stdout",
     "output_type": "stream",
     "text": [
      "['.', '영화', '다', '고', '하', '을', '보', '..', '게', ',']\n"
     ]
    },
    {
     "data": {
      "text/plain": [
       "array([ 0.05002201,  0.03934309,  0.03146545,  0.03118193, -0.00207544,\n",
       "        0.00352426, -0.00527191,  0.04108677, -0.05589182,  0.03689983,\n",
       "       -0.01024756, -0.0306393 ,  0.03106149, -0.02134071,  0.04343372,\n",
       "        0.03103324, -0.07128024,  0.06201493,  0.03393487, -0.06090207,\n",
       "       -0.02940324, -0.05073766,  0.01229669, -0.02518526,  0.02754097,\n",
       "        0.08497858, -0.01258145,  0.012964  ,  0.01680416,  0.02134122,\n",
       "        0.06956539,  0.01313277, -0.0075924 , -0.03827441, -0.06578936,\n",
       "       -0.00142613,  0.04785856, -0.00507611,  0.00586076, -0.03928617,\n",
       "       -0.00653006, -0.05204676,  0.09191003, -0.0051724 ,  0.05116236,\n",
       "        0.02009302, -0.0345631 ,  0.02961282,  0.04056694, -0.01311913,\n",
       "        0.01574338,  0.0276653 ,  0.02276265,  0.04261274, -0.03558856,\n",
       "       -0.02833935,  0.00148544, -0.06230442, -0.01339812,  0.04279778,\n",
       "       -0.03757457, -0.0368858 ,  0.00391973, -0.08549125, -0.02250303,\n",
       "       -0.04447958,  0.03533359,  0.02117806,  0.02199817, -0.0112605 ,\n",
       "        0.03183151, -0.023434  ,  0.00594573, -0.0197418 ,  0.05390718,\n",
       "        0.00991734,  0.03741064, -0.00614731,  0.02490057,  0.05136972,\n",
       "       -0.03045036,  0.06258231,  0.01169374,  0.02923805, -0.05883984,\n",
       "        0.02898198, -0.00065083,  0.02776725,  0.05259057,  0.06361355,\n",
       "       -0.0096687 ,  0.07649707,  0.073232  ,  0.03746441,  0.11258354,\n",
       "       -0.01459503,  0.08232024, -0.03362395, -0.00974185,  0.07455322],\n",
       "      dtype=float32)"
      ]
     },
     "execution_count": 46,
     "metadata": {},
     "output_type": "execute_result"
    }
   ],
   "source": [
    "from gensim.models.keyedvectors import Word2VecKeyedVectors\n",
    "\n",
    "word_vectors = Word2VecKeyedVectors.load_word2vec_format(word2vec_file_path, binary=False)\n",
    "\n",
    "\n",
    "# 단어 목록 확인\n",
    "print(list(word_vectors.key_to_index.keys())[:10])  # 상위 10개 단어 출력\n",
    "\n",
    "vector = word_vectors['영화']\n",
    "vector\n"
   ]
  },
  {
   "cell_type": "markdown",
   "id": "0790b82b",
   "metadata": {},
   "source": [
    "#### 비슷한 단어 유사도 확인"
   ]
  },
  {
   "cell_type": "code",
   "execution_count": 47,
   "id": "63cd7aad",
   "metadata": {},
   "outputs": [
    {
     "data": {
      "text/plain": [
       "[('종말', 0.5488008856773376),\n",
       " ('하울', 0.5158270597457886),\n",
       " ('실물', 0.5127533674240112),\n",
       " ('국회의원', 0.509310245513916),\n",
       " ('안티', 0.5059517621994019),\n",
       " ('2004', 0.49522721767425537),\n",
       " ('소동', 0.4847966432571411),\n",
       " ('11', 0.48158571124076843),\n",
       " ('담당', 0.48136335611343384),\n",
       " ('내전', 0.470119446516037)]"
      ]
     },
     "execution_count": 47,
     "metadata": {},
     "output_type": "execute_result"
    }
   ],
   "source": [
    "word_vectors.similar_by_word(\"영화\")"
   ]
  },
  {
   "cell_type": "markdown",
   "id": "4156a896",
   "metadata": {},
   "source": [
    "### 한국어 Word2Vec"
   ]
  },
  {
   "cell_type": "code",
   "execution_count": 49,
   "id": "eb950610",
   "metadata": {},
   "outputs": [],
   "source": [
    "# !ln -s ~/data/word2vec_ko.model ~/aiffel/sentiment_classification/data\n",
    "# !ln -s ~/data/word2vec_ko.model.trainables.syn1neg.npy ~/aiffel/sentiment_classification/data\n",
    "# !ln -s ~/data//word2vec_ko.model.wv.vectors.npy ~/aiffel/sentiment_classification/data"
   ]
  },
  {
   "cell_type": "code",
   "execution_count": 50,
   "id": "cb063da9",
   "metadata": {},
   "outputs": [
    {
     "data": {
      "text/plain": [
       "(100,)"
      ]
     },
     "execution_count": 50,
     "metadata": {},
     "output_type": "execute_result"
    }
   ],
   "source": [
    "from gensim.models.keyedvectors import Word2VecKeyedVectors\n",
    "\n",
    "word2vec_file_path = './sentiment_classification/data/word2vec_ko.model'\n",
    "\n",
    "word_vectors = Word2VecKeyedVectors.load(word2vec_file_path)\n",
    "vector = word_vectors.wv['끝']\n",
    "vector.shape"
   ]
  },
  {
   "cell_type": "code",
   "execution_count": 51,
   "id": "b0160906",
   "metadata": {},
   "outputs": [
    {
     "data": {
      "text/plain": [
       "[('드라마', 0.8418774008750916),\n",
       " ('뮤지컬', 0.7775140404701233),\n",
       " ('코미디', 0.7489107251167297),\n",
       " ('다큐멘터리', 0.7401294708251953),\n",
       " ('헐리우드', 0.7397844195365906),\n",
       " ('애니메이션', 0.7170552015304565),\n",
       " ('독립영화', 0.7113528251647949),\n",
       " ('로맨틱', 0.7107657194137573),\n",
       " ('장편', 0.7101576924324036),\n",
       " ('극영화', 0.7045413255691528)]"
      ]
     },
     "execution_count": 51,
     "metadata": {},
     "output_type": "execute_result"
    }
   ],
   "source": [
    "word_vectors.wv.similar_by_word(\"영화\")"
   ]
  },
  {
   "cell_type": "markdown",
   "id": "62ca4313",
   "metadata": {},
   "source": [
    "##### [비교결과] gensim의 유사단어 찾기를 활용하여 자체학습한 임베딩과 사전학습된 임베딩(한국어 Word2Vec)을 비교하여 보니, 자체 학습된 경우 '영화'라는 단어와 유사단어로 나온 결과가 유사도도 0.5정도이고, '종말','하울','국회의원'등의 단어가 도출되었으나, 사전학습된 임베딩의 경우 '드라마'(0.84), '뮤지컬'(0.77), '코미디'(0.74)등으로 유사도가 높은 단어들이 도출되었다. 다음 단계에서 기존의 임베딩을 Word2Vec임베딩으로 교체하여 모델을 학습시키겠음\n",
    "\n",
    "\n",
    "\n"
   ]
  },
  {
   "cell_type": "code",
   "execution_count": 52,
   "id": "471298a3",
   "metadata": {},
   "outputs": [
    {
     "name": "stdout",
     "output_type": "stream",
     "text": [
      "(10000, 100)\n"
     ]
    }
   ],
   "source": [
    "# embedding_matrix 크기 설정\n",
    "vocab_size = 10000\n",
    "word_vector_dim = 100  # 워드 벡터의 차원수\n",
    "embedding_matrix = np.random.rand(vocab_size, word_vector_dim)\n",
    "\n",
    "# embedding_matrix에 Word2Vec 워드 벡터를 단어 하나씩마다 차례차례 카피한다.\n",
    "for i in range(4, vocab_size):\n",
    "    if index_to_word[i] in word_vectors.wv:\n",
    "        embedding_matrix[i] = word_vectors.wv[index_to_word[i]]\n",
    "        \n",
    "        \n",
    "        \n",
    "print(embedding_matrix.shape)"
   ]
  },
  {
   "cell_type": "markdown",
   "id": "b26d7dce",
   "metadata": {},
   "source": [
    "### 한국어 Word2Vec이 임베딩된 상태에서 1D-CNN으로 모델 학습"
   ]
  },
  {
   "cell_type": "code",
   "execution_count": 53,
   "id": "26025ec1",
   "metadata": {},
   "outputs": [
    {
     "name": "stdout",
     "output_type": "stream",
     "text": [
      "Model: \"sequential_4\"\n",
      "_________________________________________________________________\n",
      "Layer (type)                 Output Shape              Param #   \n",
      "=================================================================\n",
      "embedding_5 (Embedding)      (None, 41, 100)           1000000   \n",
      "_________________________________________________________________\n",
      "conv1d_4 (Conv1D)            (None, 35, 16)            11216     \n",
      "_________________________________________________________________\n",
      "max_pooling1d_2 (MaxPooling1 (None, 7, 16)             0         \n",
      "_________________________________________________________________\n",
      "conv1d_5 (Conv1D)            (None, 1, 16)             1808      \n",
      "_________________________________________________________________\n",
      "global_max_pooling1d_2 (Glob (None, 16)                0         \n",
      "_________________________________________________________________\n",
      "dense_14 (Dense)             (None, 8)                 136       \n",
      "_________________________________________________________________\n",
      "dense_15 (Dense)             (None, 1)                 9         \n",
      "=================================================================\n",
      "Total params: 1,013,169\n",
      "Trainable params: 1,013,169\n",
      "Non-trainable params: 0\n",
      "_________________________________________________________________\n"
     ]
    }
   ],
   "source": [
    "### 1d-cnn\n",
    "\n",
    "from tensorflow.keras.initializers import Constant\n",
    "\n",
    "vocab_size = 10000    # 어휘 사전의 크기입니다(10,000개의 단어)\n",
    "word_vector_dim = 100  # 워드 벡터의 차원 수 \n",
    "\n",
    "# 모델 구성\n",
    "model4 = tf.keras.Sequential()\n",
    "model4.add(tf.keras.layers.Embedding(vocab_size, \n",
    "                                 word_vector_dim, \n",
    "                                 embeddings_initializer=Constant(embedding_matrix),  # 카피한 임베딩을 여기서 활용\n",
    "                                 input_length=maxlen, \n",
    "                                 trainable=True))   # trainable을 True로 주면 Fine-tuning\n",
    "model4.add(tf.keras.layers.Conv1D(16, 7, activation='relu'))\n",
    "model4.add(tf.keras.layers.MaxPooling1D(5))\n",
    "model4.add(tf.keras.layers.Conv1D(16, 7, activation='relu'))\n",
    "model4.add(tf.keras.layers.GlobalMaxPooling1D())\n",
    "model4.add(tf.keras.layers.Dense(8, activation='relu'))\n",
    "model4.add(tf.keras.layers.Dense(1, activation='sigmoid')) \n",
    "\n",
    "model4.summary()"
   ]
  },
  {
   "cell_type": "code",
   "execution_count": 54,
   "id": "59363918",
   "metadata": {},
   "outputs": [
    {
     "name": "stdout",
     "output_type": "stream",
     "text": [
      "Epoch 1/10\n",
      "266/266 [==============================] - 2s 5ms/step - loss: 0.5771 - accuracy: 0.6853 - val_loss: 0.4820 - val_accuracy: 0.7751\n",
      "Epoch 2/10\n",
      "266/266 [==============================] - 1s 5ms/step - loss: 0.4408 - accuracy: 0.7966 - val_loss: 0.4166 - val_accuracy: 0.8116\n",
      "Epoch 3/10\n",
      "266/266 [==============================] - 1s 5ms/step - loss: 0.3812 - accuracy: 0.8308 - val_loss: 0.3808 - val_accuracy: 0.8272\n",
      "Epoch 4/10\n",
      "266/266 [==============================] - 1s 5ms/step - loss: 0.3447 - accuracy: 0.8496 - val_loss: 0.3597 - val_accuracy: 0.8379\n",
      "Epoch 5/10\n",
      "266/266 [==============================] - 1s 5ms/step - loss: 0.3191 - accuracy: 0.8637 - val_loss: 0.3592 - val_accuracy: 0.8410\n",
      "Epoch 6/10\n",
      "266/266 [==============================] - 1s 5ms/step - loss: 0.3013 - accuracy: 0.8732 - val_loss: 0.3487 - val_accuracy: 0.8444\n",
      "Epoch 7/10\n",
      "266/266 [==============================] - 1s 5ms/step - loss: 0.2861 - accuracy: 0.8803 - val_loss: 0.3560 - val_accuracy: 0.8421\n",
      "Epoch 8/10\n",
      "266/266 [==============================] - 1s 5ms/step - loss: 0.2730 - accuracy: 0.8873 - val_loss: 0.3525 - val_accuracy: 0.8478\n",
      "Epoch 9/10\n",
      "266/266 [==============================] - 1s 5ms/step - loss: 0.2616 - accuracy: 0.8928 - val_loss: 0.3565 - val_accuracy: 0.8461\n",
      "Epoch 10/10\n",
      "266/266 [==============================] - 1s 5ms/step - loss: 0.2503 - accuracy: 0.8988 - val_loss: 0.3665 - val_accuracy: 0.8445\n"
     ]
    }
   ],
   "source": [
    "# 학습의 진행\n",
    "model4.compile(optimizer = \"adam\",\n",
    "              loss='binary_crossentropy',\n",
    "              metrics=['accuracy'])\n",
    "              \n",
    "epochs=10  # 몇 epoch를 훈련하면 좋을지 결과를 보면서 바꾸어 봅시다. \n",
    "\n",
    "history4 = model4.fit(partial_X_train,\n",
    "                    partial_y_train,\n",
    "                    epochs=epochs,\n",
    "                    batch_size=512,\n",
    "                    validation_data=(X_val, y_val),\n",
    "                    verbose=1)"
   ]
  },
  {
   "cell_type": "code",
   "execution_count": 55,
   "id": "454a0093",
   "metadata": {},
   "outputs": [
    {
     "name": "stdout",
     "output_type": "stream",
     "text": [
      "1537/1537 - 3s - loss: 0.3759 - accuracy: 0.8449\n",
      "[0.37589743733406067, 0.8449254631996155]\n"
     ]
    }
   ],
   "source": [
    "# 테스트셋을 통한 모델 평가\n",
    "results4 = model4.evaluate(X_test,  y_test, verbose=2)\n",
    "\n",
    "print(results4)"
   ]
  },
  {
   "cell_type": "code",
   "execution_count": 56,
   "id": "609f1dbe",
   "metadata": {},
   "outputs": [
    {
     "name": "stderr",
     "output_type": "stream",
     "text": [
      "/opt/conda/lib/python3.9/site-packages/matplotlib/backends/backend_agg.py:240: RuntimeWarning: Glyph 54620 missing from current font.\n",
      "  font.set_text(s, 0.0, flags=flags)\n",
      "/opt/conda/lib/python3.9/site-packages/matplotlib/backends/backend_agg.py:240: RuntimeWarning: Glyph 44397 missing from current font.\n",
      "  font.set_text(s, 0.0, flags=flags)\n",
      "/opt/conda/lib/python3.9/site-packages/matplotlib/backends/backend_agg.py:240: RuntimeWarning: Glyph 50612 missing from current font.\n",
      "  font.set_text(s, 0.0, flags=flags)\n",
      "/opt/conda/lib/python3.9/site-packages/matplotlib/backends/backend_agg.py:203: RuntimeWarning: Glyph 54620 missing from current font.\n",
      "  font.set_text(s, 0, flags=flags)\n",
      "/opt/conda/lib/python3.9/site-packages/matplotlib/backends/backend_agg.py:203: RuntimeWarning: Glyph 44397 missing from current font.\n",
      "  font.set_text(s, 0, flags=flags)\n",
      "/opt/conda/lib/python3.9/site-packages/matplotlib/backends/backend_agg.py:203: RuntimeWarning: Glyph 50612 missing from current font.\n",
      "  font.set_text(s, 0, flags=flags)\n"
     ]
    },
    {
     "data": {
      "image/png": "[encoded data removed]",
      "text/plain": [
       "<Figure size 864x360 with 2 Axes>"
      ]
     },
     "metadata": {
      "needs_background": "light"
     },
     "output_type": "display_data"
    }
   ],
   "source": [
    "# 그래프 비교 \n",
    "# 데이터 준비\n",
    "acc4 = history4.history['accuracy']\n",
    "val_acc4 = history4.history['val_accuracy']\n",
    "loss4 = history4.history['loss']\n",
    "val_loss4 = history4.history['val_loss']\n",
    "\n",
    "epochs4 = range(1, len(acc4) + 1)\n",
    "\n",
    "# 서브플롯 생성\n",
    "\n",
    "fig, axs = plt.subplots(1, 2, figsize=(12, 5))  # 1행 2열의 서브플롯 생성, 크기 조정\n",
    "\n",
    "# 첫 번째 서브플롯: Training and validation loss\n",
    "axs[0].plot(epochs4, loss4, 'bo', label='Training loss')\n",
    "axs[0].plot(epochs4, val_loss4, 'b', label='Validation loss')\n",
    "axs[0].set_title('1D-CNN with Word2Vec:Training and validation loss')\n",
    "axs[0].set_xlabel('Epochs')\n",
    "axs[0].set_ylabel('Loss')\n",
    "axs[0].legend()\n",
    "\n",
    "# 두 번째 서브플롯: Training and validation accuracy\n",
    "axs[1].plot(epochs4, acc4, 'bo', label='Training acc')\n",
    "axs[1].plot(epochs4, val_acc4, 'b', label='Validation acc')\n",
    "axs[1].set_title('1D-CNN with 한국어 Word2Vec:Training and validation accuracy')\n",
    "axs[1].set_xlabel('Epochs')\n",
    "axs[1].set_ylabel('Accuracy')\n",
    "axs[1].legend()\n",
    "\n",
    "# 레이아웃 조정 및 표시\n",
    "plt.tight_layout()\n",
    "plt.show()"
   ]
  },
  {
   "cell_type": "markdown",
   "id": "60ef1e61",
   "metadata": {},
   "source": [
    "### 한국어 Word2Vec이 임베딩된 상태에서 LSTM"
   ]
  },
  {
   "cell_type": "code",
   "execution_count": 65,
   "id": "e817db89",
   "metadata": {},
   "outputs": [
    {
     "name": "stdout",
     "output_type": "stream",
     "text": [
      "WARNING:tensorflow:Layer lstm_3 will not use cuDNN kernels since it doesn't meet the criteria. It will use a generic GPU kernel as fallback when running on GPU.\n",
      "Model: \"sequential_8\"\n",
      "_________________________________________________________________\n",
      "Layer (type)                 Output Shape              Param #   \n",
      "=================================================================\n",
      "embedding_9 (Embedding)      (None, 41, 100)           1000000   \n",
      "_________________________________________________________________\n",
      "lstm_3 (LSTM)                (None, 16)                7488      \n",
      "_________________________________________________________________\n",
      "dense_22 (Dense)             (None, 8)                 136       \n",
      "_________________________________________________________________\n",
      "dense_23 (Dense)             (None, 1)                 9         \n",
      "=================================================================\n",
      "Total params: 1,007,633\n",
      "Trainable params: 1,007,633\n",
      "Non-trainable params: 0\n",
      "_________________________________________________________________\n"
     ]
    }
   ],
   "source": [
    "from keras.initializers import Constant\n",
    "\n",
    "vocab_size = 10000    # 어휘 사전의 크기입니다(10,000개의 단어)\n",
    "word_vector_dim = 100  # 워드 벡터의 차원 수 \n",
    "\n",
    "# 모델 구성\n",
    "def model_build():\n",
    "    model = tf.keras.Sequential()\n",
    "    model.add(tf.keras.layers.Embedding(vocab_size, \n",
    "                                    word_vector_dim, \n",
    "                                    embeddings_initializer=Constant(embedding_matrix),  # 카피한 임베딩을 여기서 활용\n",
    "                                    input_length=maxlen, \n",
    "                                    trainable=True))   # trainable을 True로 주면 Fine-tuning\n",
    "    model.add(tf.keras.layers.LSTM(16,dropout=0.2,recurrent_dropout=0.2))\n",
    "    model.add(tf.keras.layers.Dense(8, activation='relu'))\n",
    "    model.add(tf.keras.layers.Dense(1, activation='sigmoid'))\n",
    "    return model\n",
    "\n",
    "model = model_build()\n",
    "model.summary()"
   ]
  },
  {
   "cell_type": "code",
   "execution_count": 66,
   "id": "5019c963",
   "metadata": {},
   "outputs": [
    {
     "name": "stdout",
     "output_type": "stream",
     "text": [
      "Epoch 1/20\n",
      "266/266 [==============================] - 44s 157ms/step - loss: 0.6469 - accuracy: 0.6045 - val_loss: 0.5186 - val_accuracy: 0.7524\n",
      "Epoch 2/20\n",
      "266/266 [==============================] - 41s 155ms/step - loss: 0.4862 - accuracy: 0.7717 - val_loss: 0.4228 - val_accuracy: 0.8103\n",
      "Epoch 3/20\n",
      "266/266 [==============================] - 41s 155ms/step - loss: 0.4235 - accuracy: 0.8082 - val_loss: 0.3849 - val_accuracy: 0.8282\n",
      "Epoch 4/20\n",
      "266/266 [==============================] - 41s 154ms/step - loss: 0.3908 - accuracy: 0.8260 - val_loss: 0.3645 - val_accuracy: 0.8427\n",
      "Epoch 5/20\n",
      "266/266 [==============================] - 41s 156ms/step - loss: 0.3724 - accuracy: 0.8356 - val_loss: 0.3568 - val_accuracy: 0.8433\n",
      "Epoch 6/20\n",
      "266/266 [==============================] - 41s 155ms/step - loss: 0.3566 - accuracy: 0.8444 - val_loss: 0.3492 - val_accuracy: 0.8501\n",
      "Epoch 7/20\n",
      "266/266 [==============================] - 41s 155ms/step - loss: 0.3449 - accuracy: 0.8499 - val_loss: 0.3425 - val_accuracy: 0.8504\n",
      "Epoch 8/20\n",
      "266/266 [==============================] - 41s 155ms/step - loss: 0.3382 - accuracy: 0.8532 - val_loss: 0.3383 - val_accuracy: 0.8540\n",
      "Epoch 9/20\n",
      "266/266 [==============================] - 41s 155ms/step - loss: 0.3299 - accuracy: 0.8577 - val_loss: 0.3363 - val_accuracy: 0.8551\n",
      "Epoch 10/20\n",
      "266/266 [==============================] - 41s 155ms/step - loss: 0.3234 - accuracy: 0.8607 - val_loss: 0.3352 - val_accuracy: 0.8545\n",
      "Epoch 11/20\n",
      "266/266 [==============================] - 41s 156ms/step - loss: 0.3183 - accuracy: 0.8627 - val_loss: 0.3321 - val_accuracy: 0.8552\n",
      "Epoch 12/20\n",
      "266/266 [==============================] - 41s 155ms/step - loss: 0.3124 - accuracy: 0.8660 - val_loss: 0.3330 - val_accuracy: 0.8555\n",
      "Epoch 13/20\n",
      "266/266 [==============================] - 42s 156ms/step - loss: 0.3090 - accuracy: 0.8677 - val_loss: 0.3302 - val_accuracy: 0.8576\n",
      "Epoch 14/20\n",
      "266/266 [==============================] - 41s 154ms/step - loss: 0.3050 - accuracy: 0.8692 - val_loss: 0.3296 - val_accuracy: 0.8571\n",
      "Epoch 15/20\n",
      "266/266 [==============================] - 41s 155ms/step - loss: 0.3011 - accuracy: 0.8722 - val_loss: 0.3323 - val_accuracy: 0.8581\n",
      "Epoch 16/20\n",
      "266/266 [==============================] - 41s 155ms/step - loss: 0.2965 - accuracy: 0.8745 - val_loss: 0.3299 - val_accuracy: 0.8571\n",
      "Epoch 17/20\n",
      "266/266 [==============================] - 41s 155ms/step - loss: 0.2939 - accuracy: 0.8749 - val_loss: 0.3322 - val_accuracy: 0.8537\n",
      "Epoch 18/20\n",
      "266/266 [==============================] - 41s 155ms/step - loss: 0.2910 - accuracy: 0.8764 - val_loss: 0.3319 - val_accuracy: 0.8559\n",
      "Epoch 19/20\n",
      "266/266 [==============================] - 41s 155ms/step - loss: 0.2889 - accuracy: 0.8780 - val_loss: 0.3336 - val_accuracy: 0.8563\n",
      "Epoch 20/20\n",
      "266/266 [==============================] - 41s 155ms/step - loss: 0.2845 - accuracy: 0.8797 - val_loss: 0.3320 - val_accuracy: 0.8563\n"
     ]
    }
   ],
   "source": [
    "# 모델 컴파일\n",
    "model.compile(optimizer='adam',\n",
    "              loss='binary_crossentropy',\n",
    "              metrics=['accuracy'])\n",
    "\n",
    "epochs = 20  # 몇 epoch를 훈련하면 좋을지 결과를 보면서 바꾸어 봅시다. \n",
    "\n",
    "# 모델 학습\n",
    "history = model.fit(partial_X_train,\n",
    "                    partial_y_train,\n",
    "                    epochs=epochs,\n",
    "                    batch_size=512,\n",
    "                    validation_data=(X_val, y_val),\n",
    "                    verbose=1)"
   ]
  },
  {
   "cell_type": "code",
   "execution_count": 67,
   "id": "29e92a19",
   "metadata": {},
   "outputs": [
    {
     "name": "stdout",
     "output_type": "stream",
     "text": [
      "1537/1537 - 17s - loss: 0.3385 - accuracy: 0.8562\n",
      "[0.3384877145290375, 0.85621577501297]\n",
      "dict_keys(['loss', 'accuracy', 'val_loss', 'val_accuracy'])\n"
     ]
    }
   ],
   "source": [
    "# 평가\n",
    "results = model.evaluate(X_test, y_test, verbose=2)\n",
    "print(results)\n",
    "\n",
    "# 학습 결과 출력\n",
    "history_dict = history.history\n",
    "print(history_dict.keys())  # epoch에 따른 그래프를 그릴 수 있는 항목들"
   ]
  },
  {
   "cell_type": "code",
   "execution_count": 68,
   "id": "c40c729d",
   "metadata": {},
   "outputs": [
    {
     "data": {
      "image/png": "[encoded data removed]",
      "text/plain": [
       "<Figure size 864x360 with 2 Axes>"
      ]
     },
     "metadata": {
      "needs_background": "light"
     },
     "output_type": "display_data"
    }
   ],
   "source": [
    "# 그래프 비교 \n",
    "# 데이터 준비\n",
    "acc = history_dict['accuracy']\n",
    "val_acc = history_dict['val_accuracy']\n",
    "loss = history_dict['loss']\n",
    "val_loss = history_dict['val_loss']\n",
    "\n",
    "epochs = range(1, len(acc) + 1)\n",
    "\n",
    "# 서브플롯 생성\n",
    "\n",
    "fig, axs = plt.subplots(1, 2, figsize=(12, 5))  # 1행 2열의 서브플롯 생성, 크기 조정\n",
    "\n",
    "# 첫 번째 서브플롯: Training and validation loss\n",
    "axs[0].plot(epochs, loss, 'bo', label='Training loss')\n",
    "axs[0].plot(epochs, val_loss, 'b', label='Validation loss')\n",
    "axs[0].set_title('LSTM with Word2Vec: Training and validation loss')\n",
    "axs[0].set_xlabel('Epochs')\n",
    "axs[0].set_ylabel('Loss')\n",
    "axs[0].legend()\n",
    "\n",
    "# 두 번째 서브플롯: Training and validation accuracy\n",
    "axs[1].plot(epochs, acc, 'bo', label='Training acc')\n",
    "axs[1].plot(epochs, val_acc, 'b', label='Validation acc')\n",
    "axs[1].set_title('LSTM with Word2Vec: Training and validation accuracy')\n",
    "axs[1].set_xlabel('Epochs')\n",
    "axs[1].set_ylabel('Accuracy')\n",
    "axs[1].legend()\n",
    "\n",
    "# 레이아웃 조정 및 표시\n",
    "plt.tight_layout()\n",
    "plt.show()"
   ]
  },
  {
   "cell_type": "markdown",
   "id": "cdab35d0",
   "metadata": {},
   "source": [
    "### 한국어 Word2Vec을 임베딩하여 GlobalMaxPooling1D"
   ]
  },
  {
   "cell_type": "code",
   "execution_count": 62,
   "id": "7c4b61eb",
   "metadata": {},
   "outputs": [
    {
     "name": "stdout",
     "output_type": "stream",
     "text": [
      "Model: \"sequential_7\"\n",
      "_________________________________________________________________\n",
      "Layer (type)                 Output Shape              Param #   \n",
      "=================================================================\n",
      "embedding_8 (Embedding)      (None, 41, 100)           1000000   \n",
      "_________________________________________________________________\n",
      "global_max_pooling1d_4 (Glob (None, 100)               0         \n",
      "_________________________________________________________________\n",
      "dense_20 (Dense)             (None, 16)                1616      \n",
      "_________________________________________________________________\n",
      "dense_21 (Dense)             (None, 1)                 17        \n",
      "=================================================================\n",
      "Total params: 1,001,633\n",
      "Trainable params: 1,001,633\n",
      "Non-trainable params: 0\n",
      "_________________________________________________________________\n",
      "Epoch 1/10\n",
      "4569/4569 [==============================] - 14s 3ms/step - loss: 0.5946 - accuracy: 0.6829 - val_loss: 0.5287 - val_accuracy: 0.7359\n",
      "Epoch 2/10\n",
      "4569/4569 [==============================] - 14s 3ms/step - loss: 0.4805 - accuracy: 0.7685 - val_loss: 0.4431 - val_accuracy: 0.7941\n",
      "Epoch 3/10\n",
      "4569/4569 [==============================] - 14s 3ms/step - loss: 0.4357 - accuracy: 0.7961 - val_loss: 0.4085 - val_accuracy: 0.8142\n",
      "Epoch 4/10\n",
      "4569/4569 [==============================] - 14s 3ms/step - loss: 0.4082 - accuracy: 0.8134 - val_loss: 0.3837 - val_accuracy: 0.8310\n",
      "Epoch 5/10\n",
      "4569/4569 [==============================] - 14s 3ms/step - loss: 0.3887 - accuracy: 0.8242 - val_loss: 0.3671 - val_accuracy: 0.8381\n",
      "Epoch 6/10\n",
      "4569/4569 [==============================] - 14s 3ms/step - loss: 0.3722 - accuracy: 0.8334 - val_loss: 0.3595 - val_accuracy: 0.8435\n",
      "Epoch 7/10\n",
      "4569/4569 [==============================] - 14s 3ms/step - loss: 0.3585 - accuracy: 0.8415 - val_loss: 0.3367 - val_accuracy: 0.8554\n",
      "Epoch 8/10\n",
      "4569/4569 [==============================] - 14s 3ms/step - loss: 0.3459 - accuracy: 0.8483 - val_loss: 0.3270 - val_accuracy: 0.8588\n",
      "Epoch 9/10\n",
      "4569/4569 [==============================] - 14s 3ms/step - loss: 0.3348 - accuracy: 0.8547 - val_loss: 0.3180 - val_accuracy: 0.8648\n",
      "Epoch 10/10\n",
      "4569/4569 [==============================] - 14s 3ms/step - loss: 0.3238 - accuracy: 0.8603 - val_loss: 0.3040 - val_accuracy: 0.8726\n",
      "dict_keys(['loss', 'accuracy', 'val_loss', 'val_accuracy'])\n"
     ]
    }
   ],
   "source": [
    "# 하이퍼파라미터 설정\n",
    "vocab_size = 10000      # 어휘 사전 크기\n",
    "word_vector_dim = 100   # 워드 벡터 차원 (예시로 300으로 설정)\n",
    "max_sequence_length = 41  # 시퀀스 최대 길이 (예시로 41로 설정)\n",
    "\n",
    "\n",
    "\n",
    "# 모델 설계 - GlobalMaxPooling1D를 사용한 모델\n",
    "model6 = tf.keras.Sequential([\n",
    "    # Embedding 레이어: 사전 학습된 임베딩 매트릭스를 사용하여 초기화\n",
    "    tf.keras.layers.Embedding(input_dim=vocab_size,\n",
    "                              output_dim=word_vector_dim,\n",
    "                              embeddings_initializer=Constant(embedding_matrix), # 여기서 embedding_matrix를 사용\n",
    "                              input_length=max_sequence_length,\n",
    "                              trainable=True),  # 학습되지 않도록 설정 (사전 학습된 값 고정)\n",
    "    \n",
    "    # GlobalMaxPooling1D 레이어\n",
    "    tf.keras.layers.GlobalMaxPooling1D(),  # 시퀀스에서 최대값을 추출\n",
    "    \n",
    "    # Dense 레이어 (은닉층)\n",
    "    tf.keras.layers.Dense(16, activation='relu'),\n",
    "    \n",
    "    # 출력층\n",
    "    tf.keras.layers.Dense(1, activation='sigmoid')  # 긍정(1)과 부정(0) 분류\n",
    "])\n",
    "\n",
    "# 모델 요약\n",
    "model6.summary()\n",
    "\n",
    "# 모델 컴파일\n",
    "model6.compile(optimizer='adam',\n",
    "              loss='binary_crossentropy',\n",
    "              metrics=['accuracy'])\n",
    "\n",
    "# 모델 학습 (여기서는 예시 데이터 사용)\n",
    "# X_train과 y_train은 훈련 데이터와 레이블\n",
    "history6 = model6.fit(X_train, y_train, epochs=10, batch_size=32, validation_data=(X_val, y_val), verbose=1)\n",
    "\n",
    "# 학습 결과 출력\n",
    "history_dict6 = history6.history\n",
    "print(history_dict6.keys())  # epoch에 따른 그래프를 그릴 수 있는 항목들"
   ]
  },
  {
   "cell_type": "code",
   "execution_count": 63,
   "id": "894ac0be",
   "metadata": {},
   "outputs": [
    {
     "name": "stdout",
     "output_type": "stream",
     "text": [
      "1537/1537 - 2s - loss: 0.3924 - accuracy: 0.8262\n",
      "[0.39242759346961975, 0.8261691927909851]\n"
     ]
    }
   ],
   "source": [
    "# 모델 평가\n",
    "results6 = model6.evaluate(X_test, y_test, verbose=2)\n",
    "print(results6)"
   ]
  },
  {
   "cell_type": "code",
   "execution_count": 64,
   "id": "a6876f08",
   "metadata": {},
   "outputs": [
    {
     "data": {
      "image/png": "[encoded data removed]",
      "text/plain": [
       "<Figure size 864x360 with 2 Axes>"
      ]
     },
     "metadata": {
      "needs_background": "light"
     },
     "output_type": "display_data"
    }
   ],
   "source": [
    "# 데이터 준비\n",
    "acc6 = history_dict6['accuracy']\n",
    "val_acc6 = history_dict6['val_accuracy']\n",
    "loss6 = history_dict6['loss']\n",
    "val_loss6 = history_dict6['val_loss']\n",
    "\n",
    "epochs6 = range(1, len(acc6) + 1)\n",
    "\n",
    "# 서브플롯 생성\n",
    "\n",
    "fig, axs = plt.subplots(1, 2, figsize=(12, 5))  # 1행 2열의 서브플롯 생성, 크기 조정\n",
    "\n",
    "# 첫 번째 서브플롯: Training and validation loss\n",
    "axs[0].plot(epochs6, loss6, 'bo', label='Training loss')\n",
    "axs[0].plot(epochs6, val_loss6, 'b', label='Validation loss')\n",
    "axs[0].set_title('GlobalMaxPooling1D with Word2Vec: Training and validation loss')\n",
    "axs[0].set_xlabel('Epochs')\n",
    "axs[0].set_ylabel('Loss')\n",
    "axs[0].legend()\n",
    "\n",
    "# 두 번째 서브플롯: Training and validation accuracy\n",
    "axs[1].plot(epochs6, acc6, 'bo', label='Training acc')\n",
    "axs[1].plot(epochs6, val_acc6, 'b', label='Validation acc')\n",
    "axs[1].set_title('GlobalMaxPooling1D with Word2Vec:Training and validation accuracy')\n",
    "axs[1].set_xlabel('Epochs')\n",
    "axs[1].set_ylabel('Accuracy')\n",
    "axs[1].legend()\n",
    "\n",
    "# 레이아웃 조정 및 표시\n",
    "plt.tight_layout()\n",
    "plt.show()"
   ]
  },
  {
   "cell_type": "markdown",
   "id": "d1a7d5af",
   "metadata": {},
   "source": [
    "### 결론: 사전 학습된 임베딩을 통해 LSTM모델이 정확도 85%이상을 달성할수 있었다."
   ]
  },
  {
   "cell_type": "markdown",
   "id": "9804819c",
   "metadata": {},
   "source": [
    "### 회고\n",
    "여러번 모델을 학습시킬때 앞서 학습했던 정보가 계속 남아있지 않게 설정을 해줬어야 했는데\n",
    "초반에 그러지 못해 결과가 훈련을 할수록 정확도가 낮아지게 나왔다. 그리고 0.5 근처의 정확도를 달성했었다.\n",
    "앞으로는 이런부분을 잘 처리할수있도록 꼭 기억해둬야겠다.\n",
    "그리고 트랜스포머 모델에 대해 좀더 공부를 해봐야겠지만, 이번 감성분석에서는 85%를 넘는 정확도는 달성하지 못했다.\n",
    "그보다 LSTM이 좋은 결과를 내주어서 무조건 트랜스포머가 항상 최적의 모델이라고 할수는 없다는걸 실험하며 알게되었다."
   ]
  }
 ],
 "metadata": {
  "kernelspec": {
   "display_name": "Python 3 (ipykernel)",
   "language": "python",
   "name": "python3"
  },
  "language_info": {
   "codemirror_mode": {
    "name": "ipython",
    "version": 3
   },
   "file_extension": ".py",
   "mimetype": "text/x-python",
   "name": "python",
   "nbconvert_exporter": "python",
   "pygments_lexer": "ipython3",
   "version": "3.9.7"
  }
 },
 "nbformat": 4,
 "nbformat_minor": 5
}
