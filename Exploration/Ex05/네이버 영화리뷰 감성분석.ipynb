{
 "cells": [
  {
   "cell_type": "code",
   "execution_count": 141,
   "id": "ce9e2711",
   "metadata": {},
   "outputs": [
    {
     "name": "stdout",
     "output_type": "stream",
     "text": [
      "1.3.3\n",
      "0.5.2\n",
      "4.1.2\n"
     ]
    }
   ],
   "source": [
    "import pandas\n",
    "import konlpy\n",
    "import gensim\n",
    "import matplotlib.pyplot as plt\n",
    "\n",
    "print(pandas.__version__)\n",
    "print(konlpy.__version__)\n",
    "print(gensim.__version__)"
   ]
  },
  {
   "cell_type": "code",
   "execution_count": 142,
   "id": "3d78e14a",
   "metadata": {},
   "outputs": [
    {
     "data": {
      "text/html": [
       "<div>\n",
       "<style scoped>\n",
       "    .dataframe tbody tr th:only-of-type {\n",
       "        vertical-align: middle;\n",
       "    }\n",
       "\n",
       "    .dataframe tbody tr th {\n",
       "        vertical-align: top;\n",
       "    }\n",
       "\n",
       "    .dataframe thead th {\n",
       "        text-align: right;\n",
       "    }\n",
       "</style>\n",
       "<table border=\"1\" class=\"dataframe\">\n",
       "  <thead>\n",
       "    <tr style=\"text-align: right;\">\n",
       "      <th></th>\n",
       "      <th>id</th>\n",
       "      <th>document</th>\n",
       "      <th>label</th>\n",
       "    </tr>\n",
       "  </thead>\n",
       "  <tbody>\n",
       "    <tr>\n",
       "      <th>0</th>\n",
       "      <td>9976970</td>\n",
       "      <td>아 더빙.. 진짜 짜증나네요 목소리</td>\n",
       "      <td>0</td>\n",
       "    </tr>\n",
       "    <tr>\n",
       "      <th>1</th>\n",
       "      <td>3819312</td>\n",
       "      <td>흠...포스터보고 초딩영화줄....오버연기조차 가볍지 않구나</td>\n",
       "      <td>1</td>\n",
       "    </tr>\n",
       "    <tr>\n",
       "      <th>2</th>\n",
       "      <td>10265843</td>\n",
       "      <td>너무재밓었다그래서보는것을추천한다</td>\n",
       "      <td>0</td>\n",
       "    </tr>\n",
       "    <tr>\n",
       "      <th>3</th>\n",
       "      <td>9045019</td>\n",
       "      <td>교도소 이야기구먼 ..솔직히 재미는 없다..평점 조정</td>\n",
       "      <td>0</td>\n",
       "    </tr>\n",
       "    <tr>\n",
       "      <th>4</th>\n",
       "      <td>6483659</td>\n",
       "      <td>사이몬페그의 익살스런 연기가 돋보였던 영화!스파이더맨에서 늙어보이기만 했던 커스틴 ...</td>\n",
       "      <td>1</td>\n",
       "    </tr>\n",
       "  </tbody>\n",
       "</table>\n",
       "</div>"
      ],
      "text/plain": [
       "         id                                           document  label\n",
       "0   9976970                                아 더빙.. 진짜 짜증나네요 목소리      0\n",
       "1   3819312                  흠...포스터보고 초딩영화줄....오버연기조차 가볍지 않구나      1\n",
       "2  10265843                                  너무재밓었다그래서보는것을추천한다      0\n",
       "3   9045019                      교도소 이야기구먼 ..솔직히 재미는 없다..평점 조정      0\n",
       "4   6483659  사이몬페그의 익살스런 연기가 돋보였던 영화!스파이더맨에서 늙어보이기만 했던 커스틴 ...      1"
      ]
     },
     "execution_count": 142,
     "metadata": {},
     "output_type": "execute_result"
    }
   ],
   "source": [
    "import pandas as pd\n",
    "\n",
    "# 데이터를 읽어봅시다. \n",
    "train_data = pd.read_table('~/aiffel/sentiment_classification/data/ratings_train.txt')\n",
    "test_data = pd.read_table('~/aiffel/sentiment_classification/data/ratings_test.txt')\n",
    "\n",
    "train_data.head()"
   ]
  },
  {
   "cell_type": "code",
   "execution_count": 143,
   "id": "9b5b78e2",
   "metadata": {},
   "outputs": [],
   "source": [
    "from konlpy.tag import Mecab\n",
    "import numpy as np\n",
    "from collections import Counter\n",
    "import tensorflow as tf\n",
    "import os\n",
    "\n",
    "tokenizer = Mecab()\n",
    "stopwords = ['의','가','이','은','들','는','좀','잘','걍','과','도','를','으로','자','에','와','한','하다']\n",
    "\n",
    "def load_data(train_data, test_data, num_words=10000):\n",
    "    train_data.drop_duplicates(subset=['document'], inplace=True)\n",
    "    train_data = train_data.dropna(how = 'any') \n",
    "    test_data.drop_duplicates(subset=['document'], inplace=True)\n",
    "    test_data = test_data.dropna(how = 'any') \n",
    "    \n",
    "    X_train = []\n",
    "    for sentence in train_data['document']:\n",
    "        temp_X = tokenizer.morphs(sentence) # 토큰화\n",
    "        temp_X = [word for word in temp_X if not word in stopwords] # 불용어 제거\n",
    "        X_train.append(temp_X)\n",
    "\n",
    "    X_test = []\n",
    "    for sentence in test_data['document']:\n",
    "        temp_X = tokenizer.morphs(sentence) # 토큰화\n",
    "        temp_X = [word for word in temp_X if not word in stopwords] # 불용어 제거\n",
    "        X_test.append(temp_X)\n",
    "    \n",
    "    words = np.concatenate(X_train).tolist()\n",
    "    counter = Counter(words)\n",
    "    counter = counter.most_common(10000-4)\n",
    "    vocab = ['', '', '', ''] + [key for key, _ in counter]\n",
    "    word_to_index = {word:index for index, word in enumerate(vocab)}\n",
    "        \n",
    "    def wordlist_to_indexlist(wordlist):\n",
    "        return [word_to_index[word] if word in word_to_index else word_to_index[''] for word in wordlist]\n",
    "        \n",
    "    X_train = list(map(wordlist_to_indexlist, X_train))\n",
    "    X_test = list(map(wordlist_to_indexlist, X_test))\n",
    "        \n",
    "    return X_train, np.array(list(train_data['label'])), X_test, np.array(list(test_data['label'])), word_to_index\n",
    "    \n",
    "X_train, y_train, X_test, y_test, word_to_index = load_data(train_data, test_data)"
   ]
  },
  {
   "cell_type": "code",
   "execution_count": 82,
   "id": "9ac31950",
   "metadata": {},
   "outputs": [],
   "source": [
    "index_to_word = {index:word for word, index in word_to_index.items()}"
   ]
  },
  {
   "cell_type": "code",
   "execution_count": 83,
   "id": "95eb8e63",
   "metadata": {},
   "outputs": [],
   "source": [
    "# 문장 1개를 활용할 딕셔너리와 함께 주면, 단어 인덱스 리스트 벡터로 변환해 주는 함수입니다. \n",
    "# 단, 모든 문장은 <BOS>로 시작하는 것으로 합니다. \n",
    "def get_encoded_sentence(sentence, word_to_index):\n",
    "    return [word_to_index['<BOS>']]+[word_to_index[word] if word in word_to_index else word_to_index['<UNK>'] for word in sentence.split()]\n",
    "\n",
    "# 여러 개의 문장 리스트를 한꺼번에 단어 인덱스 리스트 벡터로 encode해 주는 함수입니다. \n",
    "def get_encoded_sentences(sentences, word_to_index):\n",
    "    return [get_encoded_sentence(sentence, word_to_index) for sentence in sentences]\n",
    "\n",
    "# 숫자 벡터로 encode된 문장을 원래대로 decode하는 함수입니다. \n",
    "def get_decoded_sentence(encoded_sentence, index_to_word):\n",
    "    return ' '.join(index_to_word[index] if index in index_to_word else '<UNK>' for index in encoded_sentence[1:])  #[1:]를 통해 <BOS>를 제외\n",
    "\n",
    "# 여러 개의 숫자 벡터로 encode된 문장을 한꺼번에 원래대로 decode하는 함수입니다. \n",
    "def get_decoded_sentences(encoded_sentences, index_to_word):\n",
    "    return [get_decoded_sentence(encoded_sentence, index_to_word) for encoded_sentence in encoded_sentences]"
   ]
  },
  {
   "cell_type": "markdown",
   "id": "1ab1dd33",
   "metadata": {},
   "source": [
    "### 3) 모델 구성을 위한 데이터 분석 및 가공"
   ]
  },
  {
   "cell_type": "code",
   "execution_count": 84,
   "id": "42ad3987",
   "metadata": {},
   "outputs": [
    {
     "name": "stdout",
     "output_type": "stream",
     "text": [
      "문장길이 평균 :  15.96940191154864\n",
      "문장길이 최대 :  116\n",
      "문장길이 표준편차 :  12.843571191092\n",
      "pad_sequences maxlen :  41\n",
      "전체 문장의 0.9342988343341575%가 maxlen 설정값 이내에 포함됩니다. \n"
     ]
    }
   ],
   "source": [
    "# 3)-1 데이터셋 내 문장 길이 분포\n",
    "total_data_text = list(X_train) + list(X_test)\n",
    "# 텍스트데이터 문장길이의 리스트를 생성한 후\n",
    "num_tokens = [len(tokens) for tokens in total_data_text]\n",
    "num_tokens = np.array(num_tokens)\n",
    "\n",
    "# 문장길이의 평균값, 최대값, 표준편차를 계산해 본다.\n",
    "print('문장길이 평균 : ', np.mean(num_tokens))\n",
    "print('문장길이 최대 : ', np.max(num_tokens))\n",
    "print('문장길이 표준편차 : ', np.std(num_tokens))\n",
    "\n",
    "\n",
    "# 3)-2 적절한 최대 문장 길이 지정\n",
    "# 최대 문장길이를 (평균 + 2*표준편차)로 한다면,\n",
    "max_tokens = np.mean(num_tokens) + 2 * np.std(num_tokens)\n",
    "maxlen = int(max_tokens)\n",
    "print('pad_sequences maxlen : ', maxlen)\n",
    "print(f'전체 문장의 {np.sum(num_tokens < max_tokens) / len(num_tokens)}%가 maxlen 설정값 이내에 포함됩니다. ')\n",
    "\n",
    "\n"
   ]
  },
  {
   "cell_type": "code",
   "execution_count": 85,
   "id": "51c19589",
   "metadata": {},
   "outputs": [
    {
     "name": "stdout",
     "output_type": "stream",
     "text": [
      "X_train shape: (146182, 41)\n",
      "X_test shape: (49157, 41)\n",
      "Example X_train: [  0   0   0   0   0   0   0   0   0   0   0   0   0   0   0   0   0   0\n",
      "   0   0   0   0   0   0   0   0   0   0   0   0   0  32  74 919   4   4\n",
      "  39 228  20  33 748]\n"
     ]
    }
   ],
   "source": [
    "# keras.preprocessing.sequence.pad_sequences 을 활용한 패딩 추가\n",
    "from tensorflow.keras.preprocessing.sequence import pad_sequences\n",
    "\n",
    "# pad_sequences를 활용한 패딩 추가\n",
    "def pad_text_data(X_train, X_test, maxlen):\n",
    "    # 패딩 추가 (앞쪽을 0으로 패딩)\n",
    "    X_train_padded = pad_sequences(X_train, maxlen=maxlen, padding='pre', truncating='pre')\n",
    "    X_test_padded = pad_sequences(X_test, maxlen=maxlen, padding='pre', truncating='pre')\n",
    "    return X_train_padded, X_test_padded\n",
    "\n",
    "# 패딩 적용\n",
    "X_train, X_test = pad_text_data(X_train, X_test, maxlen)\n",
    "\n",
    "# 결과 확인\n",
    "print(\"X_train shape:\", X_train.shape)\n",
    "print(\"X_test shape:\", X_test.shape)\n",
    "print(\"Example X_train:\", X_train[0])"
   ]
  },
  {
   "cell_type": "markdown",
   "id": "e61c3503",
   "metadata": {},
   "source": [
    "### 4) 모델 구성 및 validation set 구성"
   ]
  },
  {
   "cell_type": "markdown",
   "id": "ce6828e0",
   "metadata": {},
   "source": [
    "### 4)-1 1D-CNN"
   ]
  },
  {
   "cell_type": "code",
   "execution_count": 86,
   "id": "3a3a0e94",
   "metadata": {},
   "outputs": [
    {
     "name": "stdout",
     "output_type": "stream",
     "text": [
      "Model: \"sequential_4\"\n",
      "_________________________________________________________________\n",
      "Layer (type)                 Output Shape              Param #   \n",
      "=================================================================\n",
      "embedding_6 (Embedding)      (None, None, 16)          160000    \n",
      "_________________________________________________________________\n",
      "conv1d_4 (Conv1D)            (None, None, 16)          1296      \n",
      "_________________________________________________________________\n",
      "max_pooling1d_2 (MaxPooling1 (None, None, 16)          0         \n",
      "_________________________________________________________________\n",
      "conv1d_5 (Conv1D)            (None, None, 16)          1296      \n",
      "_________________________________________________________________\n",
      "global_max_pooling1d_2 (Glob (None, 16)                0         \n",
      "_________________________________________________________________\n",
      "dense_14 (Dense)             (None, 8)                 136       \n",
      "_________________________________________________________________\n",
      "dense_15 (Dense)             (None, 1)                 9         \n",
      "=================================================================\n",
      "Total params: 162,737\n",
      "Trainable params: 162,737\n",
      "Non-trainable params: 0\n",
      "_________________________________________________________________\n"
     ]
    }
   ],
   "source": [
    "import tensorflow as tf\n",
    "\n",
    "vocab_size = 10000    # 어휘 사전의 크기입니다(10,000개의 단어)\n",
    "word_vector_dim = 16  # 워드 벡터의 차원 수 (변경 가능한 하이퍼파라미터)\n",
    "\n",
    "# model 설계\n",
    "model = tf.keras.Sequential([\n",
    "    # Embedding 레이어\n",
    "    tf.keras.layers.Embedding(input_dim=vocab_size, output_dim=word_vector_dim, input_shape=(None,)),\n",
    "\n",
    "    # Conv1D 레이어와 MaxPooling1D\n",
    "    tf.keras.layers.Conv1D(16, 5, activation='relu'),\n",
    "    tf.keras.layers.MaxPooling1D(pool_size=2),\n",
    "\n",
    "    # 추가 Conv1D 레이어\n",
    "    tf.keras.layers.Conv1D(16, 5, activation='relu'),\n",
    "    tf.keras.layers.GlobalMaxPooling1D(),  # 전체 시퀀스에서 가장 큰 값을 선택\n",
    "\n",
    "    # Dense layer\n",
    "    tf.keras.layers.Dense(8, activation='relu'), #은닉층\n",
    "    tf.keras.layers.Dense(1, activation='sigmoid') #출력층: 긍정1, 부정0\n",
    "])\n",
    "#모델 요약\n",
    "model.summary()"
   ]
  },
  {
   "cell_type": "code",
   "execution_count": 87,
   "id": "d335717a",
   "metadata": {},
   "outputs": [
    {
     "name": "stdout",
     "output_type": "stream",
     "text": [
      "(136182, 41)\n",
      "(136182,)\n"
     ]
    }
   ],
   "source": [
    "# validation set 구성\n",
    "import numpy as np\n",
    "\n",
    "# validation set 10,000건 분리\n",
    "X_val = np.array(X_train[:10000])\n",
    "y_val = np.array(y_train[:10000])\n",
    "\n",
    "# validation set을 제외한 나머지 15,000건\n",
    "partial_X_train = np.array(X_train[10000:])\n",
    "partial_y_train = np.array(y_train[10000:])\n",
    "\n",
    "# 데이터의 shape 출력\n",
    "print(partial_X_train.shape)  # (15000, sequence_length)\n",
    "print(partial_y_train.shape)  # (15000,)"
   ]
  },
  {
   "cell_type": "code",
   "execution_count": 88,
   "id": "9535e4a1",
   "metadata": {},
   "outputs": [
    {
     "name": "stdout",
     "output_type": "stream",
     "text": [
      "Epoch 1/20\n",
      "266/266 [==============================] - 2s 5ms/step - loss: 0.6905 - accuracy: 0.5283 - val_loss: 0.6859 - val_accuracy: 0.5534\n",
      "Epoch 2/20\n",
      "266/266 [==============================] - 1s 4ms/step - loss: 0.6688 - accuracy: 0.5902 - val_loss: 0.6568 - val_accuracy: 0.6087\n",
      "Epoch 3/20\n",
      "266/266 [==============================] - 1s 4ms/step - loss: 0.6388 - accuracy: 0.6321 - val_loss: 0.6337 - val_accuracy: 0.6338\n",
      "Epoch 4/20\n",
      "266/266 [==============================] - 1s 4ms/step - loss: 0.6198 - accuracy: 0.6520 - val_loss: 0.6212 - val_accuracy: 0.6469\n",
      "Epoch 5/20\n",
      "266/266 [==============================] - 1s 4ms/step - loss: 0.6086 - accuracy: 0.6618 - val_loss: 0.6129 - val_accuracy: 0.6568\n",
      "Epoch 6/20\n",
      "266/266 [==============================] - 1s 4ms/step - loss: 0.6013 - accuracy: 0.6692 - val_loss: 0.6084 - val_accuracy: 0.6615\n",
      "Epoch 7/20\n",
      "266/266 [==============================] - 1s 4ms/step - loss: 0.5948 - accuracy: 0.6763 - val_loss: 0.6026 - val_accuracy: 0.6697\n",
      "Epoch 8/20\n",
      "266/266 [==============================] - 1s 4ms/step - loss: 0.5901 - accuracy: 0.6807 - val_loss: 0.5979 - val_accuracy: 0.6736\n",
      "Epoch 9/20\n",
      "266/266 [==============================] - 1s 4ms/step - loss: 0.5859 - accuracy: 0.6847 - val_loss: 0.5957 - val_accuracy: 0.6717\n",
      "Epoch 10/20\n",
      "266/266 [==============================] - 1s 4ms/step - loss: 0.5820 - accuracy: 0.6880 - val_loss: 0.5925 - val_accuracy: 0.6784\n",
      "Epoch 11/20\n",
      "266/266 [==============================] - 1s 4ms/step - loss: 0.5781 - accuracy: 0.6910 - val_loss: 0.5885 - val_accuracy: 0.6825\n",
      "Epoch 12/20\n",
      "266/266 [==============================] - 1s 4ms/step - loss: 0.5751 - accuracy: 0.6942 - val_loss: 0.5867 - val_accuracy: 0.6824\n",
      "Epoch 13/20\n",
      "266/266 [==============================] - 1s 4ms/step - loss: 0.5724 - accuracy: 0.6954 - val_loss: 0.5823 - val_accuracy: 0.6863\n",
      "Epoch 14/20\n",
      "266/266 [==============================] - 1s 4ms/step - loss: 0.5686 - accuracy: 0.6983 - val_loss: 0.5808 - val_accuracy: 0.6863\n",
      "Epoch 15/20\n",
      "266/266 [==============================] - 1s 4ms/step - loss: 0.5663 - accuracy: 0.7010 - val_loss: 0.5796 - val_accuracy: 0.6868\n",
      "Epoch 16/20\n",
      "266/266 [==============================] - 1s 4ms/step - loss: 0.5642 - accuracy: 0.7021 - val_loss: 0.5767 - val_accuracy: 0.6928\n",
      "Epoch 17/20\n",
      "266/266 [==============================] - 1s 4ms/step - loss: 0.5628 - accuracy: 0.7036 - val_loss: 0.5756 - val_accuracy: 0.6912\n",
      "Epoch 18/20\n",
      "266/266 [==============================] - 1s 4ms/step - loss: 0.5608 - accuracy: 0.7038 - val_loss: 0.5748 - val_accuracy: 0.6942\n",
      "Epoch 19/20\n",
      "266/266 [==============================] - 1s 4ms/step - loss: 0.5592 - accuracy: 0.7058 - val_loss: 0.5762 - val_accuracy: 0.6913\n",
      "Epoch 20/20\n",
      "266/266 [==============================] - 1s 4ms/step - loss: 0.5574 - accuracy: 0.7071 - val_loss: 0.5724 - val_accuracy: 0.6940\n"
     ]
    }
   ],
   "source": [
    "# 임베딩 레이어에서 trainable=False로 설정하여 학습되지 않도록 합니다.\n",
    "model.layers[0].trainable = False  # Embedding 레이어 고정\n",
    "\n",
    "# 모델 컴파일\n",
    "model.compile(optimizer='adam',\n",
    "              loss='binary_crossentropy',\n",
    "              metrics=['accuracy'])\n",
    "\n",
    "epochs=20 # epochs=100\n",
    "\n",
    "history = model.fit(partial_X_train,\n",
    "                    partial_y_train,\n",
    "                    epochs=epochs,\n",
    "                    batch_size=512,\n",
    "                    validation_data=(X_val, y_val),\n",
    "                    verbose=1)"
   ]
  },
  {
   "cell_type": "code",
   "execution_count": 89,
   "id": "a00a329f",
   "metadata": {},
   "outputs": [
    {
     "name": "stdout",
     "output_type": "stream",
     "text": [
      "1537/1537 - 2s - loss: 0.5700 - accuracy: 0.6968\n",
      "[0.570018470287323, 0.6968488693237305]\n"
     ]
    }
   ],
   "source": [
    "results = model.evaluate(X_test,  y_test, verbose=2)\n",
    "\n",
    "print(results)"
   ]
  },
  {
   "cell_type": "code",
   "execution_count": 90,
   "id": "f98586cc",
   "metadata": {},
   "outputs": [
    {
     "name": "stdout",
     "output_type": "stream",
     "text": [
      "dict_keys(['loss', 'accuracy', 'val_loss', 'val_accuracy'])\n"
     ]
    }
   ],
   "source": [
    "history_dict = history.history\n",
    "print(history_dict.keys()) # epoch에 따른 그래프를 그려볼 수 있는 항목들"
   ]
  },
  {
   "cell_type": "code",
   "execution_count": 92,
   "id": "a37b41fb",
   "metadata": {},
   "outputs": [
    {
     "data": {
      "image/png": "[encoded data removed]",
      "text/plain": [
       "<Figure size 864x360 with 2 Axes>"
      ]
     },
     "metadata": {
      "needs_background": "light"
     },
     "output_type": "display_data"
    }
   ],
   "source": [
    "### 그래프\n",
    "import matplotlib.pyplot as plt\n",
    "\n",
    "# 데이터 준비\n",
    "acc = history_dict['accuracy']\n",
    "val_acc = history_dict['val_accuracy']\n",
    "loss = history_dict['loss']\n",
    "val_loss = history_dict['val_loss']\n",
    "\n",
    "epochs = range(1, len(acc) + 1)\n",
    "\n",
    "# 서브플롯 생성\n",
    "fig, axs = plt.subplots(1, 2, figsize=(12, 5))  # 1행 2열의 서브플롯 생성, 크기 조정\n",
    "\n",
    "# 첫 번째 서브플롯: Training and validation loss\n",
    "axs[0].plot(epochs, loss, 'bo', label='Training loss')\n",
    "axs[0].plot(epochs, val_loss, 'b', label='Validation loss')\n",
    "axs[0].set_title('Training and validation loss')\n",
    "axs[0].set_xlabel('Epochs')\n",
    "axs[0].set_ylabel('Loss')\n",
    "axs[0].legend()\n",
    "\n",
    "# 두 번째 서브플롯: Training and validation accuracy\n",
    "axs[1].plot(epochs, acc, 'bo', label='Training acc')\n",
    "axs[1].plot(epochs, val_acc, 'b', label='Validation acc')\n",
    "axs[1].set_title('Training and validation accuracy')\n",
    "axs[1].set_xlabel('Epochs')\n",
    "axs[1].set_ylabel('Accuracy')\n",
    "axs[1].legend()\n",
    "\n",
    "# 레이아웃 조정 및 표시\n",
    "plt.tight_layout()\n",
    "plt.show()"
   ]
  },
  {
   "cell_type": "markdown",
   "id": "98dccc8c",
   "metadata": {},
   "source": [
    "### LSTM사용"
   ]
  },
  {
   "cell_type": "code",
   "execution_count": 93,
   "id": "96a82c87",
   "metadata": {},
   "outputs": [
    {
     "name": "stdout",
     "output_type": "stream",
     "text": [
      "Model: \"sequential_5\"\n",
      "_________________________________________________________________\n",
      "Layer (type)                 Output Shape              Param #   \n",
      "=================================================================\n",
      "embedding_7 (Embedding)      (None, None, 16)          160000    \n",
      "_________________________________________________________________\n",
      "lstm_2 (LSTM)                (None, 16)                2112      \n",
      "_________________________________________________________________\n",
      "dense_16 (Dense)             (None, 8)                 136       \n",
      "_________________________________________________________________\n",
      "dense_17 (Dense)             (None, 1)                 9         \n",
      "=================================================================\n",
      "Total params: 162,257\n",
      "Trainable params: 2,257\n",
      "Non-trainable params: 160,000\n",
      "_________________________________________________________________\n",
      "(136182, 41)\n",
      "(136182,)\n",
      "Epoch 1/20\n",
      "266/266 [==============================] - 3s 6ms/step - loss: 0.6855 - accuracy: 0.5501 - val_loss: 0.6808 - val_accuracy: 0.5527\n",
      "Epoch 2/20\n",
      "266/266 [==============================] - 1s 5ms/step - loss: 0.6735 - accuracy: 0.5786 - val_loss: 0.6728 - val_accuracy: 0.5829\n",
      "Epoch 3/20\n",
      "266/266 [==============================] - 1s 4ms/step - loss: 0.6705 - accuracy: 0.5828 - val_loss: 0.6707 - val_accuracy: 0.5784\n",
      "Epoch 4/20\n",
      "266/266 [==============================] - 1s 4ms/step - loss: 0.6682 - accuracy: 0.5868 - val_loss: 0.6687 - val_accuracy: 0.5865\n",
      "Epoch 5/20\n",
      "266/266 [==============================] - 1s 4ms/step - loss: 0.6657 - accuracy: 0.5891 - val_loss: 0.6680 - val_accuracy: 0.5907\n",
      "Epoch 6/20\n",
      "266/266 [==============================] - 1s 4ms/step - loss: 0.6630 - accuracy: 0.5942 - val_loss: 0.6622 - val_accuracy: 0.5937\n",
      "Epoch 7/20\n",
      "266/266 [==============================] - 1s 4ms/step - loss: 0.6607 - accuracy: 0.5969 - val_loss: 0.6596 - val_accuracy: 0.5987\n",
      "Epoch 8/20\n",
      "266/266 [==============================] - 1s 4ms/step - loss: 0.6583 - accuracy: 0.6000 - val_loss: 0.6576 - val_accuracy: 0.5964\n",
      "Epoch 9/20\n",
      "266/266 [==============================] - 1s 4ms/step - loss: 0.6568 - accuracy: 0.6030 - val_loss: 0.6552 - val_accuracy: 0.6042\n",
      "Epoch 10/20\n",
      "266/266 [==============================] - 1s 4ms/step - loss: 0.6545 - accuracy: 0.6052 - val_loss: 0.6533 - val_accuracy: 0.6087\n",
      "Epoch 11/20\n",
      "266/266 [==============================] - 1s 4ms/step - loss: 0.6527 - accuracy: 0.6090 - val_loss: 0.6505 - val_accuracy: 0.6100\n",
      "Epoch 12/20\n",
      "266/266 [==============================] - 1s 4ms/step - loss: 0.6505 - accuracy: 0.6110 - val_loss: 0.6483 - val_accuracy: 0.6135\n",
      "Epoch 13/20\n",
      "266/266 [==============================] - 1s 4ms/step - loss: 0.6478 - accuracy: 0.6153 - val_loss: 0.6455 - val_accuracy: 0.6174\n",
      "Epoch 14/20\n",
      "266/266 [==============================] - 1s 4ms/step - loss: 0.6454 - accuracy: 0.6187 - val_loss: 0.6427 - val_accuracy: 0.6202\n",
      "Epoch 15/20\n",
      "266/266 [==============================] - 1s 4ms/step - loss: 0.6423 - accuracy: 0.6227 - val_loss: 0.6417 - val_accuracy: 0.6242\n",
      "Epoch 16/20\n",
      "266/266 [==============================] - 1s 4ms/step - loss: 0.6382 - accuracy: 0.6270 - val_loss: 0.6333 - val_accuracy: 0.6325\n",
      "Epoch 17/20\n",
      "266/266 [==============================] - 1s 4ms/step - loss: 0.6337 - accuracy: 0.6327 - val_loss: 0.6302 - val_accuracy: 0.6329\n",
      "Epoch 18/20\n",
      "266/266 [==============================] - 1s 5ms/step - loss: 0.6294 - accuracy: 0.6377 - val_loss: 0.6270 - val_accuracy: 0.6389\n",
      "Epoch 19/20\n",
      "266/266 [==============================] - 1s 4ms/step - loss: 0.6260 - accuracy: 0.6409 - val_loss: 0.6210 - val_accuracy: 0.6471\n",
      "Epoch 20/20\n",
      "266/266 [==============================] - 1s 4ms/step - loss: 0.6241 - accuracy: 0.6425 - val_loss: 0.6177 - val_accuracy: 0.6490\n",
      "1537/1537 - 3s - loss: 0.6230 - accuracy: 0.6435\n",
      "[0.6229916214942932, 0.6435298919677734]\n",
      "dict_keys(['loss', 'accuracy', 'val_loss', 'val_accuracy'])\n"
     ]
    }
   ],
   "source": [
    "vocab_size = 10000    # 어휘 사전의 크기입니다(10,000개의 단어)\n",
    "word_vector_dim = 16  # 워드 벡터의 차원 수 (변경 가능한 하이퍼파라미터)\n",
    "\n",
    "# 모델 설계 - LSTM 기반 모델\n",
    "model = tf.keras.Sequential([\n",
    "    # Embedding 레이어\n",
    "    tf.keras.layers.Embedding(input_dim=vocab_size, output_dim=word_vector_dim, input_shape=(None,)),\n",
    "    \n",
    "    # LSTM 레이어\n",
    "    tf.keras.layers.LSTM(16, activation='tanh', return_sequences=False),  # LSTM 레이어\n",
    "    \n",
    "    # Dense layer\n",
    "    tf.keras.layers.Dense(8, activation='relu'),  # 은닉층\n",
    "    tf.keras.layers.Dense(1, activation='sigmoid')  # 출력층: 긍정1, 부정0\n",
    "])\n",
    "\n",
    "\n",
    "# Embedding 레이어 학습되지 않도록 설정\n",
    "model.layers[0].trainable = False  # 임베딩 레이어 고정\n",
    "\n",
    "\n",
    "#모델 요약\n",
    "model.summary()\n",
    "\n",
    "\n",
    "# validation set 10000건 분리\n",
    "x_val = X_train[:10000]   \n",
    "y_val = y_train[:10000]\n",
    "\n",
    "# validation set을 제외한 나머지 15000건\n",
    "partial_x_train = X_train[10000:]  \n",
    "partial_y_train = y_train[10000:]\n",
    "\n",
    "print(partial_x_train.shape)\n",
    "print(partial_y_train.shape)\n",
    "\n",
    "\n",
    "\n",
    "\n",
    "model.compile(optimizer='adam',\n",
    "              loss='binary_crossentropy',\n",
    "              metrics=['accuracy'])\n",
    "              \n",
    "epochs=20  # 몇 epoch를 훈련하면 좋을지 결과를 보면서 바꾸어 봅시다. \n",
    "\n",
    "history = model.fit(partial_x_train,\n",
    "                    partial_y_train,\n",
    "                    epochs=epochs,\n",
    "                    batch_size=512,\n",
    "                    validation_data=(x_val, y_val),\n",
    "                    verbose=1)\n",
    "\n",
    "\n",
    "\n",
    "\n"
   ]
  },
  {
   "cell_type": "code",
   "execution_count": 94,
   "id": "72e1b615",
   "metadata": {},
   "outputs": [
    {
     "name": "stdout",
     "output_type": "stream",
     "text": [
      "1537/1537 - 3s - loss: 0.6230 - accuracy: 0.6435\n",
      "[0.6229916214942932, 0.6435298919677734]\n",
      "dict_keys(['loss', 'accuracy', 'val_loss', 'val_accuracy'])\n"
     ]
    }
   ],
   "source": [
    "# 평가 지표\n",
    "results = model.evaluate(X_test,  y_test, verbose=2)\n",
    "print(results)"
   ]
  },
  {
   "cell_type": "code",
   "execution_count": 95,
   "id": "1e165fda",
   "metadata": {},
   "outputs": [
    {
     "data": {
      "text/plain": [
       "<Figure size 432x288 with 0 Axes>"
      ]
     },
     "metadata": {},
     "output_type": "display_data"
    },
    {
     "data": {
      "image/png": "[encoded data removed]",
      "text/plain": [
       "<Figure size 864x360 with 2 Axes>"
      ]
     },
     "metadata": {
      "needs_background": "light"
     },
     "output_type": "display_data"
    }
   ],
   "source": [
    "### 그래프 그리기\n",
    "plt.clf() # 앞서 그린 그래프 지우기\n",
    "# 데이터 준비\n",
    "acc = history_dict['accuracy']\n",
    "val_acc = history_dict['val_accuracy']\n",
    "loss = history_dict['loss']\n",
    "val_loss = history_dict['val_loss']\n",
    "\n",
    "epochs = range(1, len(acc) + 1)\n",
    "\n",
    "# 서브플롯 생성\n",
    "fig, axs = plt.subplots(1, 2, figsize=(12, 5))  # 1행 2열의 서브플롯 생성, 크기 조정\n",
    "\n",
    "# 첫 번째 서브플롯: Training and validation loss\n",
    "axs[0].plot(epochs, loss, 'bo', label='Training loss')\n",
    "axs[0].plot(epochs, val_loss, 'b', label='Validation loss')\n",
    "axs[0].set_title('Training and validation loss')\n",
    "axs[0].set_xlabel('Epochs')\n",
    "axs[0].set_ylabel('Loss')\n",
    "axs[0].legend()\n",
    "\n",
    "# 두 번째 서브플롯: Training and validation accuracy\n",
    "axs[1].plot(epochs, acc, 'bo', label='Training acc')\n",
    "axs[1].plot(epochs, val_acc, 'b', label='Validation acc')\n",
    "axs[1].set_title('Training and validation accuracy')\n",
    "axs[1].set_xlabel('Epochs')\n",
    "axs[1].set_ylabel('Accuracy')\n",
    "axs[1].legend()\n",
    "\n",
    "# 레이아웃 조정 및 표시\n",
    "plt.tight_layout()\n",
    "plt.show()"
   ]
  },
  {
   "cell_type": "markdown",
   "id": "741099a0",
   "metadata": {},
   "source": [
    "#### Transformer 방식"
   ]
  },
  {
   "cell_type": "code",
   "execution_count": 96,
   "id": "f7bb486d",
   "metadata": {},
   "outputs": [
    {
     "name": "stdout",
     "output_type": "stream",
     "text": [
      "Model: \"model_1\"\n",
      "__________________________________________________________________________________________________\n",
      "Layer (type)                    Output Shape         Param #     Connected to                     \n",
      "==================================================================================================\n",
      "input_3 (InputLayer)            [(None, None)]       0                                            \n",
      "__________________________________________________________________________________________________\n",
      "embedding_8 (Embedding)         (None, None, 16)     160000      input_3[0][0]                    \n",
      "__________________________________________________________________________________________________\n",
      "positional_encoding_2 (Position (None, None, 16)     0           embedding_8[0][0]                \n",
      "__________________________________________________________________________________________________\n",
      "multi_head_attention_2 (MultiHe (None, None, 16)     4304        positional_encoding_2[0][0]      \n",
      "                                                                 positional_encoding_2[0][0]      \n",
      "__________________________________________________________________________________________________\n",
      "dropout_4 (Dropout)             (None, None, 16)     0           multi_head_attention_2[0][0]     \n",
      "__________________________________________________________________________________________________\n",
      "tf.__operators__.add_4 (TFOpLam (None, None, 16)     0           positional_encoding_2[0][0]      \n",
      "                                                                 dropout_4[0][0]                  \n",
      "__________________________________________________________________________________________________\n",
      "layer_normalization_4 (LayerNor (None, None, 16)     32          tf.__operators__.add_4[0][0]     \n",
      "__________________________________________________________________________________________________\n",
      "dense_18 (Dense)                (None, None, 32)     544         layer_normalization_4[0][0]      \n",
      "__________________________________________________________________________________________________\n",
      "dense_19 (Dense)                (None, None, 16)     528         dense_18[0][0]                   \n",
      "__________________________________________________________________________________________________\n",
      "dropout_5 (Dropout)             (None, None, 16)     0           dense_19[0][0]                   \n",
      "__________________________________________________________________________________________________\n",
      "tf.__operators__.add_5 (TFOpLam (None, None, 16)     0           layer_normalization_4[0][0]      \n",
      "                                                                 dropout_5[0][0]                  \n",
      "__________________________________________________________________________________________________\n",
      "layer_normalization_5 (LayerNor (None, None, 16)     32          tf.__operators__.add_5[0][0]     \n",
      "__________________________________________________________________________________________________\n",
      "multi_head_attention_3 (MultiHe (None, None, 16)     4304        layer_normalization_5[0][0]      \n",
      "                                                                 layer_normalization_5[0][0]      \n",
      "__________________________________________________________________________________________________\n",
      "dropout_6 (Dropout)             (None, None, 16)     0           multi_head_attention_3[0][0]     \n",
      "__________________________________________________________________________________________________\n",
      "tf.__operators__.add_6 (TFOpLam (None, None, 16)     0           layer_normalization_5[0][0]      \n",
      "                                                                 dropout_6[0][0]                  \n",
      "__________________________________________________________________________________________________\n",
      "layer_normalization_6 (LayerNor (None, None, 16)     32          tf.__operators__.add_6[0][0]     \n",
      "__________________________________________________________________________________________________\n",
      "dense_20 (Dense)                (None, None, 32)     544         layer_normalization_6[0][0]      \n",
      "__________________________________________________________________________________________________\n",
      "dense_21 (Dense)                (None, None, 16)     528         dense_20[0][0]                   \n",
      "__________________________________________________________________________________________________\n",
      "dropout_7 (Dropout)             (None, None, 16)     0           dense_21[0][0]                   \n",
      "__________________________________________________________________________________________________\n",
      "tf.__operators__.add_7 (TFOpLam (None, None, 16)     0           layer_normalization_6[0][0]      \n",
      "                                                                 dropout_7[0][0]                  \n",
      "__________________________________________________________________________________________________\n",
      "layer_normalization_7 (LayerNor (None, None, 16)     32          tf.__operators__.add_7[0][0]     \n",
      "__________________________________________________________________________________________________\n",
      "global_average_pooling1d_1 (Glo (None, 16)           0           layer_normalization_7[0][0]      \n",
      "__________________________________________________________________________________________________\n",
      "dense_22 (Dense)                (None, 16)           272         global_average_pooling1d_1[0][0] \n",
      "__________________________________________________________________________________________________\n",
      "dense_23 (Dense)                (None, 1)            17          dense_22[0][0]                   \n",
      "==================================================================================================\n",
      "Total params: 171,169\n",
      "Trainable params: 171,169\n",
      "Non-trainable params: 0\n",
      "__________________________________________________________________________________________________\n",
      "(136182, 41)\n",
      "(136182,)\n",
      "Epoch 1/20\n",
      "266/266 [==============================] - 6s 16ms/step - loss: 0.5102 - accuracy: 0.7220 - val_loss: 0.3487 - val_accuracy: 0.8500\n",
      "Epoch 2/20\n",
      "266/266 [==============================] - 4s 15ms/step - loss: 0.3420 - accuracy: 0.8536 - val_loss: 0.3384 - val_accuracy: 0.8553\n",
      "Epoch 3/20\n",
      "266/266 [==============================] - 4s 15ms/step - loss: 0.3210 - accuracy: 0.8646 - val_loss: 0.3401 - val_accuracy: 0.8518\n",
      "Epoch 4/20\n",
      "266/266 [==============================] - 4s 15ms/step - loss: 0.3104 - accuracy: 0.8696 - val_loss: 0.3415 - val_accuracy: 0.8533\n",
      "Epoch 5/20\n",
      "266/266 [==============================] - 4s 15ms/step - loss: 0.3013 - accuracy: 0.8737 - val_loss: 0.3425 - val_accuracy: 0.8530\n",
      "Epoch 6/20\n",
      "266/266 [==============================] - 4s 15ms/step - loss: 0.2915 - accuracy: 0.8793 - val_loss: 0.3456 - val_accuracy: 0.8510\n",
      "Epoch 7/20\n",
      "266/266 [==============================] - 4s 15ms/step - loss: 0.2829 - accuracy: 0.8837 - val_loss: 0.3562 - val_accuracy: 0.8470\n",
      "Epoch 8/20\n",
      "266/266 [==============================] - 4s 15ms/step - loss: 0.2722 - accuracy: 0.8888 - val_loss: 0.3581 - val_accuracy: 0.8483\n",
      "Epoch 9/20\n",
      "266/266 [==============================] - 4s 15ms/step - loss: 0.2632 - accuracy: 0.8946 - val_loss: 0.3733 - val_accuracy: 0.8416\n",
      "Epoch 10/20\n",
      "266/266 [==============================] - 4s 15ms/step - loss: 0.2555 - accuracy: 0.8979 - val_loss: 0.3822 - val_accuracy: 0.8427\n",
      "Epoch 11/20\n",
      "266/266 [==============================] - 4s 15ms/step - loss: 0.2483 - accuracy: 0.9012 - val_loss: 0.3788 - val_accuracy: 0.8399\n",
      "Epoch 12/20\n",
      "266/266 [==============================] - 4s 15ms/step - loss: 0.2409 - accuracy: 0.9058 - val_loss: 0.3893 - val_accuracy: 0.8390\n",
      "Epoch 13/20\n",
      "266/266 [==============================] - 4s 15ms/step - loss: 0.2363 - accuracy: 0.9079 - val_loss: 0.4244 - val_accuracy: 0.8342\n",
      "Epoch 14/20\n",
      "266/266 [==============================] - 4s 15ms/step - loss: 0.2308 - accuracy: 0.9111 - val_loss: 0.4134 - val_accuracy: 0.8378\n",
      "Epoch 15/20\n",
      "266/266 [==============================] - 4s 15ms/step - loss: 0.2212 - accuracy: 0.9152 - val_loss: 0.4200 - val_accuracy: 0.8361\n",
      "Epoch 16/20\n",
      "266/266 [==============================] - 4s 15ms/step - loss: 0.2169 - accuracy: 0.9173 - val_loss: 0.4476 - val_accuracy: 0.8335\n",
      "Epoch 17/20\n",
      "266/266 [==============================] - 4s 15ms/step - loss: 0.2076 - accuracy: 0.9217 - val_loss: 0.4455 - val_accuracy: 0.8340\n",
      "Epoch 18/20\n",
      "266/266 [==============================] - 4s 15ms/step - loss: 0.2015 - accuracy: 0.9245 - val_loss: 0.4799 - val_accuracy: 0.8320\n",
      "Epoch 19/20\n",
      "266/266 [==============================] - 4s 14ms/step - loss: 0.1996 - accuracy: 0.9251 - val_loss: 0.4636 - val_accuracy: 0.8319\n",
      "Epoch 20/20\n",
      "266/266 [==============================] - 4s 15ms/step - loss: 0.1904 - accuracy: 0.9286 - val_loss: 0.4866 - val_accuracy: 0.8320\n"
     ]
    }
   ],
   "source": [
    "import tensorflow as tf\n",
    "\n",
    "# 하이퍼파라미터 설정\n",
    "vocab_size = 10000    # 어휘 사전의 크기입니다 (10,000개의 단어)\n",
    "word_vector_dim = 16  # 워드 벡터의 차원 수\n",
    "num_heads = 4         # Multi-Head Attention의 헤드 수\n",
    "ffn_dim = 32          # Feed-Forward Network의 은닉층 차원\n",
    "num_layers = 2        # Transformer 블록의 수\n",
    "\n",
    "# Positional Encoding\n",
    "class PositionalEncoding(tf.keras.layers.Layer):\n",
    "    def __init__(self, maxlen, d_model):\n",
    "        super().__init__()\n",
    "        self.pos_encoding = self._positional_encoding(maxlen, d_model)\n",
    "    \n",
    "    def _positional_encoding(self, maxlen, d_model):\n",
    "        positions = tf.range(maxlen, dtype=tf.float32)[:, tf.newaxis]  # (maxlen, 1)\n",
    "        dimensions = tf.range(d_model, dtype=tf.float32)[tf.newaxis, :]  # (1, d_model)\n",
    "\n",
    "        # angle_rates 계산\n",
    "        angle_rates = 1 / tf.pow(10000, (2 * (dimensions // 2)) / tf.cast(d_model, tf.float32))\n",
    "        angle_rads = positions * angle_rates  # (maxlen, d_model)\n",
    "\n",
    "        # sin과 cos 함수를 적용하여 positional encoding 생성\n",
    "        pos_encoding = tf.concat([tf.sin(angle_rads), tf.cos(angle_rads)], axis=-1)  # (maxlen, d_model*2)\n",
    "\n",
    "        # 만약 d_model이 16이 아니라면, pos_encoding의 차원을 d_model에 맞게 조정\n",
    "        pos_encoding = pos_encoding[:, :d_model]  # (maxlen, d_model)\n",
    "\n",
    "        return pos_encoding\n",
    "\n",
    "    def call(self, x):\n",
    "        # x에 pos_encoding을 더할 때 배치 차원을 고려한 브로드캐스팅\n",
    "        return x + self.pos_encoding[:tf.shape(x)[1], :]\n",
    "\n",
    "# Transformer 블록 정의\n",
    "def transformer_block(inputs, num_heads, ffn_dim, dropout_rate=0.1):\n",
    "    # Multi-Head Attention\n",
    "    attention_output = tf.keras.layers.MultiHeadAttention(num_heads=num_heads, key_dim=inputs.shape[-1])(inputs, inputs)\n",
    "    attention_output = tf.keras.layers.Dropout(dropout_rate)(attention_output)\n",
    "    attention_output = tf.keras.layers.LayerNormalization(epsilon=1e-6)(inputs + attention_output)\n",
    "\n",
    "    # Feed-Forward Network\n",
    "    ffn_output = tf.keras.layers.Dense(ffn_dim, activation='relu')(attention_output)\n",
    "    ffn_output = tf.keras.layers.Dense(inputs.shape[-1])(ffn_output)\n",
    "    ffn_output = tf.keras.layers.Dropout(dropout_rate)(ffn_output)\n",
    "    output = tf.keras.layers.LayerNormalization(epsilon=1e-6)(attention_output + ffn_output)\n",
    "    \n",
    "    return output\n",
    "\n",
    "# 모델 설계 - Transformer 기반 모델\n",
    "inputs = tf.keras.Input(shape=(None,))  # 입력 시퀀스\n",
    "embedding = tf.keras.layers.Embedding(input_dim=vocab_size, output_dim=word_vector_dim)(inputs)\n",
    "\n",
    "\n",
    "\n",
    "# Embedding 레이어를 학습되지 않도록 고정\n",
    "embedding.trainable = False  # Embedding 레이어 고정\n",
    "\n",
    "\n",
    "# Positional Encoding 추가\n",
    "maxlen = 41  # 최대 시퀀스 길이\n",
    "pos_encoding = PositionalEncoding(maxlen, word_vector_dim)(embedding)\n",
    "\n",
    "x = pos_encoding\n",
    "for _ in range(num_layers):\n",
    "    x = transformer_block(x, num_heads=num_heads, ffn_dim=ffn_dim)\n",
    "\n",
    "# 출력층\n",
    "x = tf.keras.layers.GlobalAveragePooling1D()(x)\n",
    "x = tf.keras.layers.Dense(16, activation='relu')(x)\n",
    "outputs = tf.keras.layers.Dense(1, activation='sigmoid')(x)\n",
    "\n",
    "model = tf.keras.Model(inputs=inputs, outputs=outputs)\n",
    "\n",
    "# 모델 요약\n",
    "model.summary()\n",
    "\n",
    "# validation set 10000건 분리\n",
    "x_val = X_train[:10000]   \n",
    "y_val = y_train[:10000]\n",
    "\n",
    "# validation set을 제외한 나머지 15000건\n",
    "partial_x_train = X_train[10000:]  \n",
    "partial_y_train = y_train[10000:]\n",
    "\n",
    "print(partial_x_train.shape)\n",
    "print(partial_y_train.shape)\n",
    "\n",
    "# 모델 컴파일 및 학습\n",
    "model.compile(optimizer='adam',\n",
    "              loss='binary_crossentropy',\n",
    "              metrics=['accuracy'])\n",
    "\n",
    "# 학습\n",
    "history = model.fit(partial_x_train,\n",
    "                    partial_y_train,\n",
    "                    epochs=20,\n",
    "                    batch_size=512,\n",
    "                    validation_data=(x_val, y_val),\n",
    "                    verbose=1)\n",
    "\n"
   ]
  },
  {
   "cell_type": "code",
   "execution_count": 97,
   "id": "1bfdd350",
   "metadata": {},
   "outputs": [
    {
     "name": "stdout",
     "output_type": "stream",
     "text": [
      "1537/1537 - 5s - loss: 0.5031 - accuracy: 0.8264\n",
      "[0.5031185746192932, 0.8264336585998535]\n"
     ]
    }
   ],
   "source": [
    "# 평가 지표\n",
    "results = model.evaluate(X_test, y_test, verbose=2)\n",
    "print(results)"
   ]
  },
  {
   "cell_type": "code",
   "execution_count": 98,
   "id": "f0d33cd4",
   "metadata": {},
   "outputs": [
    {
     "data": {
      "image/png": "[encoded data removed]",
      "text/plain": [
       "<Figure size 864x360 with 2 Axes>"
      ]
     },
     "metadata": {
      "needs_background": "light"
     },
     "output_type": "display_data"
    }
   ],
   "source": [
    "# 그래프 비교 \n",
    "# 데이터 준비\n",
    "acc = history_dict['accuracy']\n",
    "val_acc = history_dict['val_accuracy']\n",
    "loss = history_dict['loss']\n",
    "val_loss = history_dict['val_loss']\n",
    "\n",
    "epochs = range(1, len(acc) + 1)\n",
    "\n",
    "# 서브플롯 생성\n",
    "\n",
    "fig, axs = plt.subplots(1, 2, figsize=(12, 5))  # 1행 2열의 서브플롯 생성, 크기 조정\n",
    "\n",
    "# 첫 번째 서브플롯: Training and validation loss\n",
    "axs[0].plot(epochs, loss, 'bo', label='Training loss')\n",
    "axs[0].plot(epochs, val_loss, 'b', label='Validation loss')\n",
    "axs[0].set_title('Training and validation loss')\n",
    "axs[0].set_xlabel('Epochs')\n",
    "axs[0].set_ylabel('Loss')\n",
    "axs[0].legend()\n",
    "\n",
    "# 두 번째 서브플롯: Training and validation accuracy\n",
    "axs[1].plot(epochs, acc, 'bo', label='Training acc')\n",
    "axs[1].plot(epochs, val_acc, 'b', label='Validation acc')\n",
    "axs[1].set_title('Training and validation accuracy')\n",
    "axs[1].set_xlabel('Epochs')\n",
    "axs[1].set_ylabel('Accuracy')\n",
    "axs[1].legend()\n",
    "\n",
    "# 레이아웃 조정 및 표시\n",
    "plt.tight_layout()\n",
    "plt.show()"
   ]
  },
  {
   "cell_type": "markdown",
   "id": "a4457a9e",
   "metadata": {},
   "source": [
    "### 학습된 임베딩 레이어 분석"
   ]
  },
  {
   "cell_type": "code",
   "execution_count": 99,
   "id": "ccf37427",
   "metadata": {},
   "outputs": [
    {
     "name": "stdout",
     "output_type": "stream",
     "text": [
      "gensim                        4.1.2\r\n"
     ]
    }
   ],
   "source": [
    "!mkdir -p ~/aiffel/sentiment_classification/data\n",
    "!pip list | grep gensim"
   ]
  },
  {
   "cell_type": "code",
   "execution_count": 100,
   "id": "958db910",
   "metadata": {},
   "outputs": [
    {
     "name": "stdout",
     "output_type": "stream",
     "text": [
      "Embedding layer: <keras.layers.embeddings.Embedding object at 0x7f7ece0144c0>\n",
      "Embedding weights shape: (10000, 16)\n"
     ]
    }
   ],
   "source": [
    "# embedding_layer = model.layers[0]\n",
    "# weights = embedding_layer.get_weights()[0]\n",
    "# print(weights.shape)    # shape: (vocab_size, embedding_dim)\n",
    "\n",
    "\n",
    "# Embedding 레이어 확인\n",
    "embedding_layer = model.layers[1]  # 모델의 두 번째 레이어: Embedding 레이어 \n",
    "print(f\"Embedding layer: {embedding_layer}\")\n",
    "\n",
    "# 가중치 확인\n",
    "weights = embedding_layer.get_weights()\n",
    "\n",
    "# 가중치가 있는지 확인\n",
    "if weights:\n",
    "    print(f\"Embedding weights shape: {weights[0].shape}\")\n",
    "else:\n",
    "    print(\"Embedding weights are not available yet.\")"
   ]
  },
  {
   "cell_type": "code",
   "execution_count": 101,
   "id": "d45a4cd9",
   "metadata": {},
   "outputs": [],
   "source": [
    "# 학습한 Embedding 파라미터를 파일에 써서 저장합니다. \n",
    "word2vec_file_path = os.getenv('HOME')+'/aiffel/sentiment_classification/data/word2vec.txt'\n",
    "f = open(word2vec_file_path, 'w')\n",
    "f.write('{} {}\\n'.format(vocab_size-4, word_vector_dim))  # 몇개의 벡터를 얼마 사이즈로 기재할지 타이틀을 씁니다.\n",
    "\n",
    "# 단어 개수(에서 특수문자 4개는 제외하고)만큼의 워드 벡터를 파일에 기록합니다. \n",
    "vectors = model.get_weights()[0]\n",
    "for i in range(4,vocab_size):\n",
    "    f.write('{} {}\\n'.format(index_to_word[i], ' '.join(map(str, list(vectors[i, :])))))\n",
    "f.close()"
   ]
  },
  {
   "cell_type": "markdown",
   "id": "85582bbe",
   "metadata": {},
   "source": [
    "#### gensim에서 제공하는 패키지를 이용해, 임베딩 파라미터를 word vector로 활용"
   ]
  },
  {
   "cell_type": "code",
   "execution_count": 102,
   "id": "a0c6359a",
   "metadata": {},
   "outputs": [
    {
     "name": "stdout",
     "output_type": "stream",
     "text": [
      "['.', '영화', '다', '고', '하', '을', '보', '..', '게', ',']\n"
     ]
    }
   ],
   "source": [
    "from gensim.models.keyedvectors import Word2VecKeyedVectors\n",
    "\n",
    "word_vectors = Word2VecKeyedVectors.load_word2vec_format(word2vec_file_path, binary=False)\n",
    "\n",
    "\n",
    "# 단어 목록 확인\n",
    "print(list(word_vectors.key_to_index.keys())[:10])  # 상위 10개 단어 출력\n",
    "\n",
    "# vector = word_vectors['computer']\n",
    "# vector"
   ]
  },
  {
   "cell_type": "markdown",
   "id": "301417b4",
   "metadata": {},
   "source": [
    "#### 비슷한 단어 유사도 확인"
   ]
  },
  {
   "cell_type": "code",
   "execution_count": 103,
   "id": "5adb794a",
   "metadata": {},
   "outputs": [
    {
     "data": {
      "text/plain": [
       "[('수다', 0.8912362456321716),\n",
       " ('봉', 0.8588735461235046),\n",
       " ('느낌', 0.8477964401245117),\n",
       " ('준다', 0.8371030688285828),\n",
       " ('던', 0.8326224088668823),\n",
       " ('닼', 0.8276500701904297),\n",
       " ('습니다', 0.8140498995780945),\n",
       " ('여러모로', 0.8043016195297241),\n",
       " ('스타일', 0.8004488945007324),\n",
       " ('만세', 0.7980656623840332)]"
      ]
     },
     "execution_count": 103,
     "metadata": {},
     "output_type": "execute_result"
    }
   ],
   "source": [
    "word_vectors.similar_by_word(\"영화\")"
   ]
  },
  {
   "cell_type": "markdown",
   "id": "5973fd44",
   "metadata": {},
   "source": [
    "### 한국어 Word2Vec"
   ]
  },
  {
   "cell_type": "code",
   "execution_count": 104,
   "id": "14970fd3",
   "metadata": {},
   "outputs": [
    {
     "name": "stdout",
     "output_type": "stream",
     "text": [
      "ln: failed to create symbolic link '/aiffel/aiffel/sentiment_classification/data/word2vec_ko.model': File exists\n",
      "ln: failed to create symbolic link '/aiffel/aiffel/sentiment_classification/data/word2vec_ko.model.trainables.syn1neg.npy': File exists\n",
      "ln: failed to create symbolic link '/aiffel/aiffel/sentiment_classification/data/word2vec_ko.model.wv.vectors.npy': File exists\n"
     ]
    }
   ],
   "source": [
    "!ln -s ~/data/word2vec_ko.model ~/aiffel/sentiment_classification/data\n",
    "!ln -s ~/data/word2vec_ko.model.trainables.syn1neg.npy ~/aiffel/sentiment_classification/data\n",
    "!ln -s ~/data//word2vec_ko.model.wv.vectors.npy ~/aiffel/sentiment_classification/data"
   ]
  },
  {
   "cell_type": "code",
   "execution_count": 105,
   "id": "57972e48",
   "metadata": {},
   "outputs": [],
   "source": [
    "from gensim.models.keyedvectors import Word2VecKeyedVectors\n",
    "\n",
    "word2vec_file_path = os.getenv('HOME') + '/aiffel/sentiment_classification/data/word2vec_ko.model'\n",
    "word_vectors = Word2VecKeyedVectors.load(word2vec_file_path)\n",
    "vector = word_vectors.wv['끝']"
   ]
  },
  {
   "cell_type": "code",
   "execution_count": 125,
   "id": "69875a7b",
   "metadata": {},
   "outputs": [
    {
     "name": "stdout",
     "output_type": "stream",
     "text": [
      "(10000, 300)\n"
     ]
    },
    {
     "name": "stderr",
     "output_type": "stream",
     "text": [
      "/tmp/ipykernel_33/3499252412.py:18: FutureWarning: elementwise comparison failed; returning scalar instead, but in the future will perform elementwise comparison\n",
      "  if word in vector:  # 단어가 KeyedVectors에 있는지 확인\n"
     ]
    }
   ],
   "source": [
    "# from gensim.models import Word2Vec\n",
    "# import numpy as np\n",
    "\n",
    "# # Word2Vec 모델 로드\n",
    "# model = Word2Vec.load('word2vec_ko.model')\n",
    "\n",
    "# # KeyedVectors 객체로 변환\n",
    "# word_vectors = model.wv  # 'wv' 속성에서 KeyedVectors 객체로 접근\n",
    "\n",
    "# embedding_matrix 크기 설정\n",
    "vocab_size = 10000  # 어휘 사전 크기\n",
    "word_vector_dim = 300  # 워드 벡터 차원 수 (예시로 300으로 설정)\n",
    "embedding_matrix = np.zeros((vocab_size, word_vector_dim))\n",
    "\n",
    "# index_to_word가 있다고 가정하고, 단어 벡터를 가져옴\n",
    "for i in range(4, vocab_size):  # index_to_word의 인덱스를 사용할 때 범위 설정\n",
    "    word = index_to_word[i]\n",
    "    if word in vector:  # 단어가 KeyedVectors에 있는지 확인\n",
    "        embedding_matrix[i] = word_vectors[word]\n",
    "    else:\n",
    "        # 단어가 vector에 없는 경우\n",
    "        embedding_matrix[i] = np.zeros(word_vector_dim)\n",
    "\n",
    "# embedding_matrix에 대한 확인\n",
    "print(embedding_matrix.shape)"
   ]
  },
  {
   "cell_type": "markdown",
   "id": "33b29cf0",
   "metadata": {},
   "source": [
    "### 한국어 Word2Vec이 임베딩된 상태에서 1D-CNN으로 모델 학습"
   ]
  },
  {
   "cell_type": "code",
   "execution_count": 122,
   "id": "f4d42d21",
   "metadata": {},
   "outputs": [
    {
     "name": "stdout",
     "output_type": "stream",
     "text": [
      "Model: \"sequential_8\"\n",
      "_________________________________________________________________\n",
      "Layer (type)                 Output Shape              Param #   \n",
      "=================================================================\n",
      "embedding_11 (Embedding)     (None, 41, 300)           3000000   \n",
      "_________________________________________________________________\n",
      "conv1d_8 (Conv1D)            (None, 35, 16)            33616     \n",
      "_________________________________________________________________\n",
      "max_pooling1d_4 (MaxPooling1 (None, 7, 16)             0         \n",
      "_________________________________________________________________\n",
      "conv1d_9 (Conv1D)            (None, 1, 16)             1808      \n",
      "_________________________________________________________________\n",
      "global_max_pooling1d_4 (Glob (None, 16)                0         \n",
      "_________________________________________________________________\n",
      "dense_28 (Dense)             (None, 8)                 136       \n",
      "_________________________________________________________________\n",
      "dense_29 (Dense)             (None, 1)                 9         \n",
      "=================================================================\n",
      "Total params: 3,035,569\n",
      "Trainable params: 3,035,569\n",
      "Non-trainable params: 0\n",
      "_________________________________________________________________\n"
     ]
    }
   ],
   "source": [
    "### 1d-cnn\n",
    "\n",
    "from tensorflow.keras.initializers import Constant\n",
    "\n",
    "vocab_size = 10000    # 어휘 사전의 크기입니다(10,000개의 단어)\n",
    "word_vector_dim = 300  # 워드 벡터의 차원 수 \n",
    "\n",
    "# 모델 구성\n",
    "model = tf.keras.Sequential()\n",
    "model.add(tf.keras.layers.Embedding(vocab_size, \n",
    "                                 word_vector_dim, \n",
    "                                 embeddings_initializer=Constant(embedding_matrix),  # 카피한 임베딩을 여기서 활용\n",
    "                                 input_length=maxlen, \n",
    "                                 trainable=True))   # trainable을 True로 주면 Fine-tuning\n",
    "model.add(tf.keras.layers.Conv1D(16, 7, activation='relu'))\n",
    "model.add(tf.keras.layers.MaxPooling1D(5))\n",
    "model.add(tf.keras.layers.Conv1D(16, 7, activation='relu'))\n",
    "model.add(tf.keras.layers.GlobalMaxPooling1D())\n",
    "model.add(tf.keras.layers.Dense(8, activation='relu'))\n",
    "model.add(tf.keras.layers.Dense(1, activation='sigmoid')) \n",
    "\n",
    "model.summary()"
   ]
  },
  {
   "cell_type": "code",
   "execution_count": 124,
   "id": "2f51b14f",
   "metadata": {},
   "outputs": [
    {
     "name": "stdout",
     "output_type": "stream",
     "text": [
      "Epoch 1/20\n",
      "266/266 [==============================] - 3s 7ms/step - loss: 0.6931 - accuracy: 0.5005 - val_loss: 0.6931 - val_accuracy: 0.5027\n",
      "Epoch 2/20\n",
      "266/266 [==============================] - 2s 7ms/step - loss: 0.6932 - accuracy: 0.5015 - val_loss: 0.6931 - val_accuracy: 0.5027\n",
      "Epoch 3/20\n",
      "266/266 [==============================] - 2s 7ms/step - loss: 0.6932 - accuracy: 0.5011 - val_loss: 0.6931 - val_accuracy: 0.5027\n",
      "Epoch 4/20\n",
      "266/266 [==============================] - 2s 7ms/step - loss: 0.6931 - accuracy: 0.5016 - val_loss: 0.6931 - val_accuracy: 0.5027\n",
      "Epoch 5/20\n",
      "266/266 [==============================] - 2s 7ms/step - loss: 0.6932 - accuracy: 0.4998 - val_loss: 0.6931 - val_accuracy: 0.5027\n",
      "Epoch 6/20\n",
      "266/266 [==============================] - 2s 7ms/step - loss: 0.6931 - accuracy: 0.5011 - val_loss: 0.6931 - val_accuracy: 0.4973\n",
      "Epoch 7/20\n",
      "266/266 [==============================] - 2s 7ms/step - loss: 0.6932 - accuracy: 0.5007 - val_loss: 0.6931 - val_accuracy: 0.5027\n",
      "Epoch 8/20\n",
      "266/266 [==============================] - 2s 7ms/step - loss: 0.6932 - accuracy: 0.5012 - val_loss: 0.6931 - val_accuracy: 0.5027\n",
      "Epoch 9/20\n",
      "266/266 [==============================] - 2s 7ms/step - loss: 0.6931 - accuracy: 0.5002 - val_loss: 0.6931 - val_accuracy: 0.5027\n",
      "Epoch 10/20\n",
      "266/266 [==============================] - 2s 7ms/step - loss: 0.6931 - accuracy: 0.5010 - val_loss: 0.6931 - val_accuracy: 0.5027\n",
      "Epoch 11/20\n",
      "266/266 [==============================] - 2s 7ms/step - loss: 0.6931 - accuracy: 0.5004 - val_loss: 0.6931 - val_accuracy: 0.5027\n",
      "Epoch 12/20\n",
      "266/266 [==============================] - 2s 7ms/step - loss: 0.6931 - accuracy: 0.5016 - val_loss: 0.6931 - val_accuracy: 0.5027\n",
      "Epoch 13/20\n",
      "266/266 [==============================] - 2s 7ms/step - loss: 0.6931 - accuracy: 0.5010 - val_loss: 0.6931 - val_accuracy: 0.5027\n",
      "Epoch 14/20\n",
      "266/266 [==============================] - 2s 7ms/step - loss: 0.6931 - accuracy: 0.5009 - val_loss: 0.6931 - val_accuracy: 0.5027\n",
      "Epoch 15/20\n",
      "266/266 [==============================] - 2s 7ms/step - loss: 0.6931 - accuracy: 0.5007 - val_loss: 0.6931 - val_accuracy: 0.5027\n",
      "Epoch 16/20\n",
      "266/266 [==============================] - 2s 7ms/step - loss: 0.6932 - accuracy: 0.5016 - val_loss: 0.6931 - val_accuracy: 0.5027\n",
      "Epoch 17/20\n",
      "266/266 [==============================] - 2s 7ms/step - loss: 0.6931 - accuracy: 0.5012 - val_loss: 0.6931 - val_accuracy: 0.5027\n",
      "Epoch 18/20\n",
      "266/266 [==============================] - 2s 7ms/step - loss: 0.6932 - accuracy: 0.5005 - val_loss: 0.6931 - val_accuracy: 0.5027\n",
      "Epoch 19/20\n",
      "266/266 [==============================] - 2s 7ms/step - loss: 0.6932 - accuracy: 0.5013 - val_loss: 0.6931 - val_accuracy: 0.5027\n",
      "Epoch 20/20\n",
      "266/266 [==============================] - 2s 7ms/step - loss: 0.6932 - accuracy: 0.5016 - val_loss: 0.6931 - val_accuracy: 0.5027\n"
     ]
    }
   ],
   "source": [
    "# 학습의 진행\n",
    "model.compile(optimizer = tf.keras.optimizers.RMSprop(learning_rate=0.001),\n",
    "              loss='binary_crossentropy',\n",
    "              metrics=['accuracy'])\n",
    "              \n",
    "epochs=20  # 몇 epoch를 훈련하면 좋을지 결과를 보면서 바꾸어 봅시다. \n",
    "\n",
    "history = model.fit(partial_x_train,\n",
    "                    partial_y_train,\n",
    "                    epochs=epochs,\n",
    "                    batch_size=512,\n",
    "                    validation_data=(x_val, y_val),\n",
    "                    verbose=1)"
   ]
  },
  {
   "cell_type": "code",
   "execution_count": 109,
   "id": "114172b6",
   "metadata": {},
   "outputs": [
    {
     "name": "stdout",
     "output_type": "stream",
     "text": [
      "1537/1537 - 2s - loss: 0.6932 - accuracy: 0.4973\n",
      "[0.6931906938552856, 0.4973045587539673]\n"
     ]
    }
   ],
   "source": [
    "# 테스트셋을 통한 모델 평가\n",
    "results = model.evaluate(X_test,  y_test, verbose=2)\n",
    "\n",
    "print(results)"
   ]
  },
  {
   "cell_type": "code",
   "execution_count": 110,
   "id": "963daa48",
   "metadata": {},
   "outputs": [
    {
     "data": {
      "image/png": "[encoded data removed]",
      "text/plain": [
       "<Figure size 864x360 with 2 Axes>"
      ]
     },
     "metadata": {
      "needs_background": "light"
     },
     "output_type": "display_data"
    }
   ],
   "source": [
    "# 그래프 비교 \n",
    "# 데이터 준비\n",
    "acc = history_dict['accuracy']\n",
    "val_acc = history_dict['val_accuracy']\n",
    "loss = history_dict['loss']\n",
    "val_loss = history_dict['val_loss']\n",
    "\n",
    "epochs = range(1, len(acc) + 1)\n",
    "\n",
    "# 서브플롯 생성\n",
    "\n",
    "fig, axs = plt.subplots(1, 2, figsize=(12, 5))  # 1행 2열의 서브플롯 생성, 크기 조정\n",
    "\n",
    "# 첫 번째 서브플롯: Training and validation loss\n",
    "axs[0].plot(epochs, loss, 'bo', label='Training loss')\n",
    "axs[0].plot(epochs, val_loss, 'b', label='Validation loss')\n",
    "axs[0].set_title('Training and validation loss')\n",
    "axs[0].set_xlabel('Epochs')\n",
    "axs[0].set_ylabel('Loss')\n",
    "axs[0].legend()\n",
    "\n",
    "# 두 번째 서브플롯: Training and validation accuracy\n",
    "axs[1].plot(epochs, acc, 'bo', label='Training acc')\n",
    "axs[1].plot(epochs, val_acc, 'b', label='Validation acc')\n",
    "axs[1].set_title('Training and validation accuracy')\n",
    "axs[1].set_xlabel('Epochs')\n",
    "axs[1].set_ylabel('Accuracy')\n",
    "axs[1].legend()\n",
    "\n",
    "# 레이아웃 조정 및 표시\n",
    "plt.tight_layout()\n",
    "plt.show()"
   ]
  },
  {
   "cell_type": "markdown",
   "id": "e75107e1",
   "metadata": {},
   "source": [
    "### 한국어 Word2Vec이 임베딩된 상태에서 LSTM"
   ]
  },
  {
   "cell_type": "code",
   "execution_count": 111,
   "id": "38be0620",
   "metadata": {},
   "outputs": [
    {
     "name": "stdout",
     "output_type": "stream",
     "text": [
      "Model: \"sequential_7\"\n",
      "_________________________________________________________________\n",
      "Layer (type)                 Output Shape              Param #   \n",
      "=================================================================\n",
      "embedding_10 (Embedding)     (None, None, 300)         3000000   \n",
      "_________________________________________________________________\n",
      "lstm_3 (LSTM)                (None, 16)                20288     \n",
      "_________________________________________________________________\n",
      "dense_26 (Dense)             (None, 8)                 136       \n",
      "_________________________________________________________________\n",
      "dense_27 (Dense)             (None, 1)                 9         \n",
      "=================================================================\n",
      "Total params: 3,020,433\n",
      "Trainable params: 20,433\n",
      "Non-trainable params: 3,000,000\n",
      "_________________________________________________________________\n",
      "(136182, 41)\n",
      "(136182,)\n",
      "Epoch 1/20\n",
      "266/266 [==============================] - 3s 6ms/step - loss: 0.6932 - accuracy: 0.5008 - val_loss: 0.6931 - val_accuracy: 0.5027\n",
      "Epoch 2/20\n",
      "266/266 [==============================] - 1s 5ms/step - loss: 0.6931 - accuracy: 0.5016 - val_loss: 0.6931 - val_accuracy: 0.5027\n",
      "Epoch 3/20\n",
      "266/266 [==============================] - 1s 5ms/step - loss: 0.6931 - accuracy: 0.5016 - val_loss: 0.6931 - val_accuracy: 0.5027\n",
      "Epoch 4/20\n",
      "266/266 [==============================] - 1s 5ms/step - loss: 0.6931 - accuracy: 0.5009 - val_loss: 0.6931 - val_accuracy: 0.5027\n",
      "Epoch 5/20\n",
      "266/266 [==============================] - 1s 5ms/step - loss: 0.6932 - accuracy: 0.5016 - val_loss: 0.6931 - val_accuracy: 0.5027\n",
      "Epoch 6/20\n",
      "266/266 [==============================] - 1s 5ms/step - loss: 0.6931 - accuracy: 0.5016 - val_loss: 0.6931 - val_accuracy: 0.5027\n",
      "Epoch 7/20\n",
      "266/266 [==============================] - 1s 5ms/step - loss: 0.6932 - accuracy: 0.5003 - val_loss: 0.6931 - val_accuracy: 0.5027\n",
      "Epoch 8/20\n",
      "266/266 [==============================] - 1s 5ms/step - loss: 0.6931 - accuracy: 0.5016 - val_loss: 0.6931 - val_accuracy: 0.5027\n",
      "Epoch 9/20\n",
      "266/266 [==============================] - 1s 5ms/step - loss: 0.6931 - accuracy: 0.5010 - val_loss: 0.6931 - val_accuracy: 0.5027\n",
      "Epoch 10/20\n",
      "266/266 [==============================] - 1s 5ms/step - loss: 0.6931 - accuracy: 0.5016 - val_loss: 0.6931 - val_accuracy: 0.5027\n",
      "Epoch 11/20\n",
      "266/266 [==============================] - 1s 5ms/step - loss: 0.6931 - accuracy: 0.5016 - val_loss: 0.6931 - val_accuracy: 0.5027\n",
      "Epoch 12/20\n",
      "266/266 [==============================] - 1s 5ms/step - loss: 0.6931 - accuracy: 0.5016 - val_loss: 0.6931 - val_accuracy: 0.5027\n",
      "Epoch 13/20\n",
      "266/266 [==============================] - 1s 5ms/step - loss: 0.6932 - accuracy: 0.5000 - val_loss: 0.6931 - val_accuracy: 0.5027\n",
      "Epoch 14/20\n",
      "266/266 [==============================] - 1s 5ms/step - loss: 0.6931 - accuracy: 0.5016 - val_loss: 0.6931 - val_accuracy: 0.5027\n",
      "Epoch 15/20\n",
      "266/266 [==============================] - 1s 5ms/step - loss: 0.6932 - accuracy: 0.5004 - val_loss: 0.6931 - val_accuracy: 0.5027\n",
      "Epoch 16/20\n",
      "266/266 [==============================] - 1s 5ms/step - loss: 0.6932 - accuracy: 0.5016 - val_loss: 0.6931 - val_accuracy: 0.5027\n",
      "Epoch 17/20\n",
      "266/266 [==============================] - 1s 5ms/step - loss: 0.6932 - accuracy: 0.5016 - val_loss: 0.6931 - val_accuracy: 0.5027\n",
      "Epoch 18/20\n",
      "266/266 [==============================] - 1s 5ms/step - loss: 0.6931 - accuracy: 0.5012 - val_loss: 0.6931 - val_accuracy: 0.5027\n",
      "Epoch 19/20\n",
      "266/266 [==============================] - 1s 5ms/step - loss: 0.6931 - accuracy: 0.5016 - val_loss: 0.6931 - val_accuracy: 0.5027\n",
      "Epoch 20/20\n",
      "266/266 [==============================] - 1s 5ms/step - loss: 0.6931 - accuracy: 0.5016 - val_loss: 0.6931 - val_accuracy: 0.5027\n"
     ]
    }
   ],
   "source": [
    "import numpy as np\n",
    "import tensorflow as tf\n",
    "\n",
    "# 임베딩 행렬 (Word2Vec 임베딩을 사용한다고 가정)\n",
    "# embedding_matrix = np.random.rand(vocab_size, word_vector_dim)  # 예시로 랜덤 행렬을 사용\n",
    "\n",
    "# 모델 설계 - Word2Vec 임베딩을 사용한 LSTM 기반 모델\n",
    "model = tf.keras.Sequential([\n",
    "    # Word2Vec 임베딩 행렬을 고정시키거나 훈련 가능하게 설정\n",
    "    tf.keras.layers.Embedding(input_dim=vocab_size, \n",
    "                              output_dim=word_vector_dim, \n",
    "                              input_length=None,  # 시퀀스 길이는 None으로 설정\n",
    "                              weights=[embedding_matrix],  # 사전 훈련된 임베딩 행렬 사용\n",
    "                              trainable=False),  # 훈련되지 않도록 설정 (True로 바꾸면 학습됨)\n",
    "    \n",
    "    # LSTM 레이어\n",
    "    tf.keras.layers.LSTM(16, activation='tanh', return_sequences=False),\n",
    "    \n",
    "    # Dense layer\n",
    "    tf.keras.layers.Dense(8, activation='relu'),  # 은닉층\n",
    "    tf.keras.layers.Dense(1, activation='sigmoid')  # 출력층: 긍정1, 부정0\n",
    "])\n",
    "\n",
    "# 모델 요약\n",
    "model.summary()\n",
    "\n",
    "# validation set 10000건 분리\n",
    "x_val = X_train[:10000]   \n",
    "y_val = y_train[:10000]\n",
    "\n",
    "# validation set을 제외한 나머지 15000건\n",
    "partial_x_train = X_train[10000:]  \n",
    "partial_y_train = y_train[10000:]\n",
    "\n",
    "print(partial_x_train.shape)\n",
    "print(partial_y_train.shape)\n",
    "\n",
    "# 모델 컴파일\n",
    "model.compile(optimizer='adam',\n",
    "              loss='binary_crossentropy',\n",
    "              metrics=['accuracy'])\n",
    "\n",
    "epochs = 20  # 몇 epoch를 훈련하면 좋을지 결과를 보면서 바꾸어 봅시다. \n",
    "\n",
    "# 모델 학습\n",
    "history = model.fit(partial_x_train,\n",
    "                    partial_y_train,\n",
    "                    epochs=epochs,\n",
    "                    batch_size=512,\n",
    "                    validation_data=(x_val, y_val),\n",
    "                    verbose=1)\n",
    "\n",
    "\n"
   ]
  },
  {
   "cell_type": "code",
   "execution_count": 112,
   "id": "4550fb15",
   "metadata": {},
   "outputs": [
    {
     "name": "stdout",
     "output_type": "stream",
     "text": [
      "1537/1537 - 3s - loss: 0.6931 - accuracy: 0.4973\n",
      "[0.6931493282318115, 0.4973045587539673]\n",
      "dict_keys(['loss', 'accuracy', 'val_loss', 'val_accuracy'])\n"
     ]
    }
   ],
   "source": [
    "# 평가\n",
    "results = model.evaluate(X_test, y_test, verbose=2)\n",
    "print(results)\n",
    "\n",
    "# 학습 결과 출력\n",
    "history_dict = history.history\n",
    "print(history_dict.keys())  # epoch에 따른 그래프를 그릴 수 있는 항목들"
   ]
  },
  {
   "cell_type": "code",
   "execution_count": 113,
   "id": "ee31fedf",
   "metadata": {},
   "outputs": [
    {
     "data": {
      "image/png": "[encoded data removed]",
      "text/plain": [
       "<Figure size 864x360 with 2 Axes>"
      ]
     },
     "metadata": {
      "needs_background": "light"
     },
     "output_type": "display_data"
    }
   ],
   "source": [
    "# 그래프 비교 \n",
    "# 데이터 준비\n",
    "acc = history_dict['accuracy']\n",
    "val_acc = history_dict['val_accuracy']\n",
    "loss = history_dict['loss']\n",
    "val_loss = history_dict['val_loss']\n",
    "\n",
    "epochs = range(1, len(acc) + 1)\n",
    "\n",
    "# 서브플롯 생성\n",
    "\n",
    "fig, axs = plt.subplots(1, 2, figsize=(12, 5))  # 1행 2열의 서브플롯 생성, 크기 조정\n",
    "\n",
    "# 첫 번째 서브플롯: Training and validation loss\n",
    "axs[0].plot(epochs, loss, 'bo', label='Training loss')\n",
    "axs[0].plot(epochs, val_loss, 'b', label='Validation loss')\n",
    "axs[0].set_title('Training and validation loss')\n",
    "axs[0].set_xlabel('Epochs')\n",
    "axs[0].set_ylabel('Loss')\n",
    "axs[0].legend()\n",
    "\n",
    "# 두 번째 서브플롯: Training and validation accuracy\n",
    "axs[1].plot(epochs, acc, 'bo', label='Training acc')\n",
    "axs[1].plot(epochs, val_acc, 'b', label='Validation acc')\n",
    "axs[1].set_title('Training and validation accuracy')\n",
    "axs[1].set_xlabel('Epochs')\n",
    "axs[1].set_ylabel('Accuracy')\n",
    "axs[1].legend()\n",
    "\n",
    "# 레이아웃 조정 및 표시\n",
    "plt.tight_layout()\n",
    "plt.show()"
   ]
  },
  {
   "cell_type": "markdown",
   "id": "08964114",
   "metadata": {},
   "source": [
    "### 한국어 Word2Vec을 임베딩하여 GlobalMaxPooling1D"
   ]
  },
  {
   "cell_type": "code",
   "execution_count": 138,
   "id": "6a395f4f",
   "metadata": {},
   "outputs": [
    {
     "name": "stdout",
     "output_type": "stream",
     "text": [
      "Model: \"sequential_18\"\n",
      "_________________________________________________________________\n",
      "Layer (type)                 Output Shape              Param #   \n",
      "=================================================================\n",
      "embedding_21 (Embedding)     (None, 41, 300)           3000000   \n",
      "_________________________________________________________________\n",
      "global_max_pooling1d_14 (Glo (None, 300)               0         \n",
      "_________________________________________________________________\n",
      "dense_48 (Dense)             (None, 16)                4816      \n",
      "_________________________________________________________________\n",
      "dense_49 (Dense)             (None, 1)                 17        \n",
      "=================================================================\n",
      "Total params: 3,004,833\n",
      "Trainable params: 4,833\n",
      "Non-trainable params: 3,000,000\n",
      "_________________________________________________________________\n",
      "Epoch 1/10\n",
      "4569/4569 [==============================] - 11s 2ms/step - loss: 0.6903 - accuracy: 0.5286 - val_loss: 0.6780 - val_accuracy: 0.6278\n",
      "Epoch 2/10\n",
      "4569/4569 [==============================] - 10s 2ms/step - loss: 0.6697 - accuracy: 0.5851 - val_loss: 0.6613 - val_accuracy: 0.5821\n",
      "Epoch 3/10\n",
      "4569/4569 [==============================] - 10s 2ms/step - loss: 0.6478 - accuracy: 0.6183 - val_loss: 0.6473 - val_accuracy: 0.5977\n",
      "Epoch 4/10\n",
      "4569/4569 [==============================] - 10s 2ms/step - loss: 0.6381 - accuracy: 0.6306 - val_loss: 0.6359 - val_accuracy: 0.6201\n",
      "Epoch 5/10\n",
      "4569/4569 [==============================] - 10s 2ms/step - loss: 0.6331 - accuracy: 0.6386 - val_loss: 0.6484 - val_accuracy: 0.6127\n",
      "Epoch 6/10\n",
      "4569/4569 [==============================] - 10s 2ms/step - loss: 0.6316 - accuracy: 0.6391 - val_loss: 0.6375 - val_accuracy: 0.6285\n",
      "Epoch 7/10\n",
      "4569/4569 [==============================] - 10s 2ms/step - loss: 0.6296 - accuracy: 0.6417 - val_loss: 0.6418 - val_accuracy: 0.6084\n",
      "Epoch 8/10\n",
      "4569/4569 [==============================] - 10s 2ms/step - loss: 0.6266 - accuracy: 0.6464 - val_loss: 0.6146 - val_accuracy: 0.6677\n",
      "Epoch 9/10\n",
      "4569/4569 [==============================] - 10s 2ms/step - loss: 0.6240 - accuracy: 0.6476 - val_loss: 0.6123 - val_accuracy: 0.6736\n",
      "Epoch 10/10\n",
      "4569/4569 [==============================] - 10s 2ms/step - loss: 0.6232 - accuracy: 0.6474 - val_loss: 0.6145 - val_accuracy: 0.6633\n",
      "1537/1537 - 2s - loss: 0.6175 - accuracy: 0.6600\n",
      "[0.617501437664032, 0.6599670648574829]\n"
     ]
    }
   ],
   "source": [
    "\n",
    "\n",
    "# 하이퍼파라미터 설정\n",
    "vocab_size = 10000      # 어휘 사전 크기\n",
    "word_vector_dim = 300   # 워드 벡터 차원 (예시로 300으로 설정)\n",
    "max_sequence_length = 41  # 시퀀스 최대 길이 (예시로 41로 설정)\n",
    "\n",
    "# 임베딩 매트릭스 예시 (여기서는 랜덤으로 생성, 실제로는 사전 학습된 워드2벡터를 사용)\n",
    "embedding_matrix = np.random.rand(vocab_size, word_vector_dim)  # 실제 임베딩 매트릭스를 사용하세요.\n",
    "\n",
    "# 모델 설계 - GlobalMaxPooling1D를 사용한 모델\n",
    "model = tf.keras.Sequential([\n",
    "    # Embedding 레이어: 사전 학습된 임베딩 매트릭스를 사용하여 초기화\n",
    "    tf.keras.layers.Embedding(input_dim=vocab_size,\n",
    "                              output_dim=word_vector_dim,\n",
    "                              weights=[embedding_matrix],  # 여기서 embedding_matrix를 사용\n",
    "                              input_length=max_sequence_length,\n",
    "                              trainable=False),  # 학습되지 않도록 설정 (사전 학습된 값 고정)\n",
    "    \n",
    "    # GlobalMaxPooling1D 레이어\n",
    "    tf.keras.layers.GlobalMaxPooling1D(),  # 시퀀스에서 최대값을 추출\n",
    "    \n",
    "    # Dense 레이어 (은닉층)\n",
    "    tf.keras.layers.Dense(16, activation='relu'),\n",
    "    \n",
    "    # 출력층\n",
    "    tf.keras.layers.Dense(1, activation='sigmoid')  # 긍정(1)과 부정(0) 분류\n",
    "])\n",
    "\n",
    "# 모델 요약\n",
    "model.summary()\n",
    "\n",
    "# 모델 컴파일\n",
    "model.compile(optimizer='adam',\n",
    "              loss='binary_crossentropy',\n",
    "              metrics=['accuracy'])\n",
    "\n",
    "# 모델 학습 (여기서는 예시 데이터 사용)\n",
    "# X_train과 y_train은 훈련 데이터와 레이블\n",
    "history = model.fit(X_train, y_train, epochs=10, batch_size=32, validation_data=(X_val, y_val), verbose=1)\n",
    "\n"
   ]
  },
  {
   "cell_type": "code",
   "execution_count": null,
   "id": "07583019",
   "metadata": {},
   "outputs": [],
   "source": [
    "# 모델 평가\n",
    "results = model.evaluate(X_test, y_test, verbose=2)\n",
    "print(results)"
   ]
  },
  {
   "cell_type": "code",
   "execution_count": null,
   "id": "7f74e6a7",
   "metadata": {},
   "outputs": [],
   "source": [
    "# 데이터 준비\n",
    "acc = history_dict['accuracy']\n",
    "val_acc = history_dict['val_accuracy']\n",
    "loss = history_dict['loss']\n",
    "val_loss = history_dict['val_loss']\n",
    "\n",
    "epochs = range(1, len(acc) + 1)\n",
    "\n",
    "# 서브플롯 생성\n",
    "\n",
    "fig, axs = plt.subplots(1, 2, figsize=(12, 5))  # 1행 2열의 서브플롯 생성, 크기 조정\n",
    "\n",
    "# 첫 번째 서브플롯: Training and validation loss\n",
    "axs[0].plot(epochs, loss, 'bo', label='Training loss')\n",
    "axs[0].plot(epochs, val_loss, 'b', label='Validation loss')\n",
    "axs[0].set_title('Training and validation loss')\n",
    "axs[0].set_xlabel('Epochs')\n",
    "axs[0].set_ylabel('Loss')\n",
    "axs[0].legend()\n",
    "\n",
    "# 두 번째 서브플롯: Training and validation accuracy\n",
    "axs[1].plot(epochs, acc, 'bo', label='Training acc')\n",
    "axs[1].plot(epochs, val_acc, 'b', label='Validation acc')\n",
    "axs[1].set_title('Training and validation accuracy')\n",
    "axs[1].set_xlabel('Epochs')\n",
    "axs[1].set_ylabel('Accuracy')\n",
    "axs[1].legend()\n",
    "\n",
    "# 레이아웃 조정 및 표시\n",
    "plt.tight_layout()\n",
    "plt.show()"
   ]
  },
  {
   "cell_type": "markdown",
   "id": "5e944904",
   "metadata": {},
   "source": [
    "### 회고\n",
    "여러번 모델을 학습시킬때 앞서 학습했던 정보가 계속 남아있지 않게 설정을 해줬어야 했는데\n",
    "초반에 그러지 못해 결과가 이상하게 하게 나왔었다. 잘 기억해둬야겠다.\n",
    "그리고 트랜스포머 모델에 대해 좀더 공부를 해야겠다."
   ]
  },
  {
   "cell_type": "markdown",
   "id": "e5fe36a9",
   "metadata": {},
   "source": [
    "### 앞으로 더 공부할 점: 한국어 Word2Vec를 임베딩해서 모델을 학습했는에 왜 정확도가 더 떨어질까???"
   ]
  },
  {
   "cell_type": "code",
   "execution_count": null,
   "id": "d7080b60",
   "metadata": {},
   "outputs": [],
   "source": []
  }
 ],
 "metadata": {
  "kernelspec": {
   "display_name": "Python 3 (ipykernel)",
   "language": "python",
   "name": "python3"
  },
  "language_info": {
   "codemirror_mode": {
    "name": "ipython",
    "version": 3
   },
   "file_extension": ".py",
   "mimetype": "text/x-python",
   "name": "python",
   "nbconvert_exporter": "python",
   "pygments_lexer": "ipython3",
   "version": "3.9.7"
  }
 },
 "nbformat": 4,
 "nbformat_minor": 5
}
