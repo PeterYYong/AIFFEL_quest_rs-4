{
 "cells": [
  {
   "cell_type": "code",
   "execution_count": 83,
   "id": "4a063f91",
   "metadata": {},
   "outputs": [],
   "source": [
    "# 필요한 라이브러리 임포트\n",
    "from sklearn.datasets import load_diabetes\n",
    "import pandas as pd\n",
    "from sklearn.model_selection import train_test_split\n",
    "import numpy as np\n"
   ]
  },
  {
   "cell_type": "code",
   "execution_count": 84,
   "id": "d68cf6c6",
   "metadata": {},
   "outputs": [],
   "source": [
    "# (1) 데이터 가져오기 \n",
    "# 당뇨병 데이터셋 로드\n",
    "diabetes_data = load_diabetes()"
   ]
  },
  {
   "cell_type": "code",
   "execution_count": 85,
   "id": "3f6cdde1",
   "metadata": {},
   "outputs": [
    {
     "name": "stdout",
     "output_type": "stream",
     "text": [
      "        age       sex       bmi        bp        s1        s2        s3  \\\n",
      "0  0.038076  0.050680  0.061696  0.021872 -0.044223 -0.034821 -0.043401   \n",
      "1 -0.001882 -0.044642 -0.051474 -0.026328 -0.008449 -0.019163  0.074412   \n",
      "2  0.085299  0.050680  0.044451 -0.005671 -0.045599 -0.034194 -0.032356   \n",
      "3 -0.089063 -0.044642 -0.011595 -0.036656  0.012191  0.024991 -0.036038   \n",
      "4  0.005383 -0.044642 -0.036385  0.021872  0.003935  0.015596  0.008142   \n",
      "\n",
      "         s4        s5        s6  \n",
      "0 -0.002592  0.019908 -0.017646  \n",
      "1 -0.039493 -0.068330 -0.092204  \n",
      "2 -0.002592  0.002864 -0.025930  \n",
      "3  0.034309  0.022692 -0.009362  \n",
      "4 -0.002592 -0.031991 -0.046641  \n",
      "       0\n",
      "0  151.0\n",
      "1   75.0\n",
      "2  141.0\n",
      "3  206.0\n",
      "4  135.0\n",
      "(442, 10)\n"
     ]
    }
   ],
   "source": [
    "# diabetes의 data를 df_X에, target을 df_y에 저장해주세요.\n",
    "\n",
    "df_X = pd.DataFrame(data = diabetes_data.data, columns=diabetes_data.feature_names)\n",
    "df_y = pd.DataFrame(diabetes_data.target)\n",
    "\n",
    "print(df_X.head())\n",
    "print(df_y.head())\n",
    "\n",
    "print(df_X.shape)"
   ]
  },
  {
   "cell_type": "code",
   "execution_count": 86,
   "id": "48955a93",
   "metadata": {},
   "outputs": [
    {
     "name": "stdout",
     "output_type": "stream",
     "text": [
      "(442, 10)\n"
     ]
    }
   ],
   "source": [
    "# (2) 모델에 입력할 데이터 X 준비하기\n",
    "# df_X에 있는 값들을 numpy array로 변환해서 저장해주세요.\n",
    "X = df_X.values\n",
    "print (X.shape)"
   ]
  },
  {
   "cell_type": "code",
   "execution_count": 87,
   "id": "738796ac",
   "metadata": {},
   "outputs": [
    {
     "name": "stdout",
     "output_type": "stream",
     "text": [
      "(442,)\n"
     ]
    }
   ],
   "source": [
    "# (3) 모델에 예측할 데이터 y준비하기\n",
    "# df_y에 있는 값들을 numpy array로 변환해서 저장해주세요.\n",
    "y = df_y.values.ravel() #\n",
    "print (y.shape)"
   ]
  },
  {
   "cell_type": "code",
   "execution_count": 88,
   "id": "c8f0b7d1",
   "metadata": {},
   "outputs": [
    {
     "name": "stdout",
     "output_type": "stream",
     "text": [
      "Training data size: 353\n",
      "Testing data size: 89\n"
     ]
    }
   ],
   "source": [
    "# (4) train 데이터와 test 데이터로 분리\n",
    "# X와 y 데이터를 각각 train 데이터와 test 데이터로 분리해주세요.\n",
    "\n",
    "X_train, X_test, y_train, y_test = train_test_split(X, y, test_size=0.2, random_state=42)\n",
    "\n",
    "# 분리된 데이터 크기 출력\n",
    "print(\"Training data size:\", X_train.shape[0])\n",
    "print(\"Testing data size:\", X_test.shape[0])"
   ]
  },
  {
   "cell_type": "code",
   "execution_count": 92,
   "id": "35aad546",
   "metadata": {},
   "outputs": [],
   "source": [
    "# (5) 모델 준비하기\n",
    "# 입력 데이터 개수에 맞는 가중치 W와 b를 준비해주세요.\n",
    "import numpy as np\n",
    "\n",
    "W = np.random.rand(10)\n",
    "b = 0.5\n",
    "\n",
    "\n",
    "# 모델 함수정의하기\n",
    "def model(X_train, W, b):\n",
    "    predictions = 0\n",
    "    for i in range(10):\n",
    "        predictions += X_train[:, i] * W[i]\n",
    "    predictions += b\n",
    "    return predictions"
   ]
  },
  {
   "cell_type": "code",
   "execution_count": 93,
   "id": "7db911dc",
   "metadata": {},
   "outputs": [],
   "source": [
    "# (6) 손실함수를 MSE 함수로 정의해주세요.\n",
    "\n",
    "# MSE 함수정의\n",
    "def MSE(a, b):\n",
    "    mse = ((a-b)**2).mean() # 예측값과 실제값의 차의 제곱의 평균을 구해준다\n",
    "    return mse\n",
    "\n",
    "# 손실함수정의\n",
    "def loss(X_train, W, b, y_train):\n",
    "    predictions = model(X_train, W, b)\n",
    "    L = MSE(predictions, y_train)\n",
    "    return L\n"
   ]
  },
  {
   "cell_type": "code",
   "execution_count": 94,
   "id": "2e6b1490",
   "metadata": {},
   "outputs": [
    {
     "name": "stdout",
     "output_type": "stream",
     "text": [
      "(10,)\n",
      "db: -153.23245405708676\n"
     ]
    }
   ],
   "source": [
    "# (7)기울기를 계산하는 gradient 함수를 구현해주세요.\n",
    "\n",
    "def gradient(X_train, W, b, y_train):\n",
    "    # 예측값 계산\n",
    "    y_pred = X_train.dot(W) + b  # y_pred의 shape은 (샘플 수,)\n",
    "    \n",
    "    # 오차 계산\n",
    "    error = y_pred - y_train  # error의 shape은 (샘플 수,)\n",
    "    \n",
    "    # dW와 db 계산\n",
    "    dW = (1 / len(y_train)) * X_train.T.dot(error)  # dW의 shape은 (특성 수,)\n",
    "    db = (1 / len(y_train)) * np.sum(error)  # db는 스칼라\n",
    "    #print(len(error))\n",
    "    return dW, db\n",
    "\n",
    "# gradient 계산\n",
    "dW, db = gradient(X_train, W, b, y_train)\n",
    "print(dW.shape)\n",
    "#print(X.T.shape)\n",
    "\n",
    "print(\"db:\", db)"
   ]
  },
  {
   "cell_type": "code",
   "execution_count": 95,
   "id": "3cb36f4f",
   "metadata": {},
   "outputs": [],
   "source": [
    "#(8) 하이퍼 파라미터인 학습률 설정하기\n",
    "LEARNING_RATE = 1 #가장 일반적인 비율 적용 0.0001 "
   ]
  },
  {
   "cell_type": "code",
   "execution_count": 96,
   "id": "d8dd01fa",
   "metadata": {},
   "outputs": [
    {
     "name": "stdout",
     "output_type": "stream",
     "text": [
      "Iteration 10 : Loss 5690.8331\n",
      "Iteration 20 : Loss 5375.1907\n",
      "Iteration 30 : Loss 5104.7321\n",
      "Iteration 40 : Loss 4872.3340\n",
      "Iteration 50 : Loss 4672.0337\n",
      "Iteration 60 : Loss 4498.8381\n",
      "Iteration 70 : Loss 4348.5640\n",
      "Iteration 80 : Loss 4217.7048\n",
      "Iteration 90 : Loss 4103.3197\n",
      "Iteration 100 : Loss 4002.9402\n",
      "Iteration 110 : Loss 3914.4934\n",
      "Iteration 120 : Loss 3836.2368\n",
      "Iteration 130 : Loss 3766.7041\n",
      "Iteration 140 : Loss 3704.6606\n",
      "Iteration 150 : Loss 3649.0652\n",
      "Iteration 160 : Loss 3599.0389\n",
      "Iteration 170 : Loss 3553.8384\n",
      "Iteration 180 : Loss 3512.8346\n",
      "Iteration 190 : Loss 3475.4937\n",
      "Iteration 200 : Loss 3441.3620\n",
      "Iteration 210 : Loss 3410.0533\n",
      "Iteration 220 : Loss 3381.2377\n",
      "Iteration 230 : Loss 3354.6331\n",
      "Iteration 240 : Loss 3329.9976\n",
      "Iteration 250 : Loss 3307.1228\n",
      "Iteration 260 : Loss 3285.8290\n",
      "Iteration 270 : Loss 3265.9607\n",
      "Iteration 280 : Loss 3247.3826\n",
      "Iteration 290 : Loss 3229.9769\n",
      "Iteration 300 : Loss 3213.6404\n",
      "Iteration 310 : Loss 3198.2826\n",
      "Iteration 320 : Loss 3183.8234\n",
      "Iteration 330 : Loss 3170.1921\n",
      "Iteration 340 : Loss 3157.3257\n",
      "Iteration 350 : Loss 3145.1681\n",
      "Iteration 360 : Loss 3133.6688\n",
      "Iteration 370 : Loss 3122.7824\n",
      "Iteration 380 : Loss 3112.4680\n",
      "Iteration 390 : Loss 3102.6885\n",
      "Iteration 400 : Loss 3093.4099\n",
      "Iteration 410 : Loss 3084.6012\n",
      "Iteration 420 : Loss 3076.2343\n",
      "Iteration 430 : Loss 3068.2829\n",
      "Iteration 440 : Loss 3060.7230\n",
      "Iteration 450 : Loss 3053.5325\n",
      "Iteration 460 : Loss 3046.6905\n",
      "Iteration 470 : Loss 3040.1780\n",
      "Iteration 480 : Loss 3033.9771\n",
      "Iteration 490 : Loss 3028.0712\n",
      "Iteration 500 : Loss 3022.4445\n",
      "Iteration 510 : Loss 3017.0826\n",
      "Iteration 520 : Loss 3011.9717\n",
      "Iteration 530 : Loss 3007.0989\n",
      "Iteration 540 : Loss 3002.4521\n",
      "Iteration 550 : Loss 2998.0199\n",
      "Iteration 560 : Loss 2993.7915\n",
      "Iteration 570 : Loss 2989.7568\n",
      "Iteration 580 : Loss 2985.9063\n",
      "Iteration 590 : Loss 2982.2308\n",
      "Iteration 600 : Loss 2978.7217\n",
      "Iteration 610 : Loss 2975.3711\n",
      "Iteration 620 : Loss 2972.1711\n",
      "Iteration 630 : Loss 2969.1146\n",
      "Iteration 640 : Loss 2966.1946\n",
      "Iteration 650 : Loss 2963.4045\n",
      "Iteration 660 : Loss 2960.7383\n",
      "Iteration 670 : Loss 2958.1899\n",
      "Iteration 680 : Loss 2955.7539\n",
      "Iteration 690 : Loss 2953.4249\n",
      "Iteration 700 : Loss 2951.1979\n",
      "Iteration 710 : Loss 2949.0680\n",
      "Iteration 720 : Loss 2947.0309\n",
      "Iteration 730 : Loss 2945.0820\n",
      "Iteration 740 : Loss 2943.2174\n",
      "Iteration 750 : Loss 2941.4331\n",
      "Iteration 760 : Loss 2939.7254\n",
      "Iteration 770 : Loss 2938.0907\n",
      "Iteration 780 : Loss 2936.5258\n",
      "Iteration 790 : Loss 2935.0274\n",
      "Iteration 800 : Loss 2933.5924\n",
      "Iteration 810 : Loss 2932.2181\n",
      "Iteration 820 : Loss 2930.9015\n",
      "Iteration 830 : Loss 2929.6402\n",
      "Iteration 840 : Loss 2928.4316\n",
      "Iteration 850 : Loss 2927.2732\n",
      "Iteration 860 : Loss 2926.1630\n",
      "Iteration 870 : Loss 2925.0986\n",
      "Iteration 880 : Loss 2924.0781\n",
      "Iteration 890 : Loss 2923.0995\n",
      "Iteration 900 : Loss 2922.1609\n",
      "Iteration 910 : Loss 2921.2606\n",
      "Iteration 920 : Loss 2920.3968\n",
      "Iteration 930 : Loss 2919.5679\n",
      "Iteration 940 : Loss 2918.7725\n",
      "Iteration 950 : Loss 2918.0089\n",
      "Iteration 960 : Loss 2917.2760\n",
      "Iteration 970 : Loss 2916.5722\n",
      "Iteration 980 : Loss 2915.8963\n",
      "Iteration 990 : Loss 2915.2472\n",
      "Iteration 1000 : Loss 2914.6236\n"
     ]
    }
   ],
   "source": [
    "# (9) 모델 학습하기\n",
    "\n",
    "# 손실함수와 기울기 함수를 적용하여 모델 학습하기\n",
    "\n",
    "losses = []\n",
    "\n",
    "for i in range(1, 1001):\n",
    "    dW, db = gradient(X_train, W, b, y_train)\n",
    "    W -= LEARNING_RATE * dW\n",
    "    b -= LEARNING_RATE * db\n",
    "    L = loss(X_train, W, b, y_train)\n",
    "    losses.append(L)\n",
    "    if i % 10 == 0:\n",
    "        print('Iteration %d : Loss %0.4f' % (i, L))\n"
   ]
  },
  {
   "cell_type": "code",
   "execution_count": 97,
   "id": "41bcdf6f",
   "metadata": {},
   "outputs": [
    {
     "data": {
      "image/png": "[encoded data removed]",
      "text/plain": [
       "<Figure size 432x288 with 1 Axes>"
      ]
     },
     "metadata": {
      "needs_background": "light"
     },
     "output_type": "display_data"
    }
   ],
   "source": [
    "# loss값이 충분히 떨어지는지 확인\n",
    "import matplotlib.pyplot as plt\n",
    "plt.plot(losses)\n",
    "plt.show()\n",
    "\n",
    "# 입력하는 데이터인 X에 들어가는 특성 컬럼들을 몇 개 빼도 괜찮습니다"
   ]
  },
  {
   "cell_type": "code",
   "execution_count": 98,
   "id": "788cf148",
   "metadata": {},
   "outputs": [
    {
     "name": "stdout",
     "output_type": "stream",
     "text": [
      "슝=3\n"
     ]
    }
   ],
   "source": [
    "from sklearn.linear_model import LinearRegression\n",
    "\n",
    "model = LinearRegression()\n",
    "print(\"슝=3\")"
   ]
  },
  {
   "cell_type": "code",
   "execution_count": 99,
   "id": "3379c412",
   "metadata": {},
   "outputs": [
    {
     "data": {
      "text/plain": [
       "LinearRegression()"
      ]
     },
     "execution_count": 99,
     "metadata": {},
     "output_type": "execute_result"
    }
   ],
   "source": [
    "model.fit(X_train, y_train)"
   ]
  },
  {
   "cell_type": "code",
   "execution_count": 100,
   "id": "aaab3698",
   "metadata": {},
   "outputs": [
    {
     "data": {
      "text/plain": [
       "array([139.5483133 , 179.52030578, 134.04133298, 291.41193598,\n",
       "       123.78723656,  92.17357677, 258.23409704, 181.33895238,\n",
       "        90.22217862, 108.63143298,  94.13938654, 168.43379636,\n",
       "        53.50669663, 206.63040068, 100.13238561, 130.66881649,\n",
       "       219.53270758, 250.78291772, 196.36682356, 218.57497401,\n",
       "       207.35002447,  88.48361667,  70.43428801, 188.95725301,\n",
       "       154.88720039, 159.35957695, 188.31587948, 180.38835506,\n",
       "        47.98988446, 108.97514644, 174.78080029,  86.36598906,\n",
       "       132.95890535, 184.5410226 , 173.83298051, 190.35863287,\n",
       "       124.41740796, 119.65426903, 147.95402494,  59.05311211,\n",
       "        71.62636914, 107.68722902, 165.45544477, 155.00784964,\n",
       "       171.04558668,  61.45763075,  71.66975626, 114.96330486,\n",
       "        51.57808027, 167.57781958, 152.52505798,  62.95827693,\n",
       "       103.49862017, 109.20495627, 175.63844013, 154.60247734,\n",
       "        94.41476124, 210.74244148, 120.25601864,  77.61590087,\n",
       "       187.93503183, 206.49543321, 140.63018684, 105.59463059,\n",
       "       130.704246  , 202.18650868, 171.1330116 , 164.91246096,\n",
       "       124.72637597, 144.81210187, 181.99631481, 199.41234515,\n",
       "       234.21402489, 145.96053305,  79.86349114, 157.36828831,\n",
       "       192.74737754, 208.8980067 , 158.58505486, 206.0226849 ,\n",
       "       107.47978402, 140.93428553,  54.81856678,  55.92807758,\n",
       "       115.00974554,  78.95886675,  81.55731377,  54.3774778 ,\n",
       "       166.25477778])"
      ]
     },
     "execution_count": 100,
     "metadata": {},
     "output_type": "execute_result"
    }
   ],
   "source": [
    "predictions = model.predict(X_test)\n",
    "predictions"
   ]
  },
  {
   "cell_type": "code",
   "execution_count": 101,
   "id": "3d35d8c4",
   "metadata": {},
   "outputs": [
    {
     "data": {
      "text/plain": [
       "2900.1732878832318"
      ]
     },
     "execution_count": 101,
     "metadata": {},
     "output_type": "execute_result"
    }
   ],
   "source": [
    "from sklearn.metrics import mean_squared_error\n",
    "\n",
    "mse = mean_squared_error(y_test, predictions)\n",
    "mse"
   ]
  },
  {
   "cell_type": "code",
   "execution_count": 102,
   "id": "e55ed42b",
   "metadata": {},
   "outputs": [
    {
     "data": {
      "image/png": "[encoded data removed]",
      "text/plain": [
       "<Figure size 432x288 with 1 Axes>"
      ]
     },
     "metadata": {
      "needs_background": "light"
     },
     "output_type": "display_data"
    }
   ],
   "source": [
    "plt.scatter(X_test[:, 0], y_test, label=\"true\")\n",
    "plt.scatter(X_test[:, 0], predictions, label=\"pred\")\n",
    "plt.legend()\n",
    "plt.show()"
   ]
  },
  {
   "cell_type": "code",
   "execution_count": null,
   "id": "9720cb5d",
   "metadata": {},
   "outputs": [],
   "source": []
  }
 ],
 "metadata": {
  "kernelspec": {
   "display_name": "Python 3 (ipykernel)",
   "language": "python",
   "name": "python3"
  },
  "language_info": {
   "codemirror_mode": {
    "name": "ipython",
    "version": 3
   },
   "file_extension": ".py",
   "mimetype": "text/x-python",
   "name": "python",
   "nbconvert_exporter": "python",
   "pygments_lexer": "ipython3",
   "version": "3.9.7"
  }
 },
 "nbformat": 4,
 "nbformat_minor": 5
}
