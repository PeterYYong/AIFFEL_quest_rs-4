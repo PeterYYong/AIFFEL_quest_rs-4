{
  "nbformat": 4,
  "nbformat_minor": 0,
  "metadata": {
    "colab": {
      "provenance": []
    },
    "kernelspec": {
      "name": "python3",
      "display_name": "Python 3"
    },
    "language_info": {
      "name": "python"
    }
  },
  "cells": [
    {
      "cell_type": "markdown",
      "source": [
        "데이터 불러오기"
      ],
      "metadata": {
        "id": "6zriQzh-bIp-"
      }
    },
    {
      "cell_type": "code",
      "source": [
        "# !pip install tensorflow"
      ],
      "metadata": {
        "id": "-5MLQTf0wawa"
      },
      "execution_count": 38,
      "outputs": []
    },
    {
      "cell_type": "code",
      "source": [
        "import pandas as pd\n",
        "import numpy as np\n",
        "import tensorflow as tf\n",
        "from tensorflow.keras.preprocessing.sequence import pad_sequences\n",
        "from tensorflow.keras import layers\n",
        "import re\n",
        "import matplotlib.pyplot as plt\n",
        "import tensorflow_datasets as tfds"
      ],
      "metadata": {
        "id": "PjwlwQVocD44"
      },
      "execution_count": 142,
      "outputs": []
    },
    {
      "cell_type": "code",
      "execution_count": 144,
      "metadata": {
        "colab": {
          "base_uri": "https://localhost:8080/"
        },
        "id": "si_8SSGcbHkI",
        "outputId": "9c93ca41-9aaf-4b79-d015-1bda9c9e7027"
      },
      "outputs": [
        {
          "output_type": "stream",
          "name": "stdout",
          "text": [
            "                 Q            A  label\n",
            "0           12시 땡!   하루가 또 가네요.      0\n",
            "1      1지망 학교 떨어졌어    위로해 드립니다.      0\n",
            "2     3박4일 놀러가고 싶다  여행은 언제나 좋죠.      0\n",
            "3  3박4일 정도 놀러가고 싶다  여행은 언제나 좋죠.      0\n",
            "4          PPL 심하네   눈살이 찌푸려지죠.      0\n",
            "<class 'pandas.core.frame.DataFrame'>\n",
            "RangeIndex: 11823 entries, 0 to 11822\n",
            "Data columns (total 3 columns):\n",
            " #   Column  Non-Null Count  Dtype \n",
            "---  ------  --------------  ----- \n",
            " 0   Q       11823 non-null  object\n",
            " 1   A       11823 non-null  object\n",
            " 2   label   11823 non-null  int64 \n",
            "dtypes: int64(1), object(2)\n",
            "memory usage: 277.2+ KB\n",
            "None\n"
          ]
        }
      ],
      "source": [
        "# CSV 파일 경로 설정\n",
        "data_file_path = '/content/drive/MyDrive/Colab Notebooks/ChatbotData .csv'\n",
        "\n",
        "# 데이터 로드\n",
        "chatbot_data = pd.read_csv(data_file_path)\n",
        "\n",
        "# 데이터 확인print(\"데이터 샘플:\")\n",
        "print(chatbot_data.head())\n",
        "\n",
        "# 데이터 구조 확인print(\"\\n데이터 정보:\")\n",
        "print(chatbot_data.info())"
      ]
    },
    {
      "cell_type": "markdown",
      "source": [
        "데이터 전처리"
      ],
      "metadata": {
        "id": "GJiTkywWdJmy"
      }
    },
    {
      "cell_type": "code",
      "source": [
        "# 데이터 불러오기\n",
        "questions = chatbot_data['Q'].tolist()\n",
        "answers = chatbot_data['A'].tolist()\n",
        "\n",
        "# 전처리 함수 정의\n",
        "def preprocess_sentence(sentence):\n",
        "    \"\"\"\n",
        "    한국어 문장을 전처리합니다.\n",
        "    - 불필요한 공백 제거\n",
        "    - 특수 문자 제거\n",
        "    - 소문자로 변환 (필요한 경우)\n",
        "    \"\"\"\n",
        "    sentence = sentence.strip()  # 앞뒤 공백 제거\n",
        "    sentence = re.sub(r\"([?.!,])\", r\" \\1 \", sentence)  # 특수문자 양쪽에 공백 추가\n",
        "    sentence = re.sub(r'[\" \"]+', \" \", sentence)  # 여러 공백을 하나로 변환\n",
        "    sentence = re.sub(r\"[^가-힣ㄱ-ㅎㅏ-ㅣa-zA-Z0-9?.!,]+\", \" \", sentence)  # 한글, 영어, 숫자, 일부 특수문자 제외 모두 제거\n",
        "    sentence = sentence.strip()  # 다시 한번 앞뒤 공백 제거\n",
        "    return sentence\n",
        "\n",
        "# 데이터셋 전처리\n",
        "questions = [preprocess_sentence(sentence) for sentence in questions]\n",
        "answers = [preprocess_sentence(sentence) for sentence in answers]\n",
        "\n",
        "# 전처리된 데이터 확인\n",
        "print(\"전처리된 질문 샘플:\")\n",
        "print(questions[:5])\n",
        "\n",
        "print(\"\\n전처리된 답변 샘플:\")\n",
        "print(answers[:5])"
      ],
      "metadata": {
        "colab": {
          "base_uri": "https://localhost:8080/"
        },
        "id": "utYmzX6YcLN4",
        "outputId": "f03fbea4-ebda-4dcd-fbdd-2b42885bbbf7"
      },
      "execution_count": 161,
      "outputs": [
        {
          "output_type": "stream",
          "name": "stdout",
          "text": [
            "전처리된 질문 샘플:\n",
            "['12시 땡 !', '1지망 학교 떨어졌어', '3박4일 놀러가고 싶다', '3박4일 정도 놀러가고 싶다', 'PPL 심하네']\n",
            "\n",
            "전처리된 답변 샘플:\n",
            "['하루가 또 가네요 .', '위로해 드립니다 .', '여행은 언제나 좋죠 .', '여행은 언제나 좋죠 .', '눈살이 찌푸려지죠 .']\n"
          ]
        }
      ]
    },
    {
      "cell_type": "markdown",
      "source": [
        "SubwordTextEncoder 토크나이저"
      ],
      "metadata": {
        "id": "ZS1pskOUdYzr"
      }
    },
    {
      "cell_type": "code",
      "source": [
        "# import tensorflow_datasets as tfds\n",
        "\n",
        "# # 질문과 답변을 합쳐서 토크나이저 학습 데이터로 사용\n",
        "# tokenizer_corpus = questions + answers\n",
        "\n",
        "# # SubwordTextEncoder를 이용해 토크나이저 생성\n",
        "# tokenizer = tfds.deprecated.text.SubwordTextEncoder.build_from_corpus(\n",
        "#     tokenizer_corpus, target_vocab_size=2**13  # 약 8000개의 단어로 구성된 어휘집 생성\n",
        "# )\n",
        "\n",
        "\n",
        "# # START_TOKEN과 END_TOKEN 정의\n",
        "# START_TOKEN, END_TOKEN = [tokenizer.vocab_size], [tokenizer.vocab_size + 1]\n",
        "\n",
        "\n",
        "# # 어휘 크기 확인\n",
        "# vocab_size = tokenizer.vocab_size\n",
        "\n",
        "# # 어휘 크기 업데이트 (새로운 토큰 추가)\n",
        "# vocab_size += 2  # START_TOKEN과 END_TOKEN을 포함\n",
        "# print(f\"어휘 사전 크기: {vocab_size}\")\n",
        "\n",
        "# # 샘플 데이터를 토크나이징\n",
        "# sample_question = questions[0]\n",
        "# sample_answer = answers[0]\n",
        "\n",
        "# encoded_question = tokenizer.encode(sample_question)\n",
        "# encoded_answer = tokenizer.encode(sample_answer)\n",
        "\n",
        "# # 디코딩 테스트\n",
        "# decoded_question = tokenizer.decode(encoded_question)\n",
        "# decoded_answer = tokenizer.decode(encoded_answer)\n",
        "\n",
        "# # 결과 확인\n",
        "# print(f\"원문 질문: {sample_question}\")\n",
        "# print(f\"토큰화된 질문: {encoded_question}\")\n",
        "# print(f\"복원된 질문: {decoded_question}\")\n",
        "\n",
        "# print(f\"\\n원문 답변: {sample_answer}\")\n",
        "# print(f\"토큰화된 답변: {encoded_answer}\")\n",
        "# print(f\"복원된 답변: {decoded_answer}\")\n",
        "\n",
        "\n",
        "# Tokenizer\n",
        "tokenizer_corpus = questions + answers\n",
        "tokenizer = tfds.deprecated.text.SubwordTextEncoder.build_from_corpus(\n",
        "    tokenizer_corpus, target_vocab_size=2**13\n",
        ")\n",
        "\n",
        "# Add START and END Tokens\n",
        "START_TOKEN, END_TOKEN = [tokenizer.vocab_size], [tokenizer.vocab_size + 1]\n",
        "vocab_size = tokenizer.vocab_size + 2\n",
        "\n",
        "# Encode and Pad Sequences\n",
        "max_seq_len = 40\n",
        "input_sequences = [[START_TOKEN[0]] + tokenizer.encode(sentence) + [END_TOKEN[0]] for sentence in questions]\n",
        "target_sequences = [[START_TOKEN[0]] + tokenizer.encode(sentence) + [END_TOKEN[0]] for sentence in answers]\n",
        "input_sequences = pad_sequences(input_sequences, maxlen=max_seq_len, padding='post')\n",
        "target_sequences = pad_sequences(target_sequences, maxlen=max_seq_len, padding='post')\n",
        "\n",
        "# # Split Data\n",
        "# train_size = int(0.8 * len(input_sequences))\n",
        "# input_train, target_train = input_sequences[:train_size], target_sequences[:train_size]\n",
        "# input_val, target_val = input_sequences[train_size:], target_sequences[train_size:]\n",
        "\n",
        "# # Decoder Outputs\n",
        "# target_train_padded = pad_sequences(target_train[:, 1:], maxlen=max_seq_len, padding='post')\n",
        "# target_val_padded = pad_sequences(target_val[:, 1:], maxlen=max_seq_len, padding='post')\n",
        "\n",
        "# Split Data\n",
        "train_size = int(0.8 * len(input_sequences))\n",
        "input_train, target_train = input_sequences[:train_size], target_sequences[:train_size]\n",
        "input_val, target_val = input_sequences[train_size:], target_sequences[train_size:]\n",
        "\n",
        "# Decoder Outputs: Pad to match max_seq_len\n",
        "decoder_input_train = pad_sequences(target_train[:, :-1], maxlen=max_seq_len, padding='post')  # 디코더 입력 패딩\n",
        "decoder_input_val = pad_sequences(target_val[:, :-1], maxlen=max_seq_len, padding='post')      # 검증 데이터 디코더 입력\n",
        "\n",
        "target_train_padded = pad_sequences(target_train[:, 1:], maxlen=max_seq_len, padding='post')   # 디코더 출력 패딩\n",
        "target_val_padded = pad_sequences(target_val[:, 1:], maxlen=max_seq_len, padding='post')       # 검증 데이터 디코더 출력\n"
      ],
      "metadata": {
        "id": "DBRL6uDhdaAK"
      },
      "execution_count": 162,
      "outputs": []
    },
    {
      "cell_type": "code",
      "source": [
        "# Custom Loss Function to Ignore Padding\n",
        "loss_object = tf.keras.losses.SparseCategoricalCrossentropy(from_logits=False)\n",
        "\n",
        "def custom_loss_function(real, pred):\n",
        "    mask = tf.math.logical_not(tf.math.equal(real, 0))  # Ignore padding tokens\n",
        "    loss_ = loss_object(real, pred)  # Use the updated loss_object\n",
        "    mask = tf.cast(mask, dtype=loss_.dtype)\n",
        "    loss_ *= mask  # Apply mask to ignore padding\n",
        "    return tf.reduce_mean(loss_)"
      ],
      "metadata": {
        "id": "lo0_71VYdbsX"
      },
      "execution_count": 163,
      "outputs": []
    },
    {
      "cell_type": "code",
      "source": [
        "# # 정수 인코딩, 최대 길이를 초과하는 샘플 제거, 패딩\n",
        "# def tokenize_and_filter(inputs, outputs):\n",
        "#   tokenized_inputs, tokenized_outputs = [], []\n",
        "\n",
        "#   for (sentence1, sentence2) in zip(inputs, outputs):\n",
        "#     # 정수 인코딩 과정에서 시작 토큰과 종료 토큰을 추가\n",
        "#     sentence1 = START_TOKEN + tokenizer.encode(sentence1) + END_TOKEN\n",
        "#     sentence2 = START_TOKEN + tokenizer.encode(sentence2) + END_TOKEN\n",
        "\n",
        "#     # 최대 길이 40 이하인 경우에만 데이터셋으로 허용\n",
        "#     if len(sentence1) <= MAX_LENGTH and len(sentence2) <= MAX_LENGTH:\n",
        "#       tokenized_inputs.append(sentence1)\n",
        "#       tokenized_outputs.append(sentence2)\n",
        "\n",
        "#   # 최대 길이 40으로 모든 데이터셋을 패딩\n",
        "#   tokenized_inputs = tf.keras.preprocessing.sequence.pad_sequences(\n",
        "#       tokenized_inputs, maxlen=MAX_LENGTH, padding='post')\n",
        "#   tokenized_outputs = tf.keras.preprocessing.sequence.pad_sequences(\n",
        "#       tokenized_outputs, maxlen=MAX_LENGTH, padding='post')\n",
        "\n",
        "#   return tokenized_inputs, tokenized_outputs"
      ],
      "metadata": {
        "id": "Bem-pl1izEXs"
      },
      "execution_count": 64,
      "outputs": []
    },
    {
      "cell_type": "code",
      "source": [
        "# import numpy as np\n",
        "# from tensorflow.keras.preprocessing.sequence import pad_sequences\n",
        "\n",
        "# # START_TOKEN 및 END_TOKEN 정의\n",
        "# START_TOKEN = [tokenizer.vocab_size]\n",
        "# END_TOKEN = [tokenizer.vocab_size + 1]\n",
        "# vocab_size = tokenizer.vocab_size + 2  # START/END 토큰 포함\n",
        "\n",
        "# # 데이터 정수 인덱스로 변환\n",
        "# input_sequences = [tokenizer.encode(sentence) for sentence in questions]\n",
        "# target_sequences = [tokenizer.encode(sentence) for sentence in answers]\n",
        "\n",
        "# # START/END 토큰 추가\n",
        "# input_sequences = [[START_TOKEN[0]] + seq + [END_TOKEN[0]] for seq in input_sequences]\n",
        "# target_sequences = [[START_TOKEN[0]] + seq + [END_TOKEN[0]] for seq in target_sequences]\n",
        "\n",
        "# # 시퀀스 패딩\n",
        "# max_seq_len = 40\n",
        "# input_sequences = pad_sequences(input_sequences, maxlen=max_seq_len, padding='post')\n",
        "# target_sequences = pad_sequences(target_sequences, maxlen=max_seq_len, padding='post')\n",
        "\n",
        "# # 데이터 크기 조정\n",
        "# input_sequences = input_sequences[:5000]\n",
        "# target_sequences = target_sequences[:5000]\n",
        "\n",
        "# # 훈련/검증 데이터 분할\n",
        "# train_size = int(0.8 * len(input_sequences))\n",
        "# input_train = input_sequences[:train_size]\n",
        "# target_train = target_sequences[:train_size]\n",
        "# input_val = input_sequences[train_size:]\n",
        "# target_val = target_sequences[train_size:]\n",
        "\n",
        "# # 디코더 출력 준비\n",
        "# target_train_padded = pad_sequences(target_train[:, 1:], maxlen=max_seq_len, padding='post')\n",
        "# target_val_padded = pad_sequences(target_val[:, 1:], maxlen=max_seq_len, padding='post')\n",
        "\n"
      ],
      "metadata": {
        "id": "H3Cv3gXPmsXs"
      },
      "execution_count": 141,
      "outputs": []
    },
    {
      "cell_type": "code",
      "source": [
        "# Positional Encoding\n",
        "def get_positional_encoding(seq_len, depth):\n",
        "    angle_rads = tf.range(seq_len, dtype=tf.float32)[:, tf.newaxis] / tf.pow(\n",
        "        10000, (2 * (tf.range(depth // 2, dtype=tf.float32) // 2)) / depth\n",
        "    )\n",
        "    pos_encoding = tf.concat([tf.sin(angle_rads), tf.cos(angle_rads)], axis=-1)\n",
        "    return pos_encoding"
      ],
      "metadata": {
        "id": "FMaNGE2pduyK"
      },
      "execution_count": 164,
      "outputs": []
    },
    {
      "cell_type": "code",
      "source": [
        "# Transformer Encoder Layer\n",
        "def transformer_encoder(inputs, head_size, num_heads, ff_dim, dropout_rate):\n",
        "    attention = layers.MultiHeadAttention(num_heads=num_heads, key_dim=head_size, dropout=dropout_rate)(inputs, inputs)\n",
        "    attention = layers.Dropout(dropout_rate)(attention)\n",
        "    attention = layers.LayerNormalization(epsilon=1e-6)(inputs + attention)\n",
        "    ff = layers.Dense(ff_dim, activation='relu')(attention)\n",
        "    ff = layers.Dropout(dropout_rate)(ff)\n",
        "    ff = layers.Dense(inputs.shape[-1])(ff)\n",
        "    return layers.LayerNormalization(epsilon=1e-6)(attention + ff)"
      ],
      "metadata": {
        "id": "DzYB3i_0d3Da"
      },
      "execution_count": 165,
      "outputs": []
    },
    {
      "cell_type": "code",
      "source": [
        "# Transformer Model\n",
        "def build_transformer_model(input_vocab_size, target_vocab_size, seq_len):\n",
        "    inputs = layers.Input(shape=(seq_len,))\n",
        "    targets = layers.Input(shape=(seq_len,))\n",
        "    input_embed = layers.Embedding(input_vocab_size, embedding_dim)(inputs)\n",
        "    target_embed = layers.Embedding(target_vocab_size, embedding_dim)(targets)\n",
        "    input_embed += get_positional_encoding(seq_len, embedding_dim)\n",
        "    target_embed += get_positional_encoding(seq_len, embedding_dim)\n",
        "    encoder_output = transformer_encoder(input_embed, embedding_dim, num_heads, ff_dim, dropout_rate)\n",
        "    decoder_output = transformer_encoder(target_embed, embedding_dim, num_heads, ff_dim, dropout_rate)\n",
        "    output = layers.Dense(target_vocab_size, activation='softmax')(decoder_output)\n",
        "    return tf.keras.Model(inputs=[inputs, targets], outputs=output)"
      ],
      "metadata": {
        "id": "mELWuBLVd66d"
      },
      "execution_count": 166,
      "outputs": []
    },
    {
      "cell_type": "code",
      "source": [
        "# 하이퍼파라미터 설정\n",
        "embedding_dim = 256  # 임베딩 차원\n",
        "num_heads = 8        # 어텐션 헤드 수\n",
        "ff_dim = 1024        # 피드포워드 네트워크 차원\n",
        "num_layers = 4       # 트랜스포머 레이어 수\n",
        "dropout_rate = 0.1   # 드롭아웃 비율\n",
        "\n",
        "# # 포지셔널 인코딩 함수 정의\n",
        "# def get_positional_encoding(seq_len, depth):\n",
        "#     angle_rads = tf.range(seq_len, dtype=tf.float32)[:, tf.newaxis] / tf.pow(10000, (2 * (tf.range(depth // 2, dtype=tf.float32) // 2)) / depth)\n",
        "#     pos_encoding = tf.concat([tf.sin(angle_rads), tf.cos(angle_rads)], axis=-1)\n",
        "#     return pos_encoding\n",
        "\n",
        "# # 트랜스포머 인코더 레이어 정의\n",
        "# def transformer_encoder(inputs, head_size, num_heads, ff_dim, dropout_rate):\n",
        "#     # Multi-Head Attention\n",
        "#     attention = layers.MultiHeadAttention(\n",
        "#         num_heads=num_heads, key_dim=head_size, dropout=dropout_rate\n",
        "#     )(inputs, inputs)\n",
        "#     attention = layers.Dropout(dropout_rate)(attention)\n",
        "#     attention = layers.LayerNormalization(epsilon=1e-6)(inputs + attention)  # Residual Connection\n",
        "\n",
        "#     # Feed Forward Network\n",
        "#     ff = layers.Dense(ff_dim, activation='relu')(attention)\n",
        "#     ff = layers.Dropout(dropout_rate)(ff)\n",
        "#     ff = layers.Dense(inputs.shape[-1])(ff)\n",
        "#     ff = layers.LayerNormalization(epsilon=1e-6)(attention + ff)  # Residual Connection\n",
        "\n",
        "#     return ff\n",
        "\n",
        "# # 트랜스포머 모델 정의\n",
        "# def build_transformer_model(input_vocab_size, target_vocab_size, seq_len):\n",
        "#     # 입력 및 출력 시퀀스 정의\n",
        "#     inputs = layers.Input(shape=(seq_len,))\n",
        "#     targets = layers.Input(shape=(seq_len,))\n",
        "\n",
        "#     # 임베딩 층\n",
        "#     input_embed = layers.Embedding(input_vocab_size, embedding_dim)(inputs)\n",
        "#     target_embed = layers.Embedding(target_vocab_size, embedding_dim)(targets)\n",
        "\n",
        "#     # 포지셔널 인코딩 추가\n",
        "#     input_pos_encoding = get_positional_encoding(seq_len, embedding_dim)\n",
        "#     target_pos_encoding = get_positional_encoding(seq_len, embedding_dim)\n",
        "\n",
        "#     input_embed += input_pos_encoding\n",
        "#     target_embed += target_pos_encoding\n",
        "\n",
        "#     # 트랜스포머 인코더\n",
        "#     encoder_output = transformer_encoder(input_embed, embedding_dim, num_heads, ff_dim, dropout_rate)\n",
        "\n",
        "#     # 트랜스포머 디코더\n",
        "#     decoder_output = transformer_encoder(target_embed, embedding_dim, num_heads, ff_dim, dropout_rate)\n",
        "\n",
        "#     # 출력 층\n",
        "#     output = layers.Dense(target_vocab_size, activation='softmax')(decoder_output)\n",
        "\n",
        "#     # 모델 정의\n",
        "#     model = tf.keras.Model(inputs=[inputs, targets], outputs=output)\n",
        "\n",
        "#     return model\n",
        "\n",
        "# # 모델 생성\n",
        "# input_vocab_size = vocab_size  # 어휘 크기 (토크나이저에서 생성된 어휘 크기 사용)\n",
        "# target_vocab_size = vocab_size  # 어휘 크기 (입력과 출력 어휘 크기는 동일)\n",
        "# seq_len = 40  # 최대 시퀀스 길이 (임의로 설정)\n",
        "\n",
        "# model = build_transformer_model(input_vocab_size, target_vocab_size, seq_len)\n",
        "\n",
        "\n",
        "# Build and Compile Model\n",
        "model = build_transformer_model(vocab_size, vocab_size, max_seq_len)\n",
        "model.compile(optimizer=tf.keras.optimizers.Adam(learning_rate=0.0001), loss=custom_loss_function, metrics=['accuracy'])\n",
        "\n",
        "# 모델 요약\n",
        "model.summary()"
      ],
      "metadata": {
        "colab": {
          "base_uri": "https://localhost:8080/",
          "height": 694
        },
        "id": "s4D6lT_thU8F",
        "outputId": "0a615f66-ec48-472a-dd4d-35f38ebbdf62"
      },
      "execution_count": 167,
      "outputs": [
        {
          "output_type": "display_data",
          "data": {
            "text/plain": [
              "\u001b[1mModel: \"functional_5\"\u001b[0m\n"
            ],
            "text/html": [
              "<pre style=\"white-space:pre;overflow-x:auto;line-height:normal;font-family:Menlo,'DejaVu Sans Mono',consolas,'Courier New',monospace\"><span style=\"font-weight: bold\">Model: \"functional_5\"</span>\n",
              "</pre>\n"
            ]
          },
          "metadata": {}
        },
        {
          "output_type": "display_data",
          "data": {
            "text/plain": [
              "┏━━━━━━━━━━━━━━━━━━━━━━━━━━━┳━━━━━━━━━━━━━━━━━━━━━━━━┳━━━━━━━━━━━━━━━━┳━━━━━━━━━━━━━━━━━━━━━━━━┓\n",
              "┃\u001b[1m \u001b[0m\u001b[1mLayer (type)             \u001b[0m\u001b[1m \u001b[0m┃\u001b[1m \u001b[0m\u001b[1mOutput Shape          \u001b[0m\u001b[1m \u001b[0m┃\u001b[1m \u001b[0m\u001b[1m       Param #\u001b[0m\u001b[1m \u001b[0m┃\u001b[1m \u001b[0m\u001b[1mConnected to          \u001b[0m\u001b[1m \u001b[0m┃\n",
              "┡━━━━━━━━━━━━━━━━━━━━━━━━━━━╇━━━━━━━━━━━━━━━━━━━━━━━━╇━━━━━━━━━━━━━━━━╇━━━━━━━━━━━━━━━━━━━━━━━━┩\n",
              "│ input_layer_13            │ (\u001b[38;5;45mNone\u001b[0m, \u001b[38;5;34m40\u001b[0m)             │              \u001b[38;5;34m0\u001b[0m │ -                      │\n",
              "│ (\u001b[38;5;33mInputLayer\u001b[0m)              │                        │                │                        │\n",
              "├───────────────────────────┼────────────────────────┼────────────────┼────────────────────────┤\n",
              "│ embedding_13 (\u001b[38;5;33mEmbedding\u001b[0m)  │ (\u001b[38;5;45mNone\u001b[0m, \u001b[38;5;34m40\u001b[0m, \u001b[38;5;34m256\u001b[0m)        │      \u001b[38;5;34m2,092,032\u001b[0m │ input_layer_13[\u001b[38;5;34m0\u001b[0m][\u001b[38;5;34m0\u001b[0m]   │\n",
              "├───────────────────────────┼────────────────────────┼────────────────┼────────────────────────┤\n",
              "│ add_31 (\u001b[38;5;33mAdd\u001b[0m)              │ (\u001b[38;5;45mNone\u001b[0m, \u001b[38;5;34m40\u001b[0m, \u001b[38;5;34m256\u001b[0m)        │              \u001b[38;5;34m0\u001b[0m │ embedding_13[\u001b[38;5;34m0\u001b[0m][\u001b[38;5;34m0\u001b[0m]     │\n",
              "├───────────────────────────┼────────────────────────┼────────────────┼────────────────────────┤\n",
              "│ multi_head_attention_11   │ (\u001b[38;5;45mNone\u001b[0m, \u001b[38;5;34m40\u001b[0m, \u001b[38;5;34m256\u001b[0m)        │      \u001b[38;5;34m2,103,552\u001b[0m │ add_31[\u001b[38;5;34m0\u001b[0m][\u001b[38;5;34m0\u001b[0m],          │\n",
              "│ (\u001b[38;5;33mMultiHeadAttention\u001b[0m)      │                        │                │ add_31[\u001b[38;5;34m0\u001b[0m][\u001b[38;5;34m0\u001b[0m]           │\n",
              "├───────────────────────────┼────────────────────────┼────────────────┼────────────────────────┤\n",
              "│ dropout_34 (\u001b[38;5;33mDropout\u001b[0m)      │ (\u001b[38;5;45mNone\u001b[0m, \u001b[38;5;34m40\u001b[0m, \u001b[38;5;34m256\u001b[0m)        │              \u001b[38;5;34m0\u001b[0m │ multi_head_attention_… │\n",
              "├───────────────────────────┼────────────────────────┼────────────────┼────────────────────────┤\n",
              "│ add_34 (\u001b[38;5;33mAdd\u001b[0m)              │ (\u001b[38;5;45mNone\u001b[0m, \u001b[38;5;34m40\u001b[0m, \u001b[38;5;34m256\u001b[0m)        │              \u001b[38;5;34m0\u001b[0m │ add_31[\u001b[38;5;34m0\u001b[0m][\u001b[38;5;34m0\u001b[0m],          │\n",
              "│                           │                        │                │ dropout_34[\u001b[38;5;34m0\u001b[0m][\u001b[38;5;34m0\u001b[0m]       │\n",
              "├───────────────────────────┼────────────────────────┼────────────────┼────────────────────────┤\n",
              "│ layer_normalization_22    │ (\u001b[38;5;45mNone\u001b[0m, \u001b[38;5;34m40\u001b[0m, \u001b[38;5;34m256\u001b[0m)        │            \u001b[38;5;34m512\u001b[0m │ add_34[\u001b[38;5;34m0\u001b[0m][\u001b[38;5;34m0\u001b[0m]           │\n",
              "│ (\u001b[38;5;33mLayerNormalization\u001b[0m)      │                        │                │                        │\n",
              "├───────────────────────────┼────────────────────────┼────────────────┼────────────────────────┤\n",
              "│ dense_27 (\u001b[38;5;33mDense\u001b[0m)          │ (\u001b[38;5;45mNone\u001b[0m, \u001b[38;5;34m40\u001b[0m, \u001b[38;5;34m1024\u001b[0m)       │        \u001b[38;5;34m263,168\u001b[0m │ layer_normalization_2… │\n",
              "├───────────────────────────┼────────────────────────┼────────────────┼────────────────────────┤\n",
              "│ dropout_35 (\u001b[38;5;33mDropout\u001b[0m)      │ (\u001b[38;5;45mNone\u001b[0m, \u001b[38;5;34m40\u001b[0m, \u001b[38;5;34m1024\u001b[0m)       │              \u001b[38;5;34m0\u001b[0m │ dense_27[\u001b[38;5;34m0\u001b[0m][\u001b[38;5;34m0\u001b[0m]         │\n",
              "├───────────────────────────┼────────────────────────┼────────────────┼────────────────────────┤\n",
              "│ dense_28 (\u001b[38;5;33mDense\u001b[0m)          │ (\u001b[38;5;45mNone\u001b[0m, \u001b[38;5;34m40\u001b[0m, \u001b[38;5;34m256\u001b[0m)        │        \u001b[38;5;34m262,400\u001b[0m │ dropout_35[\u001b[38;5;34m0\u001b[0m][\u001b[38;5;34m0\u001b[0m]       │\n",
              "├───────────────────────────┼────────────────────────┼────────────────┼────────────────────────┤\n",
              "│ add_35 (\u001b[38;5;33mAdd\u001b[0m)              │ (\u001b[38;5;45mNone\u001b[0m, \u001b[38;5;34m40\u001b[0m, \u001b[38;5;34m256\u001b[0m)        │              \u001b[38;5;34m0\u001b[0m │ layer_normalization_2… │\n",
              "│                           │                        │                │ dense_28[\u001b[38;5;34m0\u001b[0m][\u001b[38;5;34m0\u001b[0m]         │\n",
              "├───────────────────────────┼────────────────────────┼────────────────┼────────────────────────┤\n",
              "│ layer_normalization_23    │ (\u001b[38;5;45mNone\u001b[0m, \u001b[38;5;34m40\u001b[0m, \u001b[38;5;34m256\u001b[0m)        │            \u001b[38;5;34m512\u001b[0m │ add_35[\u001b[38;5;34m0\u001b[0m][\u001b[38;5;34m0\u001b[0m]           │\n",
              "│ (\u001b[38;5;33mLayerNormalization\u001b[0m)      │                        │                │                        │\n",
              "├───────────────────────────┼────────────────────────┼────────────────┼────────────────────────┤\n",
              "│ input_layer_12            │ (\u001b[38;5;45mNone\u001b[0m, \u001b[38;5;34m40\u001b[0m)             │              \u001b[38;5;34m0\u001b[0m │ -                      │\n",
              "│ (\u001b[38;5;33mInputLayer\u001b[0m)              │                        │                │                        │\n",
              "├───────────────────────────┼────────────────────────┼────────────────┼────────────────────────┤\n",
              "│ dense_29 (\u001b[38;5;33mDense\u001b[0m)          │ (\u001b[38;5;45mNone\u001b[0m, \u001b[38;5;34m40\u001b[0m, \u001b[38;5;34m8172\u001b[0m)       │      \u001b[38;5;34m2,100,204\u001b[0m │ layer_normalization_2… │\n",
              "└───────────────────────────┴────────────────────────┴────────────────┴────────────────────────┘\n"
            ],
            "text/html": [
              "<pre style=\"white-space:pre;overflow-x:auto;line-height:normal;font-family:Menlo,'DejaVu Sans Mono',consolas,'Courier New',monospace\">┏━━━━━━━━━━━━━━━━━━━━━━━━━━━┳━━━━━━━━━━━━━━━━━━━━━━━━┳━━━━━━━━━━━━━━━━┳━━━━━━━━━━━━━━━━━━━━━━━━┓\n",
              "┃<span style=\"font-weight: bold\"> Layer (type)              </span>┃<span style=\"font-weight: bold\"> Output Shape           </span>┃<span style=\"font-weight: bold\">        Param # </span>┃<span style=\"font-weight: bold\"> Connected to           </span>┃\n",
              "┡━━━━━━━━━━━━━━━━━━━━━━━━━━━╇━━━━━━━━━━━━━━━━━━━━━━━━╇━━━━━━━━━━━━━━━━╇━━━━━━━━━━━━━━━━━━━━━━━━┩\n",
              "│ input_layer_13            │ (<span style=\"color: #00d7ff; text-decoration-color: #00d7ff\">None</span>, <span style=\"color: #00af00; text-decoration-color: #00af00\">40</span>)             │              <span style=\"color: #00af00; text-decoration-color: #00af00\">0</span> │ -                      │\n",
              "│ (<span style=\"color: #0087ff; text-decoration-color: #0087ff\">InputLayer</span>)              │                        │                │                        │\n",
              "├───────────────────────────┼────────────────────────┼────────────────┼────────────────────────┤\n",
              "│ embedding_13 (<span style=\"color: #0087ff; text-decoration-color: #0087ff\">Embedding</span>)  │ (<span style=\"color: #00d7ff; text-decoration-color: #00d7ff\">None</span>, <span style=\"color: #00af00; text-decoration-color: #00af00\">40</span>, <span style=\"color: #00af00; text-decoration-color: #00af00\">256</span>)        │      <span style=\"color: #00af00; text-decoration-color: #00af00\">2,092,032</span> │ input_layer_13[<span style=\"color: #00af00; text-decoration-color: #00af00\">0</span>][<span style=\"color: #00af00; text-decoration-color: #00af00\">0</span>]   │\n",
              "├───────────────────────────┼────────────────────────┼────────────────┼────────────────────────┤\n",
              "│ add_31 (<span style=\"color: #0087ff; text-decoration-color: #0087ff\">Add</span>)              │ (<span style=\"color: #00d7ff; text-decoration-color: #00d7ff\">None</span>, <span style=\"color: #00af00; text-decoration-color: #00af00\">40</span>, <span style=\"color: #00af00; text-decoration-color: #00af00\">256</span>)        │              <span style=\"color: #00af00; text-decoration-color: #00af00\">0</span> │ embedding_13[<span style=\"color: #00af00; text-decoration-color: #00af00\">0</span>][<span style=\"color: #00af00; text-decoration-color: #00af00\">0</span>]     │\n",
              "├───────────────────────────┼────────────────────────┼────────────────┼────────────────────────┤\n",
              "│ multi_head_attention_11   │ (<span style=\"color: #00d7ff; text-decoration-color: #00d7ff\">None</span>, <span style=\"color: #00af00; text-decoration-color: #00af00\">40</span>, <span style=\"color: #00af00; text-decoration-color: #00af00\">256</span>)        │      <span style=\"color: #00af00; text-decoration-color: #00af00\">2,103,552</span> │ add_31[<span style=\"color: #00af00; text-decoration-color: #00af00\">0</span>][<span style=\"color: #00af00; text-decoration-color: #00af00\">0</span>],          │\n",
              "│ (<span style=\"color: #0087ff; text-decoration-color: #0087ff\">MultiHeadAttention</span>)      │                        │                │ add_31[<span style=\"color: #00af00; text-decoration-color: #00af00\">0</span>][<span style=\"color: #00af00; text-decoration-color: #00af00\">0</span>]           │\n",
              "├───────────────────────────┼────────────────────────┼────────────────┼────────────────────────┤\n",
              "│ dropout_34 (<span style=\"color: #0087ff; text-decoration-color: #0087ff\">Dropout</span>)      │ (<span style=\"color: #00d7ff; text-decoration-color: #00d7ff\">None</span>, <span style=\"color: #00af00; text-decoration-color: #00af00\">40</span>, <span style=\"color: #00af00; text-decoration-color: #00af00\">256</span>)        │              <span style=\"color: #00af00; text-decoration-color: #00af00\">0</span> │ multi_head_attention_… │\n",
              "├───────────────────────────┼────────────────────────┼────────────────┼────────────────────────┤\n",
              "│ add_34 (<span style=\"color: #0087ff; text-decoration-color: #0087ff\">Add</span>)              │ (<span style=\"color: #00d7ff; text-decoration-color: #00d7ff\">None</span>, <span style=\"color: #00af00; text-decoration-color: #00af00\">40</span>, <span style=\"color: #00af00; text-decoration-color: #00af00\">256</span>)        │              <span style=\"color: #00af00; text-decoration-color: #00af00\">0</span> │ add_31[<span style=\"color: #00af00; text-decoration-color: #00af00\">0</span>][<span style=\"color: #00af00; text-decoration-color: #00af00\">0</span>],          │\n",
              "│                           │                        │                │ dropout_34[<span style=\"color: #00af00; text-decoration-color: #00af00\">0</span>][<span style=\"color: #00af00; text-decoration-color: #00af00\">0</span>]       │\n",
              "├───────────────────────────┼────────────────────────┼────────────────┼────────────────────────┤\n",
              "│ layer_normalization_22    │ (<span style=\"color: #00d7ff; text-decoration-color: #00d7ff\">None</span>, <span style=\"color: #00af00; text-decoration-color: #00af00\">40</span>, <span style=\"color: #00af00; text-decoration-color: #00af00\">256</span>)        │            <span style=\"color: #00af00; text-decoration-color: #00af00\">512</span> │ add_34[<span style=\"color: #00af00; text-decoration-color: #00af00\">0</span>][<span style=\"color: #00af00; text-decoration-color: #00af00\">0</span>]           │\n",
              "│ (<span style=\"color: #0087ff; text-decoration-color: #0087ff\">LayerNormalization</span>)      │                        │                │                        │\n",
              "├───────────────────────────┼────────────────────────┼────────────────┼────────────────────────┤\n",
              "│ dense_27 (<span style=\"color: #0087ff; text-decoration-color: #0087ff\">Dense</span>)          │ (<span style=\"color: #00d7ff; text-decoration-color: #00d7ff\">None</span>, <span style=\"color: #00af00; text-decoration-color: #00af00\">40</span>, <span style=\"color: #00af00; text-decoration-color: #00af00\">1024</span>)       │        <span style=\"color: #00af00; text-decoration-color: #00af00\">263,168</span> │ layer_normalization_2… │\n",
              "├───────────────────────────┼────────────────────────┼────────────────┼────────────────────────┤\n",
              "│ dropout_35 (<span style=\"color: #0087ff; text-decoration-color: #0087ff\">Dropout</span>)      │ (<span style=\"color: #00d7ff; text-decoration-color: #00d7ff\">None</span>, <span style=\"color: #00af00; text-decoration-color: #00af00\">40</span>, <span style=\"color: #00af00; text-decoration-color: #00af00\">1024</span>)       │              <span style=\"color: #00af00; text-decoration-color: #00af00\">0</span> │ dense_27[<span style=\"color: #00af00; text-decoration-color: #00af00\">0</span>][<span style=\"color: #00af00; text-decoration-color: #00af00\">0</span>]         │\n",
              "├───────────────────────────┼────────────────────────┼────────────────┼────────────────────────┤\n",
              "│ dense_28 (<span style=\"color: #0087ff; text-decoration-color: #0087ff\">Dense</span>)          │ (<span style=\"color: #00d7ff; text-decoration-color: #00d7ff\">None</span>, <span style=\"color: #00af00; text-decoration-color: #00af00\">40</span>, <span style=\"color: #00af00; text-decoration-color: #00af00\">256</span>)        │        <span style=\"color: #00af00; text-decoration-color: #00af00\">262,400</span> │ dropout_35[<span style=\"color: #00af00; text-decoration-color: #00af00\">0</span>][<span style=\"color: #00af00; text-decoration-color: #00af00\">0</span>]       │\n",
              "├───────────────────────────┼────────────────────────┼────────────────┼────────────────────────┤\n",
              "│ add_35 (<span style=\"color: #0087ff; text-decoration-color: #0087ff\">Add</span>)              │ (<span style=\"color: #00d7ff; text-decoration-color: #00d7ff\">None</span>, <span style=\"color: #00af00; text-decoration-color: #00af00\">40</span>, <span style=\"color: #00af00; text-decoration-color: #00af00\">256</span>)        │              <span style=\"color: #00af00; text-decoration-color: #00af00\">0</span> │ layer_normalization_2… │\n",
              "│                           │                        │                │ dense_28[<span style=\"color: #00af00; text-decoration-color: #00af00\">0</span>][<span style=\"color: #00af00; text-decoration-color: #00af00\">0</span>]         │\n",
              "├───────────────────────────┼────────────────────────┼────────────────┼────────────────────────┤\n",
              "│ layer_normalization_23    │ (<span style=\"color: #00d7ff; text-decoration-color: #00d7ff\">None</span>, <span style=\"color: #00af00; text-decoration-color: #00af00\">40</span>, <span style=\"color: #00af00; text-decoration-color: #00af00\">256</span>)        │            <span style=\"color: #00af00; text-decoration-color: #00af00\">512</span> │ add_35[<span style=\"color: #00af00; text-decoration-color: #00af00\">0</span>][<span style=\"color: #00af00; text-decoration-color: #00af00\">0</span>]           │\n",
              "│ (<span style=\"color: #0087ff; text-decoration-color: #0087ff\">LayerNormalization</span>)      │                        │                │                        │\n",
              "├───────────────────────────┼────────────────────────┼────────────────┼────────────────────────┤\n",
              "│ input_layer_12            │ (<span style=\"color: #00d7ff; text-decoration-color: #00d7ff\">None</span>, <span style=\"color: #00af00; text-decoration-color: #00af00\">40</span>)             │              <span style=\"color: #00af00; text-decoration-color: #00af00\">0</span> │ -                      │\n",
              "│ (<span style=\"color: #0087ff; text-decoration-color: #0087ff\">InputLayer</span>)              │                        │                │                        │\n",
              "├───────────────────────────┼────────────────────────┼────────────────┼────────────────────────┤\n",
              "│ dense_29 (<span style=\"color: #0087ff; text-decoration-color: #0087ff\">Dense</span>)          │ (<span style=\"color: #00d7ff; text-decoration-color: #00d7ff\">None</span>, <span style=\"color: #00af00; text-decoration-color: #00af00\">40</span>, <span style=\"color: #00af00; text-decoration-color: #00af00\">8172</span>)       │      <span style=\"color: #00af00; text-decoration-color: #00af00\">2,100,204</span> │ layer_normalization_2… │\n",
              "└───────────────────────────┴────────────────────────┴────────────────┴────────────────────────┘\n",
              "</pre>\n"
            ]
          },
          "metadata": {}
        },
        {
          "output_type": "display_data",
          "data": {
            "text/plain": [
              "\u001b[1m Total params: \u001b[0m\u001b[38;5;34m6,822,380\u001b[0m (26.03 MB)\n"
            ],
            "text/html": [
              "<pre style=\"white-space:pre;overflow-x:auto;line-height:normal;font-family:Menlo,'DejaVu Sans Mono',consolas,'Courier New',monospace\"><span style=\"font-weight: bold\"> Total params: </span><span style=\"color: #00af00; text-decoration-color: #00af00\">6,822,380</span> (26.03 MB)\n",
              "</pre>\n"
            ]
          },
          "metadata": {}
        },
        {
          "output_type": "display_data",
          "data": {
            "text/plain": [
              "\u001b[1m Trainable params: \u001b[0m\u001b[38;5;34m6,822,380\u001b[0m (26.03 MB)\n"
            ],
            "text/html": [
              "<pre style=\"white-space:pre;overflow-x:auto;line-height:normal;font-family:Menlo,'DejaVu Sans Mono',consolas,'Courier New',monospace\"><span style=\"font-weight: bold\"> Trainable params: </span><span style=\"color: #00af00; text-decoration-color: #00af00\">6,822,380</span> (26.03 MB)\n",
              "</pre>\n"
            ]
          },
          "metadata": {}
        },
        {
          "output_type": "display_data",
          "data": {
            "text/plain": [
              "\u001b[1m Non-trainable params: \u001b[0m\u001b[38;5;34m0\u001b[0m (0.00 B)\n"
            ],
            "text/html": [
              "<pre style=\"white-space:pre;overflow-x:auto;line-height:normal;font-family:Menlo,'DejaVu Sans Mono',consolas,'Courier New',monospace\"><span style=\"font-weight: bold\"> Non-trainable params: </span><span style=\"color: #00af00; text-decoration-color: #00af00\">0</span> (0.00 B)\n",
              "</pre>\n"
            ]
          },
          "metadata": {}
        }
      ]
    },
    {
      "cell_type": "markdown",
      "source": [
        "모델 훈련준비\n",
        "데이터크기, 배치사이즈 등 정하기"
      ],
      "metadata": {
        "id": "OgX4Ee2NmpO4"
      }
    },
    {
      "cell_type": "code",
      "source": [
        "# print(input_train.shape, decoder_input_train.shape, target_train_padded.shape)\n",
        "# print(input_val.shape, decoder_input_val.shape, target_val_padded.shape)\n"
      ],
      "metadata": {
        "colab": {
          "base_uri": "https://localhost:8080/"
        },
        "id": "bbNa8Q1hv7fk",
        "outputId": "87c962f7-f102-4131-b5b7-dfd5c3f4aa04"
      },
      "execution_count": 157,
      "outputs": [
        {
          "output_type": "stream",
          "name": "stdout",
          "text": [
            "(9458, 40) (4000, 40) (9458, 40)\n",
            "(2365, 40) (1000, 40) (2365, 40)\n"
          ]
        }
      ]
    },
    {
      "cell_type": "code",
      "source": [
        "# Compile the model\n",
        "model.compile(\n",
        "    optimizer=tf.keras.optimizers.Adam(learning_rate=0.001),\n",
        "    loss=custom_loss_function,  # Use updated custom loss\n",
        "    metrics=['accuracy']\n",
        ")"
      ],
      "metadata": {
        "id": "BqqK4YMa2N2J"
      },
      "execution_count": 168,
      "outputs": []
    },
    {
      "cell_type": "code",
      "source": [
        "# Train the model\n",
        "\n",
        "history = model.fit(\n",
        "    [input_train, decoder_input_train],  # Encoder and decoder inputs\n",
        "    target_train_padded,  # Padded target tensor\n",
        "    validation_data=([input_val, decoder_input_val], target_val_padded),  # Validation data\n",
        "    epochs=10,\n",
        "    batch_size=32,\n",
        "    verbose=1\n",
        ")\n",
        "# 훈련 결과 출력\n",
        "print(f\"훈련 완료 후 최종 정확도: {history.history['accuracy'][-1]}\")"
      ],
      "metadata": {
        "colab": {
          "base_uri": "https://localhost:8080/"
        },
        "id": "SYMabvw0eYhA",
        "outputId": "ff5063de-1349-4396-e598-3b3a5e579c49"
      },
      "execution_count": null,
      "outputs": [
        {
          "output_type": "stream",
          "name": "stdout",
          "text": [
            "Epoch 1/10\n",
            "\u001b[1m296/296\u001b[0m \u001b[32m━━━━━━━━━━━━━━━━━━━━\u001b[0m\u001b[37m\u001b[0m \u001b[1m749s\u001b[0m 3s/step - accuracy: 0.8318 - loss: 0.3219 - val_accuracy: 0.8563 - val_loss: 0.2311\n",
            "Epoch 2/10\n",
            "\u001b[1m 80/296\u001b[0m \u001b[32m━━━━━\u001b[0m\u001b[37m━━━━━━━━━━━━━━━\u001b[0m \u001b[1m8:19\u001b[0m 2s/step - accuracy: 0.8866 - loss: 0.1440"
          ]
        }
      ]
    },
    {
      "cell_type": "code",
      "source": [
        "# 여기서 아웃풋 변수 지정 문제\n",
        "# # Train the model\n",
        "# history = model.fit(\n",
        "#     [input_train, target_train],  # Model inputs: encoder and decoder input sequences\n",
        "#     target_train_padded,  # Target sequences (decoder output)\n",
        "#     validation_data=([input_val, target_val], target_val_padded),  # Validation data\n",
        "#     epochs=10,  # Number of training epochs\n",
        "#     batch_size=32,  # Batch size\n",
        "#     verbose=1  # Display progress during training\n",
        "# )"
      ],
      "metadata": {
        "colab": {
          "base_uri": "https://localhost:8080/"
        },
        "id": "8Pkzx6s6sxAS",
        "outputId": "1e07c4e1-8e5e-4870-d36e-a8be21034499"
      },
      "execution_count": 70,
      "outputs": [
        {
          "output_type": "stream",
          "name": "stdout",
          "text": [
            "Epoch 1/10\n",
            "\u001b[1m125/125\u001b[0m \u001b[32m━━━━━━━━━━━━━━━━━━━━\u001b[0m\u001b[37m\u001b[0m \u001b[1m294s\u001b[0m 2s/step - accuracy: 0.8555 - loss: 2.2846 - val_accuracy: 0.9115 - val_loss: 0.7467\n",
            "Epoch 2/10\n",
            "\u001b[1m125/125\u001b[0m \u001b[32m━━━━━━━━━━━━━━━━━━━━\u001b[0m\u001b[37m\u001b[0m \u001b[1m310s\u001b[0m 2s/step - accuracy: 0.9153 - loss: 0.6554 - val_accuracy: 0.9138 - val_loss: 0.6911\n",
            "Epoch 3/10\n",
            "\u001b[1m125/125\u001b[0m \u001b[32m━━━━━━━━━━━━━━━━━━━━\u001b[0m\u001b[37m\u001b[0m \u001b[1m287s\u001b[0m 2s/step - accuracy: 0.9182 - loss: 0.5828 - val_accuracy: 0.9152 - val_loss: 0.6749\n",
            "Epoch 4/10\n",
            "\u001b[1m125/125\u001b[0m \u001b[32m━━━━━━━━━━━━━━━━━━━━\u001b[0m\u001b[37m\u001b[0m \u001b[1m313s\u001b[0m 2s/step - accuracy: 0.9196 - loss: 0.5509 - val_accuracy: 0.9165 - val_loss: 0.6571\n",
            "Epoch 5/10\n",
            "\u001b[1m125/125\u001b[0m \u001b[32m━━━━━━━━━━━━━━━━━━━━\u001b[0m\u001b[37m\u001b[0m \u001b[1m322s\u001b[0m 2s/step - accuracy: 0.9225 - loss: 0.5026 - val_accuracy: 0.9195 - val_loss: 0.6234\n",
            "Epoch 6/10\n",
            "\u001b[1m125/125\u001b[0m \u001b[32m━━━━━━━━━━━━━━━━━━━━\u001b[0m\u001b[37m\u001b[0m \u001b[1m281s\u001b[0m 2s/step - accuracy: 0.9241 - loss: 0.4556 - val_accuracy: 0.9205 - val_loss: 0.6037\n",
            "Epoch 7/10\n",
            "\u001b[1m125/125\u001b[0m \u001b[32m━━━━━━━━━━━━━━━━━━━━\u001b[0m\u001b[37m\u001b[0m \u001b[1m318s\u001b[0m 2s/step - accuracy: 0.9288 - loss: 0.4028 - val_accuracy: 0.9221 - val_loss: 0.5946\n",
            "Epoch 8/10\n",
            "\u001b[1m125/125\u001b[0m \u001b[32m━━━━━━━━━━━━━━━━━━━━\u001b[0m\u001b[37m\u001b[0m \u001b[1m324s\u001b[0m 2s/step - accuracy: 0.9292 - loss: 0.3776 - val_accuracy: 0.9238 - val_loss: 0.5795\n",
            "Epoch 9/10\n",
            "\u001b[1m125/125\u001b[0m \u001b[32m━━━━━━━━━━━━━━━━━━━━\u001b[0m\u001b[37m\u001b[0m \u001b[1m317s\u001b[0m 2s/step - accuracy: 0.9333 - loss: 0.3403 - val_accuracy: 0.9268 - val_loss: 0.5585\n",
            "Epoch 10/10\n",
            "\u001b[1m125/125\u001b[0m \u001b[32m━━━━━━━━━━━━━━━━━━━━\u001b[0m\u001b[37m\u001b[0m \u001b[1m282s\u001b[0m 2s/step - accuracy: 0.9387 - loss: 0.2975 - val_accuracy: 0.9317 - val_loss: 0.5263\n",
            "훈련 완료 후 최종 정확도: 0.9386687874794006\n"
          ]
        }
      ]
    },
    {
      "cell_type": "code",
      "source": [
        "# Evaluate the model on validation data\n",
        "val_loss, val_accuracy = model.evaluate(\n",
        "    [input_val, decoder_input_val],\n",
        "    target_val_padded,\n",
        "    verbose=1\n",
        ")\n",
        "print(f\"Validation Loss: {val_loss}\")\n",
        "print(f\"Validation Accuracy: {val_accuracy}\")"
      ],
      "metadata": {
        "colab": {
          "base_uri": "https://localhost:8080/"
        },
        "id": "5R0gG5xpCJ29",
        "outputId": "2c0a6293-36fa-4061-b0b3-5bc9889702a1"
      },
      "execution_count": 74,
      "outputs": [
        {
          "output_type": "stream",
          "name": "stdout",
          "text": [
            "\u001b[1m32/32\u001b[0m \u001b[32m━━━━━━━━━━━━━━━━━━━━\u001b[0m\u001b[37m\u001b[0m \u001b[1m19s\u001b[0m 585ms/step - accuracy: 0.9299 - loss: 0.5431\n",
            "Validation Loss: 0.5263464450836182\n",
            "Validation Accuracy: 0.9317498207092285\n"
          ]
        }
      ]
    },
    {
      "cell_type": "code",
      "source": [
        "# Plot Training History\n",
        "plt.plot(history.history['accuracy'], label='Training Accuracy')\n",
        "plt.plot(history.history['val_accuracy'], label='Validation Accuracy')\n",
        "plt.legend()\n",
        "plt.title('Accuracy over Epochs')\n",
        "plt.xlabel('Epoch')\n",
        "plt.ylabel('Accuracy')\n",
        "plt.show()\n",
        "\n",
        "plt.plot(history.history['loss'], label='Training Loss')\n",
        "plt.plot(history.history['val_loss'], label='Validation Loss')\n",
        "plt.legend()\n",
        "plt.title('Loss over Epochs')\n",
        "plt.xlabel('Epoch')\n",
        "plt.ylabel('Loss')\n",
        "plt.show()"
      ],
      "metadata": {
        "colab": {
          "base_uri": "https://localhost:8080/",
          "height": 927
        },
        "id": "NmCdPv3hB0EZ",
        "outputId": "1dbe64a6-7bcf-4ef0-a921-dd07fffc4f43"
      },
      "execution_count": 71,
      "outputs": [
        {
          "output_type": "display_data",
          "data": {
            "text/plain": [
              "<Figure size 640x480 with 1 Axes>"
            ],
            "image/png": "[encoded data removed]"
          },
          "metadata": {}
        },
        {
          "output_type": "display_data",
          "data": {
            "text/plain": [
              "<Figure size 640x480 with 1 Axes>"
            ],
            "image/png": "[encoded data removed]"
          },
          "metadata": {}
        }
      ]
    },
    {
      "cell_type": "markdown",
      "source": [
        "테스트 시작"
      ],
      "metadata": {
        "id": "_4QWYsWkfIVK"
      }
    },
    {
      "cell_type": "code",
      "source": [
        "# Preprocess Input\n",
        "def preprocess_input(user_input):\n",
        "    processed_input = preprocess_sentence(user_input)\n",
        "    tokenized_input = [START_TOKEN[0]] + tokenizer.encode(processed_input) + [END_TOKEN[0]]\n",
        "    return pad_sequences([tokenized_input], maxlen=max_seq_len, padding='post')\n",
        "\n",
        "# def preprocess_input(user_input):\n",
        "#     # Step 1: Preprocess user input (cleaning)\n",
        "#     processed_input = preprocess_sentence(user_input)\n",
        "#     print(f\"Processed input: {processed_input}\")  # Debugging\n",
        "\n",
        "#     # Step 2: Tokenize input\n",
        "#     tokenized_input = tokenizer.encode(processed_input)\n",
        "#     print(f\"Tokenized input: {tokenized_input}\")  # Debugging\n",
        "\n",
        "#     # Step 3: Add START and END tokens\n",
        "#     tokenized_input = [START_TOKEN[0]] + tokenized_input + [END_TOKEN[0]]\n",
        "#     print(f\"Tokenized input with START/END tokens: {tokenized_input}\")  # Debugging\n",
        "\n",
        "#     # Step 4: Pad the input\n",
        "#     padded_input = pad_sequences([tokenized_input], maxlen=max_seq_len, padding='post')\n",
        "#     print(f\"Padded input: {padded_input}\")  # Debugging\n",
        "\n",
        "#     return padded_input\n",
        "\n"
      ],
      "metadata": {
        "id": "D6GOXrNdS8_T"
      },
      "execution_count": 138,
      "outputs": []
    },
    {
      "cell_type": "code",
      "source": [
        "# Generate Response\n",
        "def generate_response(input_seq):\n",
        "    decoder_input = np.zeros((1, max_seq_len))\n",
        "    decoder_input[0, 0] = START_TOKEN[0]\n",
        "    response_tokens = []\n",
        "    for i in range(1, max_seq_len):\n",
        "        predictions = model.predict([input_seq, decoder_input], verbose=0)\n",
        "        predicted_token = np.argmax(predictions[0, i - 1])\n",
        "        if predicted_token == END_TOKEN[0]:\n",
        "            break\n",
        "        decoder_input[0, i] = predicted_token\n",
        "        response_tokens.append(predicted_token)\n",
        "    return tokenizer.decode([int(token) for token in response_tokens if token != 0])\n",
        "\n",
        "# def generate_response(input_seq):\n",
        "#     decoder_input = np.zeros((1, max_seq_len))\n",
        "#     decoder_input[0, 0] = START_TOKEN[0]\n",
        "\n",
        "#     response_tokens = []\n",
        "#     print(\"Generating response...\")\n",
        "\n",
        "#     for i in range(1, max_seq_len):\n",
        "#         predictions = model.predict([input_seq, decoder_input], verbose=0)\n",
        "#         predicted_token = np.argmax(predictions[0, i - 1])\n",
        "\n",
        "#         # Debugging: Print token probabilities\n",
        "#         print(f\"Step {i}: Predicted token: {predicted_token}\")\n",
        "#         print(f\"Step {i}: Token probabilities: {predictions[0, i - 1]}\")\n",
        "\n",
        "#         if predicted_token == END_TOKEN[0]:\n",
        "#             print(\"END_TOKEN predicted. Stopping generation.\")\n",
        "#             break\n",
        "\n",
        "#         decoder_input[0, i] = predicted_token\n",
        "#         response_tokens.append(predicted_token)\n",
        "\n",
        "#     print(\"Response tokens:\", response_tokens)\n",
        "#     response_text = tokenizer.decode([int(token) for token in response_tokens if token != 0])\n",
        "#     print(\"Decoded response:\", response_text)\n",
        "#     return response_text"
      ],
      "metadata": {
        "id": "ZbWyfvyooM9h"
      },
      "execution_count": null,
      "outputs": []
    },
    {
      "cell_type": "code",
      "source": [
        "# Chat Function\n",
        "def chat():\n",
        "    print(\"Chatbot is ready! Type 'exit' to end the conversation.\")\n",
        "    while True:\n",
        "        user_input = input(\"You: \")\n",
        "        if user_input.lower() == 'exit':\n",
        "            print(\"Chatbot: Goodbye!\")\n",
        "            break\n",
        "        input_seq = preprocess_input(user_input)\n",
        "        response = generate_response(input_seq)\n",
        "        print(f\"Chatbot: {response}\")\n",
        "\n",
        "# def chat():\n",
        "#     print(\"Chatbot is ready! Type 'exit' to end the conversation.\")\n",
        "#     while True:\n",
        "#         try:\n",
        "#             user_input = input(\"You: \")\n",
        "#             if user_input.lower() == 'exit':\n",
        "#                 print(\"Chatbot: Goodbye!\")\n",
        "#                 break\n",
        "\n",
        "#             # Preprocess user input and generate response\n",
        "#             input_seq = preprocess_input(user_input)\n",
        "#             response = generate_response(input_seq)\n",
        "#             print(f\"Chatbot: {response}\")\n",
        "#         except KeyboardInterrupt:\n",
        "#             print(\"\\nChatbot: Interrupted by user. Exiting...\")\n",
        "#             break"
      ],
      "metadata": {
        "id": "XsH6VRcUoN3-"
      },
      "execution_count": null,
      "outputs": []
    },
    {
      "cell_type": "code",
      "source": [
        "chat()"
      ],
      "metadata": {
        "id": "lL_-V9yPfO9C"
      },
      "execution_count": null,
      "outputs": []
    },
    {
      "cell_type": "markdown",
      "source": [
        "Response tokens값을 계속 0으로 가져오는 문제가 있어서 아래코드부터는 디버깅을 위한 코드였다."
      ],
      "metadata": {
        "id": "N1dmuFzkmVSx"
      }
    },
    {
      "cell_type": "markdown",
      "source": [
        "Questions에 답이 나오지 않고 있어서 문제를 해결해야함\n",
        "Reponse tokens에서부터 값이 0만 나오는 문제가 있음\n",
        "모델이 훈련이 잘못되서 결과값이 안나오는건지 원인을 파악해야함"
      ],
      "metadata": {
        "id": "6lMj7LaCKw8v"
      }
    },
    {
      "cell_type": "markdown",
      "source": [
        "문제는 모델을 훈련시키고 컴파일할때 output의 변수명을 잘못기입한것이 문제였음"
      ],
      "metadata": {
        "id": "_AL7s1-zmn-k"
      }
    },
    {
      "cell_type": "markdown",
      "source": [
        "디버깅"
      ],
      "metadata": {
        "id": "7GXPAcRlKvyv"
      }
    },
    {
      "cell_type": "code",
      "source": [
        "# print(f\"START_TOKEN: {START_TOKEN}, END_TOKEN: {END_TOKEN}\")"
      ],
      "metadata": {
        "colab": {
          "base_uri": "https://localhost:8080/"
        },
        "id": "MTr9Y0GnVNKr",
        "outputId": "b033dece-cc64-4cc6-f49b-8f7c04da9c00"
      },
      "execution_count": 133,
      "outputs": [
        {
          "output_type": "stream",
          "name": "stdout",
          "text": [
            "START_TOKEN: [8170], END_TOKEN: [8171]\n"
          ]
        }
      ]
    },
    {
      "cell_type": "code",
      "source": [
        "# sample_text = \"안녕하세요\"\n",
        "# tokenized = tokenizer.encode(sample_text)\n",
        "# print(\"Tokenized:\", tokenized)\n",
        "# print(\"Decoded:\", tokenizer.decode(tokenized))"
      ],
      "metadata": {
        "colab": {
          "base_uri": "https://localhost:8080/"
        },
        "id": "oUkORlfWPKdQ",
        "outputId": "3dc204ff-3a01-4e20-f5a8-f900b9479510"
      },
      "execution_count": 130,
      "outputs": [
        {
          "output_type": "stream",
          "name": "stdout",
          "text": [
            "Tokenized: [4154]\n",
            "Decoded: 안녕하세요\n"
          ]
        }
      ]
    },
    {
      "cell_type": "code",
      "source": [
        "# for i in range(5):  # Print the first 5 pairs\n",
        "#     print(f\"Question {i}: {questions[i]}\")\n",
        "#     print(f\"Answer {i}: {answers[i]}\")"
      ],
      "metadata": {
        "colab": {
          "base_uri": "https://localhost:8080/"
        },
        "id": "tFW94zNjVj4J",
        "outputId": "39e3f354-a05d-4ab9-8d98-2b1bff27359e"
      },
      "execution_count": 131,
      "outputs": [
        {
          "output_type": "stream",
          "name": "stdout",
          "text": [
            "Question 0: 12시 땡 !\n",
            "Answer 0: 하루가 또 가네요 .\n",
            "Question 1: 1지망 학교 떨어졌어\n",
            "Answer 1: 위로해 드립니다 .\n",
            "Question 2: 3박4일 놀러가고 싶다\n",
            "Answer 2: 여행은 언제나 좋죠 .\n",
            "Question 3: 3박4일 정도 놀러가고 싶다\n",
            "Answer 3: 여행은 언제나 좋죠 .\n",
            "Question 4: PPL 심하네\n",
            "Answer 4: 눈살이 찌푸려지죠 .\n"
          ]
        }
      ]
    },
    {
      "cell_type": "code",
      "source": [
        "# sample_train_input = input_train[0:1]\n",
        "# print(f\"Sample train input: {sample_train_input}\")\n",
        "# response = generate_response(sample_train_input)\n",
        "# print(f\"Response for training input: {response}\")"
      ],
      "metadata": {
        "colab": {
          "base_uri": "https://localhost:8080/"
        },
        "id": "e9pztvOeVrLS",
        "outputId": "d77d0b38-1463-4cd0-e1f3-c8142e72b902"
      },
      "execution_count": 132,
      "outputs": [
        {
          "output_type": "stream",
          "name": "stdout",
          "text": [
            "Sample train input: [[7909 4203 3055   41    0    0    0    0    0    0    0    0    0    0\n",
            "     0    0    0    0    0    0    0    0    0    0    0    0    0    0\n",
            "     0    0    0    0    0    0    0    0    0    0    0    0]]\n",
            "Generating response...\n",
            "Step 1: Predicted token: 0\n",
            "Step 1: Token probabilities: [9.9845761e-01 1.4569788e-04 5.1478420e-08 ... 6.7952227e-10 7.7711265e-10\n",
            " 6.2415251e-10]\n",
            "Step 2: Predicted token: 0\n",
            "Step 2: Token probabilities: [9.9984050e-01 2.0964080e-06 3.9336578e-09 ... 2.9637626e-10 3.3898787e-10\n",
            " 2.7957181e-10]\n",
            "Step 3: Predicted token: 0\n",
            "Step 3: Token probabilities: [9.9984026e-01 2.0881646e-06 3.9371550e-09 ... 2.9636205e-10 3.3942579e-10\n",
            " 2.7970615e-10]\n",
            "Step 4: Predicted token: 0\n",
            "Step 4: Token probabilities: [9.9984026e-01 2.0591931e-06 3.9559058e-09 ... 2.9659786e-10 3.4007119e-10\n",
            " 2.7983901e-10]\n",
            "Step 5: Predicted token: 0\n",
            "Step 5: Token probabilities: [9.9984169e-01 2.2051786e-06 4.3234407e-09 ... 3.0008018e-10 3.4306985e-10\n",
            " 2.8107619e-10]\n",
            "Step 6: Predicted token: 0\n",
            "Step 6: Token probabilities: [9.9984050e-01 2.0949449e-06 4.2398609e-09 ... 3.0045955e-10 3.4405306e-10\n",
            " 2.8142241e-10]\n",
            "Step 7: Predicted token: 0\n",
            "Step 7: Token probabilities: [9.9984002e-01 2.0420575e-06 4.1969344e-09 ... 3.0090558e-10 3.4484521e-10\n",
            " 2.8177569e-10]\n",
            "Step 8: Predicted token: 0\n",
            "Step 8: Token probabilities: [9.9984097e-01 2.1355561e-06 4.2660968e-09 ... 3.0096212e-10 3.4440051e-10\n",
            " 2.8166741e-10]\n",
            "Step 9: Predicted token: 0\n",
            "Step 9: Token probabilities: [9.9984169e-01 2.2306428e-06 4.3462101e-09 ... 3.0114436e-10 3.4411185e-10\n",
            " 2.8173799e-10]\n",
            "Step 10: Predicted token: 0\n",
            "Step 10: Token probabilities: [9.9984217e-01 2.2911440e-06 4.4058313e-09 ... 3.0126113e-10 3.4381747e-10\n",
            " 2.8174027e-10]\n",
            "Step 11: Predicted token: 0\n",
            "Step 11: Token probabilities: [9.9984241e-01 2.3152886e-06 4.4361634e-09 ... 3.0113137e-10 3.4332931e-10\n",
            " 2.8147554e-10]\n",
            "Step 12: Predicted token: 0\n",
            "Step 12: Token probabilities: [9.9984312e-01 2.4287508e-06 4.5326791e-09 ... 3.0086289e-10 3.4229450e-10\n",
            " 2.8101385e-10]\n",
            "Step 13: Predicted token: 0\n",
            "Step 13: Token probabilities: [9.9984670e-01 3.9636866e-06 5.6979315e-09 ... 3.0601019e-10 3.4287728e-10\n",
            " 2.8481373e-10]\n",
            "Step 14: Predicted token: 0\n",
            "Step 14: Token probabilities: [9.9984694e-01 4.7168628e-06 6.2328676e-09 ... 3.0952058e-10 3.4510092e-10\n",
            " 2.8773225e-10]\n",
            "Step 15: Predicted token: 0\n",
            "Step 15: Token probabilities: [9.9984407e-01 2.6533519e-06 4.7102704e-09 ... 3.0135136e-10 3.4193204e-10\n",
            " 2.8131980e-10]\n",
            "Step 16: Predicted token: 0\n",
            "Step 16: Token probabilities: [9.9984169e-01 2.2658201e-06 4.4119934e-09 ... 3.0149377e-10 3.4381598e-10\n",
            " 2.8170843e-10]\n",
            "Step 17: Predicted token: 0\n",
            "Step 17: Token probabilities: [9.9984145e-01 2.2143875e-06 4.3762385e-09 ... 3.0227623e-10 3.4494832e-10\n",
            " 2.8252520e-10]\n",
            "Step 18: Predicted token: 0\n",
            "Step 18: Token probabilities: [9.9984121e-01 2.1793596e-06 4.3533599e-09 ... 3.0307226e-10 3.4596953e-10\n",
            " 2.8327407e-10]\n",
            "Step 19: Predicted token: 0\n",
            "Step 19: Token probabilities: [9.9984097e-01 2.1555038e-06 4.3328399e-09 ... 3.0353442e-10 3.4655528e-10\n",
            " 2.8364491e-10]\n",
            "Step 20: Predicted token: 0\n",
            "Step 20: Token probabilities: [9.9984097e-01 2.1495835e-06 4.3214339e-09 ... 3.0354139e-10 3.4659428e-10\n",
            " 2.8359676e-10]\n",
            "Step 21: Predicted token: 0\n",
            "Step 21: Token probabilities: [9.9984097e-01 2.1555634e-06 4.3187063e-09 ... 3.0321384e-10 3.4625333e-10\n",
            " 2.8331884e-10]\n",
            "Step 22: Predicted token: 0\n",
            "Step 22: Token probabilities: [9.9984097e-01 2.1571964e-06 4.3158570e-09 ... 3.0284164e-10 3.4589623e-10\n",
            " 2.8310224e-10]\n",
            "Step 23: Predicted token: 0\n",
            "Step 23: Token probabilities: [9.9984074e-01 2.1424812e-06 4.3041091e-09 ... 3.0267755e-10 3.4582026e-10\n",
            " 2.8311783e-10]\n",
            "Step 24: Predicted token: 0\n",
            "Step 24: Token probabilities: [9.9984050e-01 2.1150095e-06 4.2837884e-09 ... 3.0278141e-10 3.4608283e-10\n",
            " 2.8333116e-10]\n",
            "Step 25: Predicted token: 0\n",
            "Step 25: Token probabilities: [9.9984074e-01 2.0891634e-06 4.2631756e-09 ... 3.0301606e-10 3.4649503e-10\n",
            " 2.8355884e-10]\n",
            "Step 26: Predicted token: 0\n",
            "Step 26: Token probabilities: [9.9984050e-01 2.0765397e-06 4.2509303e-09 ... 3.0318997e-10 3.4681633e-10\n",
            " 2.8365560e-10]\n",
            "Step 27: Predicted token: 0\n",
            "Step 27: Token probabilities: [9.9984050e-01 2.0779739e-06 4.2501194e-09 ... 3.0324435e-10 3.4695791e-10\n",
            " 2.8365019e-10]\n",
            "Step 28: Predicted token: 0\n",
            "Step 28: Token probabilities: [9.9984074e-01 2.0844332e-06 4.2565618e-09 ... 3.0329475e-10 3.4703937e-10\n",
            " 2.8372274e-10]\n",
            "Step 29: Predicted token: 0\n",
            "Step 29: Token probabilities: [9.9984074e-01 2.0850691e-06 4.2623221e-09 ... 3.0350772e-10 3.4725126e-10\n",
            " 2.8402650e-10]\n",
            "Step 30: Predicted token: 0\n",
            "Step 30: Token probabilities: [9.9984050e-01 2.0779919e-06 4.2633213e-09 ... 3.0390965e-10 3.4763489e-10\n",
            " 2.8451169e-10]\n",
            "Step 31: Predicted token: 0\n",
            "Step 31: Token probabilities: [9.9984026e-01 2.0714499e-06 4.2623038e-09 ... 3.0435685e-10 3.4805014e-10\n",
            " 2.8494937e-10]\n",
            "Step 32: Predicted token: 0\n",
            "Step 32: Token probabilities: [9.9984026e-01 2.0742000e-06 4.2645727e-09 ... 3.0460368e-10 3.4825065e-10\n",
            " 2.8508038e-10]\n",
            "Step 33: Predicted token: 0\n",
            "Step 33: Token probabilities: [9.9984050e-01 2.0870582e-06 4.2726498e-09 ... 3.0450498e-10 3.4808073e-10\n",
            " 2.8481303e-10]\n",
            "Step 34: Predicted token: 0\n",
            "Step 34: Token probabilities: [9.9984050e-01 2.1013179e-06 4.2834287e-09 ... 3.0418512e-10 3.4768063e-10\n",
            " 2.8436523e-10]\n",
            "Step 35: Predicted token: 0\n",
            "Step 35: Token probabilities: [9.9984074e-01 2.1048102e-06 4.2899218e-09 ... 3.0394279e-10 3.4737910e-10\n",
            " 2.8408936e-10]\n",
            "Step 36: Predicted token: 0\n",
            "Step 36: Token probabilities: [9.9984050e-01 2.0932673e-06 4.2875326e-09 ... 3.0400824e-10 3.4743336e-10\n",
            " 2.8420363e-10]\n",
            "Step 37: Predicted token: 0\n",
            "Step 37: Token probabilities: [9.9984026e-01 2.0751120e-06 4.2783985e-09 ... 3.0436903e-10 3.4782846e-10\n",
            " 2.8463323e-10]\n",
            "Step 38: Predicted token: 0\n",
            "Step 38: Token probabilities: [9.9984026e-01 2.0629845e-06 4.2689181e-09 ... 3.0479488e-10 3.4832107e-10\n",
            " 2.8509395e-10]\n",
            "Step 39: Predicted token: 0\n",
            "Step 39: Token probabilities: [9.9984026e-01 2.0632601e-06 4.2630597e-09 ... 3.0496525e-10 3.4855235e-10\n",
            " 2.8526748e-10]\n",
            "Response tokens: [0, 0, 0, 0, 0, 0, 0, 0, 0, 0, 0, 0, 0, 0, 0, 0, 0, 0, 0, 0, 0, 0, 0, 0, 0, 0, 0, 0, 0, 0, 0, 0, 0, 0, 0, 0, 0, 0, 0]\n",
            "Decoded response: \n",
            "Response for training input: \n"
          ]
        }
      ]
    },
    {
      "cell_type": "code",
      "source": [
        "# print(history.history)"
      ],
      "metadata": {
        "id": "z5zqNHgxKuMI"
      },
      "execution_count": null,
      "outputs": []
    },
    {
      "cell_type": "markdown",
      "source": [
        "accuracy와 loss의 결과값을 확인해보니 이상 없"
      ],
      "metadata": {
        "id": "b898z9wrUUns"
      }
    },
    {
      "cell_type": "code",
      "source": [
        "# Test the model with a sample from validation data\n",
        "sample_input = input_val[0:1]\n",
        "print(f\"Validation input sequence: {sample_input}\")\n",
        "response = generate_response(sample_input)\n",
        "print(f\"Generated response for validation input: {response}\")\n"
      ],
      "metadata": {
        "colab": {
          "base_uri": "https://localhost:8080/",
          "height": 599
        },
        "id": "svEI0P8TQ_YI",
        "outputId": "02197291-37fe-4de9-f716-b52071488221"
      },
      "execution_count": 105,
      "outputs": [
        {
          "output_type": "stream",
          "name": "stdout",
          "text": [
            "Validation input sequence: [[2008 4213  962    0    0    0    0    0    0    0    0    0    0    0\n",
            "     0    0    0    0    0    0    0    0    0    0    0    0    0    0\n",
            "     0    0    0    0    0    0    0    0    0    0    0    0]]\n",
            "Generating response...\n",
            "\u001b[1m1/1\u001b[0m \u001b[32m━━━━━━━━━━━━━━━━━━━━\u001b[0m\u001b[37m\u001b[0m \u001b[1m0s\u001b[0m 157ms/step\n",
            "\u001b[1m1/1\u001b[0m \u001b[32m━━━━━━━━━━━━━━━━━━━━\u001b[0m\u001b[37m\u001b[0m \u001b[1m0s\u001b[0m 123ms/step\n",
            "\u001b[1m1/1\u001b[0m \u001b[32m━━━━━━━━━━━━━━━━━━━━\u001b[0m\u001b[37m\u001b[0m \u001b[1m0s\u001b[0m 69ms/step\n",
            "\u001b[1m1/1\u001b[0m \u001b[32m━━━━━━━━━━━━━━━━━━━━\u001b[0m\u001b[37m\u001b[0m \u001b[1m0s\u001b[0m 64ms/step\n",
            "\u001b[1m1/1\u001b[0m \u001b[32m━━━━━━━━━━━━━━━━━━━━\u001b[0m\u001b[37m\u001b[0m \u001b[1m0s\u001b[0m 75ms/step\n",
            "\u001b[1m1/1\u001b[0m \u001b[32m━━━━━━━━━━━━━━━━━━━━\u001b[0m\u001b[37m\u001b[0m \u001b[1m0s\u001b[0m 95ms/step\n",
            "\u001b[1m1/1\u001b[0m \u001b[32m━━━━━━━━━━━━━━━━━━━━\u001b[0m\u001b[37m\u001b[0m \u001b[1m0s\u001b[0m 109ms/step\n",
            "\u001b[1m1/1\u001b[0m \u001b[32m━━━━━━━━━━━━━━━━━━━━\u001b[0m\u001b[37m\u001b[0m \u001b[1m0s\u001b[0m 59ms/step\n",
            "\u001b[1m1/1\u001b[0m \u001b[32m━━━━━━━━━━━━━━━━━━━━\u001b[0m\u001b[37m\u001b[0m \u001b[1m0s\u001b[0m 51ms/step\n",
            "\u001b[1m1/1\u001b[0m \u001b[32m━━━━━━━━━━━━━━━━━━━━\u001b[0m\u001b[37m\u001b[0m \u001b[1m0s\u001b[0m 105ms/step\n",
            "\u001b[1m1/1\u001b[0m \u001b[32m━━━━━━━━━━━━━━━━━━━━\u001b[0m\u001b[37m\u001b[0m \u001b[1m0s\u001b[0m 58ms/step\n"
          ]
        },
        {
          "output_type": "error",
          "ename": "KeyboardInterrupt",
          "evalue": "",
          "traceback": [
            "\u001b[0;31m---------------------------------------------------------------------------\u001b[0m",
            "\u001b[0;31mKeyboardInterrupt\u001b[0m                         Traceback (most recent call last)",
            "\u001b[0;32m<ipython-input-105-2c3c1e0ffb9b>\u001b[0m in \u001b[0;36m<cell line: 4>\u001b[0;34m()\u001b[0m\n\u001b[1;32m      2\u001b[0m \u001b[0msample_input\u001b[0m \u001b[0;34m=\u001b[0m \u001b[0minput_val\u001b[0m\u001b[0;34m[\u001b[0m\u001b[0;36m0\u001b[0m\u001b[0;34m:\u001b[0m\u001b[0;36m1\u001b[0m\u001b[0;34m]\u001b[0m\u001b[0;34m\u001b[0m\u001b[0;34m\u001b[0m\u001b[0m\n\u001b[1;32m      3\u001b[0m \u001b[0mprint\u001b[0m\u001b[0;34m(\u001b[0m\u001b[0;34mf\"Validation input sequence: {sample_input}\"\u001b[0m\u001b[0;34m)\u001b[0m\u001b[0;34m\u001b[0m\u001b[0;34m\u001b[0m\u001b[0m\n\u001b[0;32m----> 4\u001b[0;31m \u001b[0mresponse\u001b[0m \u001b[0;34m=\u001b[0m \u001b[0mgenerate_response\u001b[0m\u001b[0;34m(\u001b[0m\u001b[0msample_input\u001b[0m\u001b[0;34m)\u001b[0m\u001b[0;34m\u001b[0m\u001b[0;34m\u001b[0m\u001b[0m\n\u001b[0m\u001b[1;32m      5\u001b[0m \u001b[0mprint\u001b[0m\u001b[0;34m(\u001b[0m\u001b[0;34mf\"Generated response for validation input: {response}\"\u001b[0m\u001b[0;34m)\u001b[0m\u001b[0;34m\u001b[0m\u001b[0;34m\u001b[0m\u001b[0m\n",
            "\u001b[0;32m<ipython-input-100-cf98f7fd68f6>\u001b[0m in \u001b[0;36mgenerate_response\u001b[0;34m(input_seq)\u001b[0m\n\u001b[1;32m     27\u001b[0m \u001b[0;34m\u001b[0m\u001b[0m\n\u001b[1;32m     28\u001b[0m     \u001b[0;32mfor\u001b[0m \u001b[0mi\u001b[0m \u001b[0;32min\u001b[0m \u001b[0mrange\u001b[0m\u001b[0;34m(\u001b[0m\u001b[0;36m1\u001b[0m\u001b[0;34m,\u001b[0m \u001b[0mmax_seq_len\u001b[0m\u001b[0;34m)\u001b[0m\u001b[0;34m:\u001b[0m\u001b[0;34m\u001b[0m\u001b[0;34m\u001b[0m\u001b[0m\n\u001b[0;32m---> 29\u001b[0;31m         \u001b[0mpredictions\u001b[0m \u001b[0;34m=\u001b[0m \u001b[0mmodel\u001b[0m\u001b[0;34m.\u001b[0m\u001b[0mpredict\u001b[0m\u001b[0;34m(\u001b[0m\u001b[0;34m[\u001b[0m\u001b[0minput_seq\u001b[0m\u001b[0;34m,\u001b[0m \u001b[0mdecoder_input\u001b[0m\u001b[0;34m]\u001b[0m\u001b[0;34m)\u001b[0m\u001b[0;34m\u001b[0m\u001b[0;34m\u001b[0m\u001b[0m\n\u001b[0m\u001b[1;32m     30\u001b[0m         \u001b[0mpredicted_token\u001b[0m \u001b[0;34m=\u001b[0m \u001b[0mnp\u001b[0m\u001b[0;34m.\u001b[0m\u001b[0margmax\u001b[0m\u001b[0;34m(\u001b[0m\u001b[0mpredictions\u001b[0m\u001b[0;34m[\u001b[0m\u001b[0;36m0\u001b[0m\u001b[0;34m,\u001b[0m \u001b[0mi\u001b[0m \u001b[0;34m-\u001b[0m \u001b[0;36m1\u001b[0m\u001b[0;34m]\u001b[0m\u001b[0;34m)\u001b[0m\u001b[0;34m\u001b[0m\u001b[0;34m\u001b[0m\u001b[0m\n\u001b[1;32m     31\u001b[0m \u001b[0;34m\u001b[0m\u001b[0m\n",
            "\u001b[0;32m/usr/local/lib/python3.10/dist-packages/keras/src/utils/traceback_utils.py\u001b[0m in \u001b[0;36merror_handler\u001b[0;34m(*args, **kwargs)\u001b[0m\n\u001b[1;32m    115\u001b[0m         \u001b[0mfiltered_tb\u001b[0m \u001b[0;34m=\u001b[0m \u001b[0;32mNone\u001b[0m\u001b[0;34m\u001b[0m\u001b[0;34m\u001b[0m\u001b[0m\n\u001b[1;32m    116\u001b[0m         \u001b[0;32mtry\u001b[0m\u001b[0;34m:\u001b[0m\u001b[0;34m\u001b[0m\u001b[0;34m\u001b[0m\u001b[0m\n\u001b[0;32m--> 117\u001b[0;31m             \u001b[0;32mreturn\u001b[0m \u001b[0mfn\u001b[0m\u001b[0;34m(\u001b[0m\u001b[0;34m*\u001b[0m\u001b[0margs\u001b[0m\u001b[0;34m,\u001b[0m \u001b[0;34m**\u001b[0m\u001b[0mkwargs\u001b[0m\u001b[0;34m)\u001b[0m\u001b[0;34m\u001b[0m\u001b[0;34m\u001b[0m\u001b[0m\n\u001b[0m\u001b[1;32m    118\u001b[0m         \u001b[0;32mexcept\u001b[0m \u001b[0mException\u001b[0m \u001b[0;32mas\u001b[0m \u001b[0me\u001b[0m\u001b[0;34m:\u001b[0m\u001b[0;34m\u001b[0m\u001b[0;34m\u001b[0m\u001b[0m\n\u001b[1;32m    119\u001b[0m             \u001b[0mfiltered_tb\u001b[0m \u001b[0;34m=\u001b[0m \u001b[0m_process_traceback_frames\u001b[0m\u001b[0;34m(\u001b[0m\u001b[0me\u001b[0m\u001b[0;34m.\u001b[0m\u001b[0m__traceback__\u001b[0m\u001b[0;34m)\u001b[0m\u001b[0;34m\u001b[0m\u001b[0;34m\u001b[0m\u001b[0m\n",
            "\u001b[0;32m/usr/local/lib/python3.10/dist-packages/keras/src/backend/tensorflow/trainer.py\u001b[0m in \u001b[0;36mpredict\u001b[0;34m(self, x, batch_size, verbose, steps, callbacks)\u001b[0m\n\u001b[1;32m    510\u001b[0m                 \u001b[0mcallbacks\u001b[0m\u001b[0;34m.\u001b[0m\u001b[0mon_predict_batch_begin\u001b[0m\u001b[0;34m(\u001b[0m\u001b[0mstep\u001b[0m\u001b[0;34m)\u001b[0m\u001b[0;34m\u001b[0m\u001b[0;34m\u001b[0m\u001b[0m\n\u001b[1;32m    511\u001b[0m                 \u001b[0mdata\u001b[0m \u001b[0;34m=\u001b[0m \u001b[0mget_data\u001b[0m\u001b[0;34m(\u001b[0m\u001b[0miterator\u001b[0m\u001b[0;34m)\u001b[0m\u001b[0;34m\u001b[0m\u001b[0;34m\u001b[0m\u001b[0m\n\u001b[0;32m--> 512\u001b[0;31m                 \u001b[0mbatch_outputs\u001b[0m \u001b[0;34m=\u001b[0m \u001b[0mself\u001b[0m\u001b[0;34m.\u001b[0m\u001b[0mpredict_function\u001b[0m\u001b[0;34m(\u001b[0m\u001b[0mdata\u001b[0m\u001b[0;34m)\u001b[0m\u001b[0;34m\u001b[0m\u001b[0;34m\u001b[0m\u001b[0m\n\u001b[0m\u001b[1;32m    513\u001b[0m                 \u001b[0moutputs\u001b[0m \u001b[0;34m=\u001b[0m \u001b[0mappend_to_outputs\u001b[0m\u001b[0;34m(\u001b[0m\u001b[0mbatch_outputs\u001b[0m\u001b[0;34m,\u001b[0m \u001b[0moutputs\u001b[0m\u001b[0;34m)\u001b[0m\u001b[0;34m\u001b[0m\u001b[0;34m\u001b[0m\u001b[0m\n\u001b[1;32m    514\u001b[0m                 \u001b[0mcallbacks\u001b[0m\u001b[0;34m.\u001b[0m\u001b[0mon_predict_batch_end\u001b[0m\u001b[0;34m(\u001b[0m\u001b[0mstep\u001b[0m\u001b[0;34m,\u001b[0m \u001b[0;34m{\u001b[0m\u001b[0;34m\"outputs\"\u001b[0m\u001b[0;34m:\u001b[0m \u001b[0mbatch_outputs\u001b[0m\u001b[0;34m}\u001b[0m\u001b[0;34m)\u001b[0m\u001b[0;34m\u001b[0m\u001b[0;34m\u001b[0m\u001b[0m\n",
            "\u001b[0;32m/usr/local/lib/python3.10/dist-packages/tensorflow/python/util/traceback_utils.py\u001b[0m in \u001b[0;36merror_handler\u001b[0;34m(*args, **kwargs)\u001b[0m\n\u001b[1;32m    148\u001b[0m     \u001b[0mfiltered_tb\u001b[0m \u001b[0;34m=\u001b[0m \u001b[0;32mNone\u001b[0m\u001b[0;34m\u001b[0m\u001b[0;34m\u001b[0m\u001b[0m\n\u001b[1;32m    149\u001b[0m     \u001b[0;32mtry\u001b[0m\u001b[0;34m:\u001b[0m\u001b[0;34m\u001b[0m\u001b[0;34m\u001b[0m\u001b[0m\n\u001b[0;32m--> 150\u001b[0;31m       \u001b[0;32mreturn\u001b[0m \u001b[0mfn\u001b[0m\u001b[0;34m(\u001b[0m\u001b[0;34m*\u001b[0m\u001b[0margs\u001b[0m\u001b[0;34m,\u001b[0m \u001b[0;34m**\u001b[0m\u001b[0mkwargs\u001b[0m\u001b[0;34m)\u001b[0m\u001b[0;34m\u001b[0m\u001b[0;34m\u001b[0m\u001b[0m\n\u001b[0m\u001b[1;32m    151\u001b[0m     \u001b[0;32mexcept\u001b[0m \u001b[0mException\u001b[0m \u001b[0;32mas\u001b[0m \u001b[0me\u001b[0m\u001b[0;34m:\u001b[0m\u001b[0;34m\u001b[0m\u001b[0;34m\u001b[0m\u001b[0m\n\u001b[1;32m    152\u001b[0m       \u001b[0mfiltered_tb\u001b[0m \u001b[0;34m=\u001b[0m \u001b[0m_process_traceback_frames\u001b[0m\u001b[0;34m(\u001b[0m\u001b[0me\u001b[0m\u001b[0;34m.\u001b[0m\u001b[0m__traceback__\u001b[0m\u001b[0;34m)\u001b[0m\u001b[0;34m\u001b[0m\u001b[0;34m\u001b[0m\u001b[0m\n",
            "\u001b[0;32m/usr/local/lib/python3.10/dist-packages/tensorflow/python/eager/polymorphic_function/polymorphic_function.py\u001b[0m in \u001b[0;36m__call__\u001b[0;34m(self, *args, **kwds)\u001b[0m\n\u001b[1;32m    831\u001b[0m \u001b[0;34m\u001b[0m\u001b[0m\n\u001b[1;32m    832\u001b[0m       \u001b[0;32mwith\u001b[0m \u001b[0mOptionalXlaContext\u001b[0m\u001b[0;34m(\u001b[0m\u001b[0mself\u001b[0m\u001b[0;34m.\u001b[0m\u001b[0m_jit_compile\u001b[0m\u001b[0;34m)\u001b[0m\u001b[0;34m:\u001b[0m\u001b[0;34m\u001b[0m\u001b[0;34m\u001b[0m\u001b[0m\n\u001b[0;32m--> 833\u001b[0;31m         \u001b[0mresult\u001b[0m \u001b[0;34m=\u001b[0m \u001b[0mself\u001b[0m\u001b[0;34m.\u001b[0m\u001b[0m_call\u001b[0m\u001b[0;34m(\u001b[0m\u001b[0;34m*\u001b[0m\u001b[0margs\u001b[0m\u001b[0;34m,\u001b[0m \u001b[0;34m**\u001b[0m\u001b[0mkwds\u001b[0m\u001b[0;34m)\u001b[0m\u001b[0;34m\u001b[0m\u001b[0;34m\u001b[0m\u001b[0m\n\u001b[0m\u001b[1;32m    834\u001b[0m \u001b[0;34m\u001b[0m\u001b[0m\n\u001b[1;32m    835\u001b[0m       \u001b[0mnew_tracing_count\u001b[0m \u001b[0;34m=\u001b[0m \u001b[0mself\u001b[0m\u001b[0;34m.\u001b[0m\u001b[0mexperimental_get_tracing_count\u001b[0m\u001b[0;34m(\u001b[0m\u001b[0;34m)\u001b[0m\u001b[0;34m\u001b[0m\u001b[0;34m\u001b[0m\u001b[0m\n",
            "\u001b[0;32m/usr/local/lib/python3.10/dist-packages/tensorflow/python/eager/polymorphic_function/polymorphic_function.py\u001b[0m in \u001b[0;36m_call\u001b[0;34m(self, *args, **kwds)\u001b[0m\n\u001b[1;32m    876\u001b[0m       \u001b[0;31m# In this case we have not created variables on the first call. So we can\u001b[0m\u001b[0;34m\u001b[0m\u001b[0;34m\u001b[0m\u001b[0m\n\u001b[1;32m    877\u001b[0m       \u001b[0;31m# run the first trace but we should fail if variables are created.\u001b[0m\u001b[0;34m\u001b[0m\u001b[0;34m\u001b[0m\u001b[0m\n\u001b[0;32m--> 878\u001b[0;31m       results = tracing_compilation.call_function(\n\u001b[0m\u001b[1;32m    879\u001b[0m           \u001b[0margs\u001b[0m\u001b[0;34m,\u001b[0m \u001b[0mkwds\u001b[0m\u001b[0;34m,\u001b[0m \u001b[0mself\u001b[0m\u001b[0;34m.\u001b[0m\u001b[0m_variable_creation_config\u001b[0m\u001b[0;34m\u001b[0m\u001b[0;34m\u001b[0m\u001b[0m\n\u001b[1;32m    880\u001b[0m       )\n",
            "\u001b[0;32m/usr/local/lib/python3.10/dist-packages/tensorflow/python/eager/polymorphic_function/tracing_compilation.py\u001b[0m in \u001b[0;36mcall_function\u001b[0;34m(args, kwargs, tracing_options)\u001b[0m\n\u001b[1;32m    137\u001b[0m   \u001b[0mbound_args\u001b[0m \u001b[0;34m=\u001b[0m \u001b[0mfunction\u001b[0m\u001b[0;34m.\u001b[0m\u001b[0mfunction_type\u001b[0m\u001b[0;34m.\u001b[0m\u001b[0mbind\u001b[0m\u001b[0;34m(\u001b[0m\u001b[0;34m*\u001b[0m\u001b[0margs\u001b[0m\u001b[0;34m,\u001b[0m \u001b[0;34m**\u001b[0m\u001b[0mkwargs\u001b[0m\u001b[0;34m)\u001b[0m\u001b[0;34m\u001b[0m\u001b[0;34m\u001b[0m\u001b[0m\n\u001b[1;32m    138\u001b[0m   \u001b[0mflat_inputs\u001b[0m \u001b[0;34m=\u001b[0m \u001b[0mfunction\u001b[0m\u001b[0;34m.\u001b[0m\u001b[0mfunction_type\u001b[0m\u001b[0;34m.\u001b[0m\u001b[0munpack_inputs\u001b[0m\u001b[0;34m(\u001b[0m\u001b[0mbound_args\u001b[0m\u001b[0;34m)\u001b[0m\u001b[0;34m\u001b[0m\u001b[0;34m\u001b[0m\u001b[0m\n\u001b[0;32m--> 139\u001b[0;31m   return function._call_flat(  # pylint: disable=protected-access\n\u001b[0m\u001b[1;32m    140\u001b[0m       \u001b[0mflat_inputs\u001b[0m\u001b[0;34m,\u001b[0m \u001b[0mcaptured_inputs\u001b[0m\u001b[0;34m=\u001b[0m\u001b[0mfunction\u001b[0m\u001b[0;34m.\u001b[0m\u001b[0mcaptured_inputs\u001b[0m\u001b[0;34m\u001b[0m\u001b[0;34m\u001b[0m\u001b[0m\n\u001b[1;32m    141\u001b[0m   )\n",
            "\u001b[0;32m/usr/local/lib/python3.10/dist-packages/tensorflow/python/eager/polymorphic_function/concrete_function.py\u001b[0m in \u001b[0;36m_call_flat\u001b[0;34m(self, tensor_inputs, captured_inputs)\u001b[0m\n\u001b[1;32m   1320\u001b[0m         and executing_eagerly):\n\u001b[1;32m   1321\u001b[0m       \u001b[0;31m# No tape is watching; skip to running the function.\u001b[0m\u001b[0;34m\u001b[0m\u001b[0;34m\u001b[0m\u001b[0m\n\u001b[0;32m-> 1322\u001b[0;31m       \u001b[0;32mreturn\u001b[0m \u001b[0mself\u001b[0m\u001b[0;34m.\u001b[0m\u001b[0m_inference_function\u001b[0m\u001b[0;34m.\u001b[0m\u001b[0mcall_preflattened\u001b[0m\u001b[0;34m(\u001b[0m\u001b[0margs\u001b[0m\u001b[0;34m)\u001b[0m\u001b[0;34m\u001b[0m\u001b[0;34m\u001b[0m\u001b[0m\n\u001b[0m\u001b[1;32m   1323\u001b[0m     forward_backward = self._select_forward_and_backward_functions(\n\u001b[1;32m   1324\u001b[0m         \u001b[0margs\u001b[0m\u001b[0;34m,\u001b[0m\u001b[0;34m\u001b[0m\u001b[0;34m\u001b[0m\u001b[0m\n",
            "\u001b[0;32m/usr/local/lib/python3.10/dist-packages/tensorflow/python/eager/polymorphic_function/atomic_function.py\u001b[0m in \u001b[0;36mcall_preflattened\u001b[0;34m(self, args)\u001b[0m\n\u001b[1;32m    214\u001b[0m   \u001b[0;32mdef\u001b[0m \u001b[0mcall_preflattened\u001b[0m\u001b[0;34m(\u001b[0m\u001b[0mself\u001b[0m\u001b[0;34m,\u001b[0m \u001b[0margs\u001b[0m\u001b[0;34m:\u001b[0m \u001b[0mSequence\u001b[0m\u001b[0;34m[\u001b[0m\u001b[0mcore\u001b[0m\u001b[0;34m.\u001b[0m\u001b[0mTensor\u001b[0m\u001b[0;34m]\u001b[0m\u001b[0;34m)\u001b[0m \u001b[0;34m->\u001b[0m \u001b[0mAny\u001b[0m\u001b[0;34m:\u001b[0m\u001b[0;34m\u001b[0m\u001b[0;34m\u001b[0m\u001b[0m\n\u001b[1;32m    215\u001b[0m     \u001b[0;34m\"\"\"Calls with flattened tensor inputs and returns the structured output.\"\"\"\u001b[0m\u001b[0;34m\u001b[0m\u001b[0;34m\u001b[0m\u001b[0m\n\u001b[0;32m--> 216\u001b[0;31m     \u001b[0mflat_outputs\u001b[0m \u001b[0;34m=\u001b[0m \u001b[0mself\u001b[0m\u001b[0;34m.\u001b[0m\u001b[0mcall_flat\u001b[0m\u001b[0;34m(\u001b[0m\u001b[0;34m*\u001b[0m\u001b[0margs\u001b[0m\u001b[0;34m)\u001b[0m\u001b[0;34m\u001b[0m\u001b[0;34m\u001b[0m\u001b[0m\n\u001b[0m\u001b[1;32m    217\u001b[0m     \u001b[0;32mreturn\u001b[0m \u001b[0mself\u001b[0m\u001b[0;34m.\u001b[0m\u001b[0mfunction_type\u001b[0m\u001b[0;34m.\u001b[0m\u001b[0mpack_output\u001b[0m\u001b[0;34m(\u001b[0m\u001b[0mflat_outputs\u001b[0m\u001b[0;34m)\u001b[0m\u001b[0;34m\u001b[0m\u001b[0;34m\u001b[0m\u001b[0m\n\u001b[1;32m    218\u001b[0m \u001b[0;34m\u001b[0m\u001b[0m\n",
            "\u001b[0;32m/usr/local/lib/python3.10/dist-packages/tensorflow/python/eager/polymorphic_function/atomic_function.py\u001b[0m in \u001b[0;36mcall_flat\u001b[0;34m(self, *args)\u001b[0m\n\u001b[1;32m    249\u001b[0m         \u001b[0;32mwith\u001b[0m \u001b[0mrecord\u001b[0m\u001b[0;34m.\u001b[0m\u001b[0mstop_recording\u001b[0m\u001b[0;34m(\u001b[0m\u001b[0;34m)\u001b[0m\u001b[0;34m:\u001b[0m\u001b[0;34m\u001b[0m\u001b[0;34m\u001b[0m\u001b[0m\n\u001b[1;32m    250\u001b[0m           \u001b[0;32mif\u001b[0m \u001b[0mself\u001b[0m\u001b[0;34m.\u001b[0m\u001b[0m_bound_context\u001b[0m\u001b[0;34m.\u001b[0m\u001b[0mexecuting_eagerly\u001b[0m\u001b[0;34m(\u001b[0m\u001b[0;34m)\u001b[0m\u001b[0;34m:\u001b[0m\u001b[0;34m\u001b[0m\u001b[0;34m\u001b[0m\u001b[0m\n\u001b[0;32m--> 251\u001b[0;31m             outputs = self._bound_context.call_function(\n\u001b[0m\u001b[1;32m    252\u001b[0m                 \u001b[0mself\u001b[0m\u001b[0;34m.\u001b[0m\u001b[0mname\u001b[0m\u001b[0;34m,\u001b[0m\u001b[0;34m\u001b[0m\u001b[0;34m\u001b[0m\u001b[0m\n\u001b[1;32m    253\u001b[0m                 \u001b[0mlist\u001b[0m\u001b[0;34m(\u001b[0m\u001b[0margs\u001b[0m\u001b[0;34m)\u001b[0m\u001b[0;34m,\u001b[0m\u001b[0;34m\u001b[0m\u001b[0;34m\u001b[0m\u001b[0m\n",
            "\u001b[0;32m/usr/local/lib/python3.10/dist-packages/tensorflow/python/eager/context.py\u001b[0m in \u001b[0;36mcall_function\u001b[0;34m(self, name, tensor_inputs, num_outputs)\u001b[0m\n\u001b[1;32m   1550\u001b[0m     \u001b[0mcancellation_context\u001b[0m \u001b[0;34m=\u001b[0m \u001b[0mcancellation\u001b[0m\u001b[0;34m.\u001b[0m\u001b[0mcontext\u001b[0m\u001b[0;34m(\u001b[0m\u001b[0;34m)\u001b[0m\u001b[0;34m\u001b[0m\u001b[0;34m\u001b[0m\u001b[0m\n\u001b[1;32m   1551\u001b[0m     \u001b[0;32mif\u001b[0m \u001b[0mcancellation_context\u001b[0m \u001b[0;32mis\u001b[0m \u001b[0;32mNone\u001b[0m\u001b[0;34m:\u001b[0m\u001b[0;34m\u001b[0m\u001b[0;34m\u001b[0m\u001b[0m\n\u001b[0;32m-> 1552\u001b[0;31m       outputs = execute.execute(\n\u001b[0m\u001b[1;32m   1553\u001b[0m           \u001b[0mname\u001b[0m\u001b[0;34m.\u001b[0m\u001b[0mdecode\u001b[0m\u001b[0;34m(\u001b[0m\u001b[0;34m\"utf-8\"\u001b[0m\u001b[0;34m)\u001b[0m\u001b[0;34m,\u001b[0m\u001b[0;34m\u001b[0m\u001b[0;34m\u001b[0m\u001b[0m\n\u001b[1;32m   1554\u001b[0m           \u001b[0mnum_outputs\u001b[0m\u001b[0;34m=\u001b[0m\u001b[0mnum_outputs\u001b[0m\u001b[0;34m,\u001b[0m\u001b[0;34m\u001b[0m\u001b[0;34m\u001b[0m\u001b[0m\n",
            "\u001b[0;32m/usr/local/lib/python3.10/dist-packages/tensorflow/python/eager/execute.py\u001b[0m in \u001b[0;36mquick_execute\u001b[0;34m(op_name, num_outputs, inputs, attrs, ctx, name)\u001b[0m\n\u001b[1;32m     51\u001b[0m   \u001b[0;32mtry\u001b[0m\u001b[0;34m:\u001b[0m\u001b[0;34m\u001b[0m\u001b[0;34m\u001b[0m\u001b[0m\n\u001b[1;32m     52\u001b[0m     \u001b[0mctx\u001b[0m\u001b[0;34m.\u001b[0m\u001b[0mensure_initialized\u001b[0m\u001b[0;34m(\u001b[0m\u001b[0;34m)\u001b[0m\u001b[0;34m\u001b[0m\u001b[0;34m\u001b[0m\u001b[0m\n\u001b[0;32m---> 53\u001b[0;31m     tensors = pywrap_tfe.TFE_Py_Execute(ctx._handle, device_name, op_name,\n\u001b[0m\u001b[1;32m     54\u001b[0m                                         inputs, attrs, num_outputs)\n\u001b[1;32m     55\u001b[0m   \u001b[0;32mexcept\u001b[0m \u001b[0mcore\u001b[0m\u001b[0;34m.\u001b[0m\u001b[0m_NotOkStatusException\u001b[0m \u001b[0;32mas\u001b[0m \u001b[0me\u001b[0m\u001b[0;34m:\u001b[0m\u001b[0;34m\u001b[0m\u001b[0;34m\u001b[0m\u001b[0m\n",
            "\u001b[0;31mKeyboardInterrupt\u001b[0m: "
          ]
        }
      ]
    },
    {
      "cell_type": "code",
      "source": [
        "sample_text = \"안녕하세요!\"\n",
        "processed_text = preprocess_sentence(sample_text)\n",
        "print(f\"Original: {sample_text}\")\n",
        "print(f\"Processed: {processed_text}\")"
      ],
      "metadata": {
        "colab": {
          "base_uri": "https://localhost:8080/"
        },
        "id": "jjrRWtVGRZB7",
        "outputId": "6758ae03-2575-4166-aaf7-831402f8d0a6"
      },
      "execution_count": 107,
      "outputs": [
        {
          "output_type": "stream",
          "name": "stdout",
          "text": [
            "Original: 안녕하세요!\n",
            "Processed: 안녕하세요 !\n"
          ]
        }
      ]
    },
    {
      "cell_type": "code",
      "source": [
        "print(f\"Sample training question: {questions[0]}\")\n",
        "processed_training_question = preprocess_sentence(questions[0])\n",
        "print(f\"Processed training question: {processed_training_question}\")"
      ],
      "metadata": {
        "colab": {
          "base_uri": "https://localhost:8080/"
        },
        "id": "XOWa-YHnR9xm",
        "outputId": "9b6bbcb3-13da-4744-8673-d00a55470f98"
      },
      "execution_count": 108,
      "outputs": [
        {
          "output_type": "stream",
          "name": "stdout",
          "text": [
            "Sample training question: 12시 땡 !\n",
            "Processed training question: 12시 땡 !\n"
          ]
        }
      ]
    },
    {
      "cell_type": "code",
      "source": [
        "tokenized_input = tokenizer.encode(processed_text)\n",
        "print(f\"Tokenized input: {tokenized_input}\")"
      ],
      "metadata": {
        "colab": {
          "base_uri": "https://localhost:8080/"
        },
        "id": "Dnro-1P2SDwZ",
        "outputId": "20c00f8f-e578-497c-842e-9d68baf4c62d"
      },
      "execution_count": 109,
      "outputs": [
        {
          "output_type": "stream",
          "name": "stdout",
          "text": [
            "Tokenized input: [4154, 41]\n"
          ]
        }
      ]
    },
    {
      "cell_type": "code",
      "source": [
        "sample_training_tokens = tokenizer.encode(processed_training_question)\n",
        "print(f\"Tokenized training question: {sample_training_tokens}\")"
      ],
      "metadata": {
        "colab": {
          "base_uri": "https://localhost:8080/"
        },
        "id": "sLEQUF8cSHTk",
        "outputId": "5e958230-67c4-4432-9bf2-357bffde0054"
      },
      "execution_count": 110,
      "outputs": [
        {
          "output_type": "stream",
          "name": "stdout",
          "text": [
            "Tokenized training question: [7909, 4203, 3055, 41]\n"
          ]
        }
      ]
    },
    {
      "cell_type": "code",
      "source": [
        "padded_input = pad_sequences([tokenized_input], maxlen=max_seq_len, padding='post')\n",
        "print(f\"Padded input: {padded_input}\")"
      ],
      "metadata": {
        "colab": {
          "base_uri": "https://localhost:8080/"
        },
        "id": "0cAfL-6iSMS8",
        "outputId": "6742d307-8faf-4e6d-c41d-4b446ee76d96"
      },
      "execution_count": 111,
      "outputs": [
        {
          "output_type": "stream",
          "name": "stdout",
          "text": [
            "Padded input: [[4154   41    0    0    0    0    0    0    0    0    0    0    0    0\n",
            "     0    0    0    0    0    0    0    0    0    0    0    0    0    0\n",
            "     0    0    0    0    0    0    0    0    0    0    0    0]]\n"
          ]
        }
      ]
    },
    {
      "cell_type": "code",
      "source": [
        "print(f\"First training input: {input_train[0]}\")"
      ],
      "metadata": {
        "colab": {
          "base_uri": "https://localhost:8080/"
        },
        "id": "CeVAIRvYSNl-",
        "outputId": "943eeed0-34b0-4570-9f91-841b72774146"
      },
      "execution_count": 112,
      "outputs": [
        {
          "output_type": "stream",
          "name": "stdout",
          "text": [
            "First training input: [7909 4203 3055   41    0    0    0    0    0    0    0    0    0    0\n",
            "    0    0    0    0    0    0    0    0    0    0    0    0    0    0\n",
            "    0    0    0    0    0    0    0    0    0    0    0    0]\n"
          ]
        }
      ]
    },
    {
      "cell_type": "code",
      "source": [
        "sample_input = \"안녕하세요!\"\n",
        "processed_sample = preprocess_input(sample_input)\n",
        "print(f\"Processed user input: {processed_sample}\")\n",
        "\n",
        "print(f\"First training input: {input_train[0]}\")"
      ],
      "metadata": {
        "colab": {
          "base_uri": "https://localhost:8080/"
        },
        "id": "NYzcX80VUvgs",
        "outputId": "8ddbe168-c1e6-4d78-d332-d4c13fc3e669"
      },
      "execution_count": 126,
      "outputs": [
        {
          "output_type": "stream",
          "name": "stdout",
          "text": [
            "Processed input: 안녕하세요 !\n",
            "Tokenized input: [4154, 41]\n",
            "Tokenized input with START/END tokens: [8170, 4154, 41, 8171]\n",
            "Padded input: [[8170 4154   41 8171    0    0    0    0    0    0    0    0    0    0\n",
            "     0    0    0    0    0    0    0    0    0    0    0    0    0    0\n",
            "     0    0    0    0    0    0    0    0    0    0    0    0]]\n",
            "Processed user input: [[8170 4154   41 8171    0    0    0    0    0    0    0    0    0    0\n",
            "     0    0    0    0    0    0    0    0    0    0    0    0    0    0\n",
            "     0    0    0    0    0    0    0    0    0    0    0    0]]\n",
            "First training input: [7909 4203 3055   41    0    0    0    0    0    0    0    0    0    0\n",
            "    0    0    0    0    0    0    0    0    0    0    0    0    0    0\n",
            "    0    0    0    0    0    0    0    0    0    0    0    0]\n"
          ]
        }
      ]
    }
  ]
}