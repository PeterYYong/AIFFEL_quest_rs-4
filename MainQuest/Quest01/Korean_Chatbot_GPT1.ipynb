{
 "cells": [
  {
   "cell_type": "code",
   "execution_count": 232,
   "metadata": {
    "colab": {
     "base_uri": "https://localhost:8080/"
    },
    "id": "FSZoK0VdnTUI",
    "outputId": "d5b26eaa-a04c-46c0-e7e4-9845daf4af1e"
   },
   "outputs": [
    {
     "name": "stdout",
     "output_type": "stream",
     "text": [
      "슝=3\n"
     ]
    }
   ],
   "source": [
    "import tensorflow as tf\n",
    "import tensorflow_datasets as tfds\n",
    "import os\n",
    "import re\n",
    "import numpy as np\n",
    "import matplotlib.pyplot as plt\n",
    "import pandas as pd\n",
    "\n",
    "print(\"슝=3\")"
   ]
  },
  {
   "attachments": {},
   "cell_type": "markdown",
   "metadata": {},
   "source": [
    "Transformer(2017)는 인코더 (입력) & 디코더(출력) 인 반면에 GPT1은 디코더만 남기고 언어모델에 최적화를 하려고 했음\n",
    "GPT-1은 Transformer 디코더 구조를 기반으로 한 언어 모델로, 사전 학습과 전이 학습의 개념을 도입함"
   ]
  },
  {
   "cell_type": "markdown",
   "metadata": {},
   "source": [
    "GPT1에서 바뀐 주요 부분\n",
    "1. 학습 가능한 포지셔널 인코딩 (Learned Positional Encodings)\n",
    "   - 기존의 사인(sinusoidal) 방식 대신 학습 가능한 임베딩을 사용하도록 변경\n",
    "2. 디코더 전용 아키텍처 (Decoder-Only Architecture)\n",
    "   - GPT-1 스타일의 마스크드 셀프 어텐션(Masked Self-Attention)을 적용했습니다.\n"
   ]
  },
  {
   "cell_type": "code",
   "execution_count": 233,
   "metadata": {
    "id": "tW5PfYzqnZJk"
   },
   "outputs": [],
   "source": [
    "# 1. 학습 가능한 포지셔널 인코딩 레이어\n",
    "# 바뀐 부분: 기존의 사인(sinusoidal) 포지셔널 인코딩을 학습 가능한 포지셔널 임베딩으로 교체\n",
    "#            이전 코드에서 사용되던 tf.math.sin 및 tf.math.cos는 학습 가능한 가중치(self.pos_embedding)로 대체\n",
    "# 삭제된 부분: get_angles와 같은 사인/코사인 값을 계산하는 함수, 고정된 방식으로 포지셔널 정보를 생성하던 방법\n",
    "\n",
    "class PositionalEncoding(tf.keras.layers.Layer): \n",
    "    def __init__(self, max_position, d_model):\n",
    "        \"\"\"\n",
    "        학습 가능한 포지셔널 인코딩 레이어 초기화\n",
    "        Args:\n",
    "            max_position: 최대 시퀀스 길이 (포지셔널 인코딩의 크기 설정)\n",
    "            d_model: 임베딩 차원 (모델의 숨겨진 상태 크기)\n",
    "        \"\"\"\n",
    "        super(PositionalEncoding, self).__init__()\n",
    "        \n",
    "        # 학습 가능한 포지셔널 임베딩 정의\n",
    "        self.pos_embedding = self.add_weight(\n",
    "            \"pos_embedding\",  # 가중치 이름\n",
    "            shape=[max_position, d_model],  # (최대 시퀀스 길이, 임베딩 차원)\n",
    "            initializer=tf.keras.initializers.RandomNormal(mean=0., stddev=1.),  # 초기화: 평균 0, 표준편차 1\n",
    "            trainable=True,  # 학습 가능하도록 설정\n",
    "        )\n",
    "\n",
    "    def call(self, inputs):\n",
    "        \"\"\"\n",
    "        입력에 포지셔널 임베딩을 더함\n",
    "        Args:\n",
    "            inputs: 입력 텐서 (shape: [batch_size, seq_length, d_model])\n",
    "        Returns:\n",
    "            입력 + 포지셔널 임베딩이 더해진 텐서\n",
    "        \"\"\"\n",
    "        # 입력 시퀀스 길이를 추출 (동적 크기 처리)\n",
    "        seq_length = tf.shape(inputs)[1]\n",
    "        \n",
    "        # 입력 텐서에 포지셔널 임베딩 추가\n",
    "        # pos_embedding은 [max_position, d_model] 크기에서 필요한 부분만 사용\n",
    "        return inputs + self.pos_embedding[:seq_length, :]   \n"
   ]
  },
  {
   "cell_type": "code",
   "execution_count": 234,
   "metadata": {
    "id": "c9yUrFm4pURH"
   },
   "outputs": [],
   "source": [
    "# 스케일드 닷 프로덕트 어텐션 함수\n",
    "def scaled_dot_product_attention(query, key, value, mask):\n",
    "    # 어텐션 가중치는 Q와 K의 닷 프로덕트\n",
    "    matmul_qk = tf.matmul(query, key, transpose_b=True)\n",
    "    \n",
    "    # 가중치를 정규화\n",
    "    depth = tf.cast(tf.shape(key)[-1], tf.float32)\n",
    "    scaled_attention_logits = matmul_qk / tf.math.sqrt(depth)\n",
    "    \n",
    "    # 패딩에 마스크 추가\n",
    "    if mask is not None:\n",
    "        scaled_attention_logits += (mask * -1e9)\n",
    "        \n",
    "    # softmax적용\n",
    "    attention_weights = tf.nn.softmax(scaled_attention_logits, axis=-1)\n",
    "    # 최종 어텐션은 가중치와 V의 닷 프로덕트\n",
    "    output = tf.matmul(attention_weights, value)\n",
    "    return output, attention_weights"
   ]
  },
  {
   "cell_type": "code",
   "execution_count": 235,
   "metadata": {
    "id": "rvZPiu2KpbxZ"
   },
   "outputs": [],
   "source": [
    "# scaled_dot_product_attention 함수 호출 시 mask가 사용되는 부분이 GPT-1의 \"Masked Self-Attention\"을 반영\n",
    "\n",
    "class MultiHeadAttention(tf.keras.layers.Layer):\n",
    "    def __init__(self, d_model, num_heads, name=\"multi_head_attention\"):\n",
    "        super(MultiHeadAttention, self).__init__(name=name)\n",
    "        self.num_heads = num_heads\n",
    "        self.d_model = d_model\n",
    "\n",
    "        assert d_model % num_heads == 0\n",
    "\n",
    "        self.depth = d_model // num_heads\n",
    "\n",
    "        self.query_dense = tf.keras.layers.Dense(units=d_model)\n",
    "        self.key_dense = tf.keras.layers.Dense(units=d_model)\n",
    "        self.value_dense = tf.keras.layers.Dense(units=d_model)\n",
    "\n",
    "        self.dense = tf.keras.layers.Dense(units=d_model)\n",
    "\n",
    "    def split_heads(self, x, batch_size):\n",
    "        x = tf.reshape(x, (batch_size, -1, self.num_heads, self.depth))\n",
    "        return tf.transpose(x, perm=[0, 2, 1, 3])\n",
    "\n",
    "    def call(self, query, key, value, mask):\n",
    "        batch_size = tf.shape(query)[0]\n",
    "\n",
    "        # Linear layers for Q, K, V\n",
    "        query = self.query_dense(query)\n",
    "        key = self.key_dense(key)\n",
    "        value = self.value_dense(value)\n",
    "\n",
    "        # Split heads for multi-head attention\n",
    "        query = self.split_heads(query, batch_size)\n",
    "        key = self.split_heads(key, batch_size)\n",
    "        value = self.split_heads(value, batch_size)\n",
    "\n",
    "        # Scaled dot-product attention\n",
    "        # 추가된 부분: 마스크(mask)를 적용하여 미래 정보(미래 토큰)를 참조하지 않도록 설정\n",
    "        attention, _ = scaled_dot_product_attention(query, key, value, mask) \n",
    "        # `mask`는 미래 토큰을 차단하기 위해 look-ahead mask가 전달됨.\n",
    "        # 마스크가 적용된 경우, 해당 위치의 attention weight는 무시됨.\n",
    "        \n",
    "        # Concatenate heads\n",
    "        concat_attention = tf.reshape(attention, (batch_size, -1, self.d_model))\n",
    "\n",
    "        # Final dense layer\n",
    "        output = self.dense(concat_attention)\n",
    "\n",
    "        return output\n"
   ]
  },
  {
   "cell_type": "markdown",
   "metadata": {
    "id": "gJ75NlAlpieH"
   },
   "source": [
    "패드 마스킹은 삭제하고 Look-ahead Masking만 사용"
   ]
  },
  {
   "cell_type": "code",
   "execution_count": 236,
   "metadata": {
    "colab": {
     "base_uri": "https://localhost:8080/"
    },
    "id": "AoAuazJPpg-d",
    "outputId": "40c434f8-6b43-472e-b9b1-8616a6b88bb5"
   },
   "outputs": [],
   "source": [
    "def create_look_ahead_mask(x):\n",
    "    \"\"\"\n",
    "    Generate a look-ahead mask for the input sequence.\n",
    "    \"\"\"\n",
    "    seq_len = tf.shape(x)[1]  # Sequence length\n",
    "    look_ahead_mask = 1 - tf.linalg.band_part(tf.ones((seq_len, seq_len)), -1, 0)\n",
    "    look_ahead_mask = tf.reshape(look_ahead_mask, (1, 1, seq_len, seq_len))  # Reshape for batch compatibility\n",
    "    return look_ahead_mask"
   ]
  },
  {
   "cell_type": "markdown",
   "metadata": {
    "id": "x-q6ZSwaqOug"
   },
   "source": [
    "삭제 : 인코더 층, 인코더"
   ]
  },
  {
   "cell_type": "code",
   "execution_count": null,
   "metadata": {
    "colab": {
     "base_uri": "https://localhost:8080/"
    },
    "id": "TY_lqXyNqJN4",
    "outputId": "51cb0401-b6f0-4835-8a9a-24f964fd7168"
   },
   "outputs": [],
   "source": []
  },
  {
   "cell_type": "code",
   "execution_count": null,
   "metadata": {
    "id": "kZJkudzNqLja"
   },
   "outputs": [],
   "source": []
  },
  {
   "cell_type": "markdown",
   "metadata": {
    "id": "-KwYRbx6qYfo"
   },
   "source": [
    "디코더 하나의 레이어를 함수로 만들기"
   ]
  },
  {
   "cell_type": "code",
   "execution_count": 238,
   "metadata": {
    "colab": {
     "base_uri": "https://localhost:8080/"
    },
    "id": "AMJUJwiuqYEn",
    "outputId": "5f03d2df-e3a3-4fb2-b710-34043be775c4"
   },
   "outputs": [],
   "source": [
    "def decoder(vocab_size, num_layers, units, d_model, num_heads, dropout, name=\"decoder\"):\n",
    "    inputs = tf.keras.Input(shape=(None,), name=\"inputs\")  # Input shape\n",
    "    look_ahead_mask = tf.keras.Input(shape=(1, None, None), name=\"look_ahead_mask\")\n",
    "\n",
    "    # Embedding and positional encoding\n",
    "    embeddings = tf.keras.layers.Embedding(vocab_size, d_model)(inputs)\n",
    "    embeddings *= tf.math.sqrt(tf.cast(d_model, tf.float32))\n",
    "    embeddings = PositionalEncoding(MAX_LENGTH, d_model)(embeddings)\n",
    "    outputs = tf.keras.layers.Dropout(rate=dropout)(embeddings)\n",
    "\n",
    "    # Decoder layers\n",
    "    for i in range(num_layers):\n",
    "        outputs = decoder_layer(\n",
    "            units=units,\n",
    "            d_model=d_model,\n",
    "            num_heads=num_heads,\n",
    "            dropout=dropout,\n",
    "            name=f\"decoder_layer_{i}\"\n",
    "        )(inputs=[outputs, look_ahead_mask])\n",
    "\n",
    "    return tf.keras.Model(inputs=[inputs, look_ahead_mask], outputs=outputs, name=name)\n"
   ]
  },
  {
   "cell_type": "markdown",
   "metadata": {
    "id": "2TpPv54_qfxU"
   },
   "source": [
    "디코더 층을 쌓아 디코더 만들기"
   ]
  },
  {
   "cell_type": "code",
   "execution_count": 239,
   "metadata": {
    "colab": {
     "base_uri": "https://localhost:8080/"
    },
    "id": "55VQuXSKqgGk",
    "outputId": "5890e872-510d-4cfd-af95-adab9356eea3"
   },
   "outputs": [],
   "source": [
    "def decoder_layer(units, d_model, num_heads, dropout, name=\"decoder_layer\"):\n",
    "    \"\"\"\n",
    "    Define a single decoder layer with consistent input shapes.\n",
    "    \"\"\"\n",
    "    inputs = tf.keras.Input(shape=(MAX_LENGTH, d_model), name=\"inputs\")  # Updated shape\n",
    "    look_ahead_mask = tf.keras.Input(shape=(1, MAX_LENGTH, MAX_LENGTH), name=\"look_ahead_mask\")\n",
    "\n",
    "    # Masked Multi-Head Attention\n",
    "    attention = MultiHeadAttention(d_model, num_heads, name=\"masked_self_attention\")(\n",
    "        query=inputs, key=inputs, value=inputs, mask=look_ahead_mask\n",
    "    )\n",
    "    attention = tf.keras.layers.Dropout(rate=dropout)(attention)\n",
    "    attention = tf.keras.layers.LayerNormalization(epsilon=1e-6)(inputs + attention)\n",
    "\n",
    "    # Feed-forward network\n",
    "    outputs = tf.keras.layers.Dense(units=units, activation=\"relu\")(attention)\n",
    "    outputs = tf.keras.layers.Dense(units=d_model)(outputs)\n",
    "    outputs = tf.keras.layers.Dropout(rate=dropout)(outputs)\n",
    "    outputs = tf.keras.layers.LayerNormalization(epsilon=1e-6)(attention + outputs)\n",
    "\n",
    "    return tf.keras.Model(inputs=[inputs, look_ahead_mask], outputs=outputs, name=name)\n"
   ]
  },
  {
   "cell_type": "markdown",
   "metadata": {
    "id": "57HXYdLmqz97"
   },
   "source": [
    "데이터 가져오기"
   ]
  },
  {
   "cell_type": "code",
   "execution_count": 240,
   "metadata": {
    "colab": {
     "base_uri": "https://localhost:8080/"
    },
    "id": "S2jXvVa_q1fp",
    "outputId": "3cef70a5-5d95-4db9-b55a-ce39f81d66fa"
   },
   "outputs": [
    {
     "name": "stdout",
     "output_type": "stream",
     "text": [
      "                 Q            A  label\n",
      "0           12시 땡!   하루가 또 가네요.      0\n",
      "1      1지망 학교 떨어졌어    위로해 드립니다.      0\n",
      "2     3박4일 놀러가고 싶다  여행은 언제나 좋죠.      0\n",
      "3  3박4일 정도 놀러가고 싶다  여행은 언제나 좋죠.      0\n",
      "4          PPL 심하네   눈살이 찌푸려지죠.      0\n",
      "총 데이터 수 : 11823\n"
     ]
    }
   ],
   "source": [
    "# CSV 파일 \n",
    "data = pd.read_csv('~/aiffel/transformer_chatbot/data/ChatbotData .csv')\n",
    "print(data.head()) # 데이터 확인print(\"데이터 샘플:\")\n",
    "print(\"총 데이터 수 :\", len(data))"
   ]
  },
  {
   "cell_type": "markdown",
   "metadata": {
    "id": "s40m72QRrJ6j"
   },
   "source": [
    "데이터 전처리"
   ]
  },
  {
   "cell_type": "code",
   "execution_count": 242,
   "metadata": {
    "id": "e6y5SSYVrLdP"
   },
   "outputs": [],
   "source": [
    "# 전처리\n",
    "def preprocess_sentence(sentence):\n",
    "    # 입력받은 sentence를 양쪽 공백을 제거\n",
    "    sentence = sentence.strip()\n",
    "\n",
    "    # 단어와 구두점(punctuation) 사이의 거리를 만듭니다.\n",
    "    # 예를 들어서 \"I am a student.\" => \"I am a student .\"와 같이\n",
    "    # student와 온점 사이에 거리를 만듭니다.\n",
    "    sentence = re.sub(r\"([?.!,])\", r\" \\1 \", sentence)\n",
    "    sentence = re.sub(r'[\"]+', \" \", sentence)\n",
    "\n",
    "    # (ㄱ-ㅎ, 가-힣, a-z, A-Z, 0-9, \".\", \"?\", \"!\", \",\")를 제외한 모든 문자를 공백으로 대체합니다. (숫자+한글+영어+문장부호)\n",
    "    sentence = re.sub(r\"[^ㄱ-ㅎ가-힣a-zA-Z0-9?.!,]+\", \" \", sentence) #정규표현식\n",
    "    sentence = sentence.strip()\n",
    "    return sentence\n",
    "\n"
   ]
  },
  {
   "cell_type": "code",
   "execution_count": 243,
   "metadata": {
    "colab": {
     "base_uri": "https://localhost:8080/"
    },
    "id": "_c9CL-cxDX_g",
    "outputId": "906cf863-f1bf-4fb7-850f-4aa2e54e55ab"
   },
   "outputs": [
    {
     "name": "stdout",
     "output_type": "stream",
     "text": [
      "전체 샘플 수 : 11823\n",
      "전체 샘플 수 : 11823\n"
     ]
    }
   ],
   "source": [
    "# data['Q']와 data['A']에 대해 질문과 답변 쌍 생성 함수\n",
    "def load_conversations(data):\n",
    "    inputs, outputs = [], []\n",
    "    for q, a in zip(data['Q'], data['A']):\n",
    "        # 전처리 함수를 질문에만 적용 (답변에는 적용하지 않음)\n",
    "        inputs.append(preprocess_sentence(q))\n",
    "        outputs.append(a)\n",
    "    return inputs, outputs\n",
    "\n",
    "# 데이터를 로드하고 전처리하여 질문을 questions, 답변을 answers에 저장합니다.\n",
    "questions, answers = load_conversations(data)\n",
    "\n",
    "print('전체 샘플 수 :', len(questions))\n",
    "print('전체 샘플 수 :', len(answers))"
   ]
  },
  {
   "cell_type": "code",
   "execution_count": 244,
   "metadata": {
    "colab": {
     "base_uri": "https://localhost:8080/"
    },
    "id": "t4AWZ6ofvWG4",
    "outputId": "0878af45-0429-474a-aab4-98b695c0276f"
   },
   "outputs": [
    {
     "name": "stdout",
     "output_type": "stream",
     "text": [
      "슝=3 \n"
     ]
    }
   ],
   "source": [
    "# 질문과 답변 데이터셋에 대해서 Vocabulary 생성\n",
    "tokenizer = tfds.deprecated.text.SubwordTextEncoder.build_from_corpus(questions + answers, target_vocab_size=2**13)\n",
    "print(\"슝=3 \")"
   ]
  },
  {
   "cell_type": "code",
   "execution_count": 245,
   "metadata": {
    "colab": {
     "base_uri": "https://localhost:8080/"
    },
    "id": "oOWkQ0xrveYu",
    "outputId": "c72c6796-b1c1-4ec6-dd6d-6fae34a64e8f"
   },
   "outputs": [
    {
     "name": "stdout",
     "output_type": "stream",
     "text": [
      "START_TOKEN의 번호 : [8171]\n",
      "END_TOKEN의 번호 : [8172]\n"
     ]
    }
   ],
   "source": [
    "# 시작 토큰과 종료 토큰에 고유한 정수를 부여합니다.\n",
    "START_TOKEN, END_TOKEN = [tokenizer.vocab_size], [tokenizer.vocab_size + 1]\n",
    "\n",
    "print('START_TOKEN의 번호 :' ,[tokenizer.vocab_size])\n",
    "print('END_TOKEN의 번호 :' ,[tokenizer.vocab_size + 1])"
   ]
  },
  {
   "cell_type": "code",
   "execution_count": 246,
   "metadata": {
    "colab": {
     "base_uri": "https://localhost:8080/"
    },
    "id": "-rX4j26Evnon",
    "outputId": "850f94ca-c6c3-401c-c84a-845179c8a714"
   },
   "outputs": [
    {
     "name": "stdout",
     "output_type": "stream",
     "text": [
      "8173\n"
     ]
    }
   ],
   "source": [
    "# 단어장의 크기 산정\n",
    "VOCAB_SIZE = tokenizer.vocab_size + 2\n",
    "print(VOCAB_SIZE)"
   ]
  },
  {
   "cell_type": "code",
   "execution_count": 247,
   "metadata": {
    "colab": {
     "base_uri": "https://localhost:8080/"
    },
    "id": "sX3P6o-Rw8VZ",
    "outputId": "5b061145-e1a2-4d65-a674-9fa79eb31828"
   },
   "outputs": [
    {
     "name": "stdout",
     "output_type": "stream",
     "text": [
      "정수 인코딩 후의 21번째 질문 샘플: [5762, 611, 2492, 4162]\n",
      "정수 인코딩 후의 21번째 답변 샘플: [2357, 7509, 7, 6274, 97, 7961]\n"
     ]
    }
   ],
   "source": [
    "# 임의의 22번째 샘플에 대해서 정수 인코딩 작업을 수행.\n",
    "# 각 토큰을 고유한 정수로 변환\n",
    "print('정수 인코딩 후의 21번째 질문 샘플: {}'.format(tokenizer.encode(questions[21])))\n",
    "print('정수 인코딩 후의 21번째 답변 샘플: {}'.format(tokenizer.encode(answers[21])))"
   ]
  },
  {
   "cell_type": "code",
   "execution_count": 248,
   "metadata": {
    "colab": {
     "base_uri": "https://localhost:8080/"
    },
    "id": "xDaUUp2DBIUK",
    "outputId": "406054a4-0fb9-4523-e5e5-fe8b6abcf2ce"
   },
   "outputs": [
    {
     "name": "stdout",
     "output_type": "stream",
     "text": [
      "질문 최대 길이: 15\n",
      "대답 최대 길이: 21\n"
     ]
    }
   ],
   "source": [
    "# 데이터프레임 열에 대해 최대 길이를 추출하는 함수\n",
    "def get_max_length_for_column(dataframe, column_name):\n",
    "    return max(len(sentence.split()) for sentence in dataframe[column_name])\n",
    "\n",
    "# data 데이터프레임의 'Q' 열에 대해 최대 길이 추출\n",
    "max_len_questions = get_max_length_for_column(pd.DataFrame(data), 'Q')\n",
    "print('질문 최대 길이:', max_len_questions)\n",
    "\n",
    "# data 데이터프레임의 'A' 열에 대해 최대 길이 추출\n",
    "max_len_questions = get_max_length_for_column(pd.DataFrame(data), 'A')\n",
    "print('대답 최대 길이:', max_len_questions)"
   ]
  },
  {
   "cell_type": "code",
   "execution_count": 249,
   "metadata": {},
   "outputs": [],
   "source": [
    "\n",
    "MAX_LENGTH = 32\n"
   ]
  },
  {
   "cell_type": "code",
   "execution_count": 250,
   "metadata": {
    "colab": {
     "base_uri": "https://localhost:8080/"
    },
    "id": "maxM0yjNxKUl",
    "outputId": "e0e2c0d3-9ecd-4f21-9158-ed6426ae222b"
   },
   "outputs": [
    {
     "name": "stdout",
     "output_type": "stream",
     "text": [
      "슝=3\n"
     ]
    }
   ],
   "source": [
    "# 정수 인코딩, 최대 길이를 초과하는 샘플 제거, 패딩\n",
    "def tokenize_and_filter(inputs, outputs):\n",
    "  tokenized_inputs, tokenized_outputs = [], []\n",
    "\n",
    "  for (sentence1, sentence2) in zip(inputs, outputs):\n",
    "    # 정수 인코딩 과정에서 시작 토큰과 종료 토큰을 추가\n",
    "    sentence1 = START_TOKEN + tokenizer.encode(sentence1) + END_TOKEN\n",
    "    sentence2 = START_TOKEN + tokenizer.encode(sentence2) + END_TOKEN\n",
    "\n",
    "    # 최대 길이 40 이하인 경우에만 데이터셋으로 허용\n",
    "    if len(sentence1) <= MAX_LENGTH and len(sentence2) <= MAX_LENGTH:\n",
    "      tokenized_inputs.append(sentence1)\n",
    "      tokenized_outputs.append(sentence2)\n",
    "\n",
    "  # 최대 길이 40으로 모든 데이터셋을 패딩\n",
    "  tokenized_inputs = tf.keras.preprocessing.sequence.pad_sequences(\n",
    "      tokenized_inputs, maxlen=MAX_LENGTH, padding='post')\n",
    "  tokenized_outputs = tf.keras.preprocessing.sequence.pad_sequences(\n",
    "      tokenized_outputs, maxlen=MAX_LENGTH, padding='post')\n",
    "\n",
    "  return tokenized_inputs, tokenized_outputs\n",
    "print(\"슝=3\")"
   ]
  },
  {
   "cell_type": "code",
   "execution_count": 251,
   "metadata": {
    "colab": {
     "base_uri": "https://localhost:8080/"
    },
    "id": "_3a-aQ1uxPmK",
    "outputId": "4f1eedae-8420-440f-9ed7-50c3a4f1eca5"
   },
   "outputs": [
    {
     "name": "stdout",
     "output_type": "stream",
     "text": [
      "단어장의 크기 : 8173\n",
      "필터링 후의 질문 샘플 개수: 11823\n",
      "필터링 후의 답변 샘플 개수: 11823\n"
     ]
    }
   ],
   "source": [
    "questions, answers = tokenize_and_filter(questions, answers)\n",
    "print('단어장의 크기 :',(VOCAB_SIZE))\n",
    "print('필터링 후의 질문 샘플 개수: {}'.format(len(questions)))\n",
    "print('필터링 후의 답변 샘플 개수: {}'.format(len(answers)))"
   ]
  },
  {
   "cell_type": "code",
   "execution_count": 257,
   "metadata": {
    "colab": {
     "base_uri": "https://localhost:8080/"
    },
    "id": "h9L48g_TxUdV",
    "outputId": "d50bb806-097e-4f5e-a22c-a909adf3cfc2"
   },
   "outputs": [
    {
     "name": "stdout",
     "output_type": "stream",
     "text": [
      "Input shape: (32, 39)\n",
      "Decoder Input shape: (32, 39)\n",
      "Output shape: (32, 39)\n"
     ]
    }
   ],
   "source": [
    "# BATCH_SIZE = 64\n",
    "# BUFFER_SIZE = 12000\n",
    "\n",
    "# # 디코더는 이전의 target을 다음의 input으로 사용합니다.\n",
    "# # 이에 따라 outputs에서는 START_TOKEN을 제거하겠습니다.\n",
    "# # dataset = tf.data.Dataset.from_tensor_slices((\n",
    "# #     {\n",
    "# #         'inputs': questions,\n",
    "# #         'dec_inputs': answers[:, :-1]\n",
    "# #     },\n",
    "# #     {\n",
    "# #         'outputs': answers[:, 1:]\n",
    "# #     },\n",
    "# # ))\n",
    "\n",
    "# dataset = tf.data.Dataset.from_tensor_slices((\n",
    "#     {\n",
    "#         'inputs': questions\n",
    "#     },\n",
    "#     {\n",
    "#         'outputs': answers[:, 1:]\n",
    "#     },\n",
    "# ))\n",
    "\n",
    "\n",
    "# dataset = dataset.cache()\n",
    "# dataset = dataset.shuffle(BUFFER_SIZE)\n",
    "# dataset = dataset.batch(BATCH_SIZE)\n",
    "# dataset = dataset.prefetch(tf.data.experimental.AUTOTUNE)\n",
    "# print(\"슝=3\")\n",
    "from tensorflow.keras.preprocessing.sequence import pad_sequences\n",
    "import tensorflow as tf\n",
    "\n",
    "# MAX_LENGTH 설정 (모델과 동일하게)\n",
    "MAX_LENGTH = 40\n",
    "\n",
    "# 데이터 전처리: 입력 데이터와 출력 데이터 모두 패딩 처리\n",
    "def preprocess_dataset(inputs, outputs):\n",
    "    inputs = pad_sequences(inputs, maxlen=MAX_LENGTH, padding='post', truncating='post')\n",
    "    outputs = pad_sequences(outputs, maxlen=MAX_LENGTH, padding='post', truncating='post')\n",
    "    return inputs, outputs\n",
    "\n",
    "# 데이터가 이미 정의되어 있다고 가정 (questions, answers)\n",
    "# questions와 answers가 적절히 준비되었다고 가정\n",
    "inputs = questions\n",
    "outputs = answers\n",
    "\n",
    "# 전처리 수행\n",
    "inputs, outputs = preprocess_dataset(inputs, outputs)\n",
    "\n",
    "\n",
    "\n",
    "# TensorFlow Dataset 생성\n",
    "batch_size = 32\n",
    "dataset = tf.data.Dataset.from_tensor_slices((\n",
    "    {\n",
    "        'inputs': inputs[:, :-1],\n",
    "        'dec_inputs': outputs[:, :-1]  # Decoder 입력 (마지막 토큰 제외)\n",
    "    },\n",
    "    {\n",
    "        'outputs': outputs[:, 1:]  # Decoder 출력 (첫 번째 토큰 제외)\n",
    "    },\n",
    "))\n",
    "dataset = dataset.batch(batch_size).prefetch(tf.data.AUTOTUNE)\n",
    "\n",
    "# 데이터셋 확인\n",
    "for batch in dataset.take(1):\n",
    "    print(\"Input shape:\", batch[0]['inputs'].shape)  # 질문 데이터\n",
    "    print(\"Decoder Input shape:\", batch[0]['dec_inputs'].shape)  # 디코더 입력\n",
    "    print(\"Output shape:\", batch[1]['outputs'].shape)  # 디코더 출력"
   ]
  },
  {
   "cell_type": "code",
   "execution_count": 258,
   "metadata": {},
   "outputs": [
    {
     "name": "stdout",
     "output_type": "stream",
     "text": [
      "Input shape: (32, 40)\n",
      "Output shape: (32, 40)\n"
     ]
    }
   ],
   "source": [
    "from tensorflow.keras.preprocessing.sequence import pad_sequences\n",
    "import tensorflow as tf\n",
    "\n",
    "# MAX_LENGTH 설정 (모델과 동일하게)\n",
    "MAX_LENGTH = 40\n",
    "\n",
    "# 데이터 전처리: 입력 데이터와 출력 데이터 모두 패딩 처리\n",
    "def preprocess_dataset(inputs, outputs):\n",
    "    # 입력 데이터와 출력 데이터 모두 동일한 MAX_LENGTH로 패딩\n",
    "    inputs = pad_sequences(inputs, maxlen=MAX_LENGTH, padding='post', truncating='post')\n",
    "    outputs = pad_sequences(outputs, maxlen=MAX_LENGTH, padding='post', truncating='post')\n",
    "    return inputs, outputs\n",
    "\n",
    "# 데이터셋에 적용\n",
    "try:\n",
    "    inputs, outputs = preprocess_dataset(inputs, outputs)\n",
    "except NameError:\n",
    "    print(\"Error: `raw_questions`와 `raw_answers`가 정의되지 않았습니다.\")\n",
    "    # 데이터가 정의되지 않았다면 예외 처리 후 종료\n",
    "    raise\n",
    "\n",
    "# TensorFlow Dataset 생성\n",
    "batch_size = 32  # 배치 크기 설정\n",
    "dataset = tf.data.Dataset.from_tensor_slices((inputs, outputs))\n",
    "dataset = dataset.batch(batch_size).prefetch(tf.data.AUTOTUNE)\n",
    "\n",
    "# 데이터셋 구조 확인\n",
    "for batch in dataset.take(1):\n",
    "    print(\"Input shape:\", batch[0].shape)  # 질문 데이터\n",
    "    print(\"Output shape:\", batch[1].shape)  # 정답 데이터\n",
    "\n",
    "\n"
   ]
  },
  {
   "cell_type": "markdown",
   "metadata": {
    "id": "XAuDrkOkxa53"
   },
   "source": [
    "Transformer 중 인코더 부분을 제외하고 수정함"
   ]
  },
  {
   "cell_type": "code",
   "execution_count": 259,
   "metadata": {
    "id": "l-CejbmgxdSZ"
   },
   "outputs": [],
   "source": [
    "def transformer(vocab_size, num_layers, units, d_model, num_heads, dropout, name=\"transformer\"):\n",
    "    \"\"\"\n",
    "    GPT-1 style Transformer with decoder-only architecture.\n",
    "    \"\"\"\n",
    "    # Input for the decoder\n",
    "    inputs = tf.keras.Input(shape=(None,), name=\"inputs\")  # Tokenized input sequence\n",
    "    \n",
    "    # Look-Ahead Mask\n",
    "    look_ahead_mask = tf.keras.layers.Lambda(\n",
    "        lambda x: create_look_ahead_mask(x),\n",
    "        name=\"look_ahead_mask\"\n",
    "    )(inputs)\n",
    "    \n",
    "    # Decoder Layers\n",
    "    dec_outputs = decoder(\n",
    "        vocab_size=vocab_size,\n",
    "        num_layers=num_layers,\n",
    "        units=units,\n",
    "        d_model=d_model,\n",
    "        num_heads=num_heads,\n",
    "        dropout=dropout,\n",
    "    )(inputs=[inputs, look_ahead_mask])  # No encoder outputs\n",
    "    \n",
    "    # Final Output Dense Layer\n",
    "    outputs = tf.keras.layers.Dense(units=vocab_size, name=\"outputs\")(dec_outputs)\n",
    "\n",
    "    return tf.keras.Model(inputs=inputs, outputs=outputs, name=name)\n"
   ]
  },
  {
   "cell_type": "markdown",
   "metadata": {
    "id": "NM855002xhfR"
   },
   "source": [
    "모델 생성하기"
   ]
  },
  {
   "cell_type": "code",
   "execution_count": 280,
   "metadata": {},
   "outputs": [
    {
     "name": "stdout",
     "output_type": "stream",
     "text": [
      "Model: \"transformer\"\n",
      "__________________________________________________________________________________________________\n",
      "Layer (type)                    Output Shape         Param #     Connected to                     \n",
      "==================================================================================================\n",
      "inputs (InputLayer)             [(None, None)]       0                                            \n",
      "__________________________________________________________________________________________________\n",
      "look_ahead_mask (Lambda)        (1, 1, None, None)   0           inputs[0][0]                     \n",
      "__________________________________________________________________________________________________\n",
      "decoder (Functional)            (None, 40, 768)      123682560   inputs[0][0]                     \n",
      "                                                                 look_ahead_mask[0][0]            \n",
      "__________________________________________________________________________________________________\n",
      "outputs (Dense)                 (None, 40, 50257)    38647633    decoder[0][0]                    \n",
      "==================================================================================================\n",
      "Total params: 162,330,193\n",
      "Trainable params: 162,330,193\n",
      "Non-trainable params: 0\n",
      "__________________________________________________________________________________________________\n"
     ]
    }
   ],
   "source": [
    "tf.keras.backend.clear_session()\n",
    "\n",
    "# Hyperparameters\n",
    "NUM_LAYERS = 12  # Number of decoder layers (typical for GPT-1)\n",
    "D_MODEL = 768    # Hidden size\n",
    "NUM_HEADS = 12   # Number of attention heads\n",
    "UNITS = 3072     # Feedforward network hidden size\n",
    "DROPOUT = 0.1    # Dropout rate\n",
    "\n",
    "# Vocabulary size should match your tokenizer\n",
    "VOCAB_SIZE = 50257  # Example size for OpenAI GPT tokenizer\n",
    "\n",
    "# Build the GPT-like model\n",
    "model = transformer(\n",
    "    vocab_size=VOCAB_SIZE,\n",
    "    num_layers=NUM_LAYERS,\n",
    "    units=UNITS,\n",
    "    d_model=D_MODEL,\n",
    "    num_heads=NUM_HEADS,\n",
    "    dropout=DROPOUT,\n",
    ")\n",
    "\n",
    "model.summary()\n"
   ]
  },
  {
   "cell_type": "markdown",
   "metadata": {
    "id": "uebaaNe3y8hc"
   },
   "source": [
    "손실함수"
   ]
  },
  {
   "cell_type": "code",
   "execution_count": 282,
   "metadata": {
    "id": "WVeVxpoiy9iE"
   },
   "outputs": [],
   "source": [
    "def loss_function(y_true, y_pred):\n",
    "    # y_pred의 길이에 맞춰 y_true를 reshape\n",
    "    y_true = tf.reshape(y_true, shape=(-1, tf.shape(y_pred)[1]))\n",
    "\n",
    "    loss = tf.keras.losses.SparseCategoricalCrossentropy(\n",
    "        from_logits=True, reduction='none')(y_true, y_pred)\n",
    "\n",
    "    return tf.reduce_mean(loss)"
   ]
  },
  {
   "cell_type": "markdown",
   "metadata": {
    "id": "TvDI6iTvzA6y"
   },
   "source": [
    "학습률"
   ]
  },
  {
   "cell_type": "code",
   "execution_count": 283,
   "metadata": {
    "id": "WMAF0qr5zBxj"
   },
   "outputs": [],
   "source": [
    "class CustomSchedule(tf.keras.optimizers.schedules.LearningRateSchedule):\n",
    "    def __init__(self, d_model, warmup_steps=4000):\n",
    "        super(CustomSchedule, self).__init__()\n",
    "\n",
    "        self.d_model = d_model\n",
    "        self.d_model = tf.cast(self.d_model, tf.float32)\n",
    "\n",
    "        self.warmup_steps = warmup_steps\n",
    "\n",
    "    def __call__(self, step):\n",
    "        # step을 float32로 변환\n",
    "        step = tf.cast(step, tf.float32) # 타입 맞춰주기\n",
    "        arg1 = tf.math.rsqrt(step)\n",
    "        arg2 = step * (self.warmup_steps**-1.5)\n",
    "\n",
    "        return tf.math.rsqrt(self.d_model) * tf.math.minimum(arg1, arg2)"
   ]
  },
  {
   "cell_type": "code",
   "execution_count": 284,
   "metadata": {
    "colab": {
     "base_uri": "https://localhost:8080/",
     "height": 467
    },
    "id": "D23k6z1wzFAr",
    "outputId": "9b02e5e2-8186-4180-c897-fdff6647c2f7"
   },
   "outputs": [
    {
     "data": {
      "text/plain": [
       "Text(0.5, 0, 'Train Step')"
      ]
     },
     "execution_count": 284,
     "metadata": {},
     "output_type": "execute_result"
    },
    {
     "data": {
      "image/png": "[encoded data removed]",
      "text/plain": [
       "<Figure size 432x288 with 1 Axes>"
      ]
     },
     "metadata": {
      "needs_background": "light"
     },
     "output_type": "display_data"
    }
   ],
   "source": [
    "sample_learning_rate = CustomSchedule(d_model=128)\n",
    "\n",
    "plt.plot(sample_learning_rate(tf.range(200000, dtype=tf.float32)))\n",
    "plt.ylabel(\"Learning Rate\")\n",
    "plt.xlabel(\"Train Step\")"
   ]
  },
  {
   "cell_type": "code",
   "execution_count": 285,
   "metadata": {
    "colab": {
     "base_uri": "https://localhost:8080/"
    },
    "id": "-NvUkA4lzH3L",
    "outputId": "34b679dc-3215-48b2-e4b4-def358c28ba9"
   },
   "outputs": [
    {
     "name": "stdout",
     "output_type": "stream",
     "text": [
      "슝=3\n"
     ]
    }
   ],
   "source": [
    "learning_rate = CustomSchedule(D_MODEL)\n",
    "\n",
    "optimizer = tf.keras.optimizers.Adam(\n",
    "    learning_rate, beta_1=0.9, beta_2=0.98, epsilon=1e-9)\n",
    "\n",
    "def accuracy(y_true, y_pred):\n",
    "    # 여기도 y_pred의 길이에 맞춰 y_true를 reshape\n",
    "    y_true = tf.reshape(y_true, shape=(-1, tf.shape(y_pred)[1]))\n",
    "    return tf.keras.metrics.sparse_categorical_accuracy(y_true, y_pred)\n",
    "\n",
    "model.compile(optimizer=optimizer, loss=loss_function, metrics=[accuracy])\n",
    "print(\"슝=3\")"
   ]
  },
  {
   "cell_type": "code",
   "execution_count": 286,
   "metadata": {
    "colab": {
     "base_uri": "https://localhost:8080/",
     "height": 1000
    },
    "id": "j9gIwkXrzK-2",
    "outputId": "43817dcf-e603-44c1-e22f-76a57ab22e8d"
   },
   "outputs": [
    {
     "name": "stdout",
     "output_type": "stream",
     "text": [
      "Epoch 1/10\n",
      "370/370 [==============================] - 158s 396ms/step - loss: 4.5943 - accuracy: 0.7830\n",
      "Epoch 2/10\n",
      "370/370 [==============================] - 150s 404ms/step - loss: 1.1844 - accuracy: 0.8371\n",
      "Epoch 3/10\n",
      "370/370 [==============================] - 150s 405ms/step - loss: 1.1263 - accuracy: 0.8375\n",
      "Epoch 4/10\n",
      "370/370 [==============================] - 150s 405ms/step - loss: 1.1038 - accuracy: 0.8376\n",
      "Epoch 5/10\n",
      "370/370 [==============================] - 150s 405ms/step - loss: 1.0879 - accuracy: 0.8375\n",
      "Epoch 6/10\n",
      "370/370 [==============================] - 150s 405ms/step - loss: 1.0760 - accuracy: 0.8373\n",
      "Epoch 7/10\n",
      "370/370 [==============================] - 150s 405ms/step - loss: 1.0646 - accuracy: 0.8372\n",
      "Epoch 8/10\n",
      "370/370 [==============================] - 150s 405ms/step - loss: 1.0556 - accuracy: 0.8373\n",
      "Epoch 9/10\n",
      "370/370 [==============================] - 150s 405ms/step - loss: 1.0486 - accuracy: 0.8371\n",
      "Epoch 10/10\n",
      "370/370 [==============================] - 150s 405ms/step - loss: 1.0431 - accuracy: 0.8371\n"
     ]
    }
   ],
   "source": [
    "# Train the model\n",
    "EPOCHS = 10\n",
    "history = model.fit(dataset, epochs=EPOCHS, verbose=1)"
   ]
  },
  {
   "cell_type": "code",
   "execution_count": 287,
   "metadata": {},
   "outputs": [
    {
     "data": {
      "image/png": "[encoded data removed]",
      "text/plain": [
       "<Figure size 432x288 with 1 Axes>"
      ]
     },
     "metadata": {
      "needs_background": "light"
     },
     "output_type": "display_data"
    },
    {
     "data": {
      "image/png": "[encoded data removed]",
      "text/plain": [
       "<Figure size 432x288 with 1 Axes>"
      ]
     },
     "metadata": {
      "needs_background": "light"
     },
     "output_type": "display_data"
    }
   ],
   "source": [
    "# Plot Training History\n",
    "plt.plot(history.history['accuracy'], label='Training Accuracy')\n",
    "#plt.plot(history.history['val_accuracy'], label='Validation Accuracy')\n",
    "plt.legend()\n",
    "plt.title('Accuracy over Epochs')\n",
    "plt.xlabel('Epoch')\n",
    "plt.ylabel('Accuracy')\n",
    "plt.show()\n",
    "\n",
    "plt.plot(history.history['loss'], label='Training Loss')\n",
    "#plt.plot(history.history['val_loss'], label='Validation Loss')\n",
    "plt.legend()\n",
    "plt.title('Loss over Epochs')\n",
    "plt.xlabel('Epoch')\n",
    "plt.ylabel('Loss')\n",
    "plt.show()"
   ]
  },
  {
   "cell_type": "code",
   "execution_count": 288,
   "metadata": {},
   "outputs": [
    {
     "name": "stdout",
     "output_type": "stream",
     "text": [
      "슝=3\n"
     ]
    }
   ],
   "source": [
    "def decoder_inference(sentence):\n",
    "  sentence = preprocess_sentence(sentence)\n",
    "\n",
    "  # 입력된 문장을 정수 인코딩 후, 시작 토큰과 종료 토큰을 앞뒤로 추가.\n",
    "  # ex) Where have you been? → [[8331   86   30    5 1059    7 8332]]\n",
    "  sentence = tf.expand_dims(\n",
    "      START_TOKEN + tokenizer.encode(sentence) + END_TOKEN, axis=0)\n",
    "\n",
    "  # 디코더의 현재까지의 예측한 출력 시퀀스가 지속적으로 저장되는 변수.\n",
    "  # 처음에는 예측한 내용이 없음으로 시작 토큰만 별도 저장. ex) 8331\n",
    "  output_sequence = tf.expand_dims(START_TOKEN, 0)\n",
    "\n",
    "  # 디코더의 인퍼런스 단계\n",
    "  for i in range(MAX_LENGTH):\n",
    "    # 디코더는 최대 MAX_LENGTH의 길이만큼 다음 단어 예측을 반복합니다.\n",
    "    predictions = model(inputs=[sentence, output_sequence], training=False)\n",
    "    predictions = predictions[:, -1:, :]\n",
    "\n",
    "    # 현재 예측한 단어의 정수\n",
    "    predicted_id = tf.cast(tf.argmax(predictions, axis=-1), tf.int32)\n",
    "\n",
    "    # 만약 현재 예측한 단어가 종료 토큰이라면 for문을 종료\n",
    "    if tf.equal(predicted_id, END_TOKEN[0]):\n",
    "      break\n",
    "\n",
    "    # 예측한 단어들은 지속적으로 output_sequence에 추가됩니다.\n",
    "    # 이 output_sequence는 다시 디코더의 입력이 됩니다.\n",
    "    output_sequence = tf.concat([output_sequence, predicted_id], axis=-1)\n",
    "\n",
    "  return tf.squeeze(output_sequence, axis=0)\n",
    "print(\"슝=3\")"
   ]
  },
  {
   "cell_type": "code",
   "execution_count": 289,
   "metadata": {},
   "outputs": [],
   "source": [
    "def sentence_generation(sentence):\n",
    "    # 입력 문장을 정수 시퀀스로 변환\n",
    "    sentence = tokenizer.encode(sentence)\n",
    "    sentence = pad_sequences([sentence], maxlen=MAX_LENGTH, padding='post')\n",
    "\n",
    "    # 디코더 입력 초기화 (시작 토큰 추가)\n",
    "    output_sequence = tf.constant([[START_TOKEN]], dtype=tf.int32)  # 2D로 초기화\n",
    "\n",
    "    # output_sequence를 항상 3D로 유지\n",
    "    output_sequence = tf.expand_dims(output_sequence, axis=-1)  # (1, 1, 1)\n",
    "\n",
    "    for i in range(MAX_LENGTH):\n",
    "        # 모델을 통해 다음 토큰 예측\n",
    "        predictions = model(inputs=sentence, training=False)\n",
    "        predictions = predictions[:, -1:, :]  # 마지막 토큰 예측 결과만 가져옴\n",
    "        predicted_id = tf.argmax(predictions, axis=-1, output_type=tf.int32)  # tf.int32로 변환\n",
    "\n",
    "        # predicted_id를 3D로 변환\n",
    "        predicted_id = tf.reshape(predicted_id, [1, 1, 1])  # 3D로 확장\n",
    "\n",
    "        # 출력 시퀀스에 추가\n",
    "        output_sequence = tf.concat([output_sequence, predicted_id], axis=1)  # 3D 연결\n",
    "\n",
    "    # 최종 시퀀스를 1D로 변환\n",
    "    output_sequence = tf.squeeze(output_sequence, axis=-1)  # (1, seq_len)\n",
    "    return tokenizer.decode(output_sequence.numpy().flatten())"
   ]
  },
  {
   "cell_type": "code",
   "execution_count": 291,
   "metadata": {},
   "outputs": [],
   "source": [
    "#sentence_generation(\"안녕하세요\")"
   ]
  }
 ],
 "metadata": {
  "colab": {
   "provenance": []
  },
  "kernelspec": {
   "display_name": "Python 3 (ipykernel)",
   "language": "python",
   "name": "python3"
  },
  "language_info": {
   "codemirror_mode": {
    "name": "ipython",
    "version": 3
   },
   "file_extension": ".py",
   "mimetype": "text/x-python",
   "name": "python",
   "nbconvert_exporter": "python",
   "pygments_lexer": "ipython3",
   "version": "3.9.7"
  }
 },
 "nbformat": 4,
 "nbformat_minor": 1
}
